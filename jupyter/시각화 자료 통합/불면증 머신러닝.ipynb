{
 "cells": [
  {
   "cell_type": "code",
   "execution_count": 2,
   "metadata": {},
   "outputs": [],
   "source": [
    "import pandas as pd"
   ]
  },
  {
   "cell_type": "markdown",
   "metadata": {},
   "source": [
    "1. 불면증 데이터 전처리"
   ]
  },
  {
   "cell_type": "code",
   "execution_count": 36,
   "metadata": {},
   "outputs": [],
   "source": [
    "# 원본 불면증 csv 파일 읽기\n",
    "insomnia = pd.read_csv('data2/지역별 불면증 진료현황(2019년~2023년).csv', encoding='cp949', header=1)"
   ]
  },
  {
   "cell_type": "code",
   "execution_count": 37,
   "metadata": {},
   "outputs": [],
   "source": [
    "# 첫 번째, 두 번째 컬럼명을 각각 '시도', '시군구'로 변경\n",
    "insomnia.rename(columns={insomnia.columns[0]: '시도', insomnia.columns[1]: '시군구'}, inplace=True)"
   ]
  },
  {
   "cell_type": "code",
   "execution_count": 38,
   "metadata": {},
   "outputs": [],
   "source": [
    "# 서울, 경기, 인천 데이터만 추출 \n",
    "insomnia = insomnia[insomnia['시도'].isin(['서울', '경기', '인천'])]"
   ]
  },
  {
   "cell_type": "code",
   "execution_count": 39,
   "metadata": {},
   "outputs": [],
   "source": [
    "# '중구' 중복 처리\n",
    "# 서울과 인천의 '중구'는 각각 '서울중구', '인천중구'로 변경하여 고유값 확보\n",
    "insomnia.loc[(insomnia['시도'] == '서울') & (insomnia['시군구'] == '중구'), '시군구'] = '서울중구'\n",
    "insomnia.loc[(insomnia['시도'] == '인천') & (insomnia['시군구'] == '중구'), '시군구'] = '인천중구'"
   ]
  },
  {
   "cell_type": "code",
   "execution_count": 40,
   "metadata": {},
   "outputs": [],
   "source": [
    "# 각 연도별 데이터 추출 함수 정의 \n",
    "def extract_year_data(df, col_index, code_suffix):\n",
    "    temp = df.iloc[:, [0, 1, col_index]].copy()\n",
    "    temp.rename(columns={temp.columns[2]: '환자수'}, inplace=True)\n",
    "    temp['시군구코드'] = temp['시군구'] + str(code_suffix)\n",
    "    return temp"
   ]
  },
  {
   "cell_type": "code",
   "execution_count": 41,
   "metadata": {},
   "outputs": [],
   "source": [
    "# 연도별(2019~2022) 데이터 추출 \n",
    "insomnia_2019 = extract_year_data(insomnia, 4, 1)   # 2019년 데이터\n",
    "insomnia_2020 = extract_year_data(insomnia, 7, 2)   # 2020년 데이터\n",
    "insomnia_2021 = extract_year_data(insomnia, 10, 3)  # 2021년 데이터\n",
    "insomnia_2022 = extract_year_data(insomnia, 13, 4)  # 2022년 데이터"
   ]
  },
  {
   "cell_type": "code",
   "execution_count": 42,
   "metadata": {},
   "outputs": [],
   "source": [
    "# 연도별 데이터를 단일 데이터프레임으로 합치기 \n",
    "insomnia = pd.concat([insomnia_2019, insomnia_2020, insomnia_2021, insomnia_2022], axis=0)"
   ]
  },
  {
   "cell_type": "code",
   "execution_count": 43,
   "metadata": {},
   "outputs": [
    {
     "name": "stdout",
     "output_type": "stream",
     "text": [
      "시군구 고유값입니다.\n"
     ]
    }
   ],
   "source": [
    "# 시군구코드 고유값 확인\n",
    "if insomnia['시군구코드'].duplicated().any():\n",
    "    print('시군구 고유값이 아닙니다.')\n",
    "else:\n",
    "    print('시군구 고유값입니다.')"
   ]
  },
  {
   "cell_type": "code",
   "execution_count": 44,
   "metadata": {},
   "outputs": [],
   "source": [
    "insomnia.to_csv('data2/불면증.csv', index=False, encoding='cp949')"
   ]
  },
  {
   "cell_type": "markdown",
   "metadata": {},
   "source": [
    "2. 배달 데이터 전처리"
   ]
  },
  {
   "cell_type": "code",
   "execution_count": 45,
   "metadata": {},
   "outputs": [],
   "source": [
    "# 파일에서 사용할 공통 컬럼명 정의\n",
    "cols = ['년', '시군구코드', '광역시도명', '시군구명',\n",
    "        '세대구성대분류명', '세대구성중분류명', '세대구성소분류명', '단위', '빈도']"
   ]
  },
  {
   "cell_type": "code",
   "execution_count": 46,
   "metadata": {},
   "outputs": [],
   "source": [
    "# 배달 데이터 CSV 파일 읽기\n",
    "delivery_df = pd.read_csv('data2/KGU_2nd_ORIGIN_KGURESIDEINFO_20211013000000.csv', names=cols, header=None)\n",
    "delivery_df1 = pd.read_csv('data2/KGU_2nd_ORIGIN_KGURESIDEINFO_20200918000000.csv', names=cols, header=None)"
   ]
  },
  {
   "cell_type": "code",
   "execution_count": 47,
   "metadata": {},
   "outputs": [],
   "source": [
    "# 불필요한 컬럼 삭제 \n",
    "drop_cols = ['시군구코드', '세대구성대분류명', '세대구성중분류명', '세대구성소분류명', '단위']\n",
    "delivery_df.drop(columns=drop_cols, inplace=True)\n",
    "delivery_df1.drop(columns=drop_cols, inplace=True)"
   ]
  },
  {
   "cell_type": "code",
   "execution_count": 48,
   "metadata": {},
   "outputs": [],
   "source": [
    "# '다섯가구 미만'을 숫자 5로 변경 -> '빈도' 컬럼 숫자형 변환 \n",
    "for d in [delivery_df, delivery_df1]:\n",
    "    d['빈도'] = d['빈도'].replace({'다섯가구 미만': '5'})\n",
    "    d['빈도'] = pd.to_numeric(d['빈도'], errors='coerce')"
   ]
  },
  {
   "cell_type": "code",
   "execution_count": 49,
   "metadata": {},
   "outputs": [],
   "source": [
    "# '중구' 중복 처리\n",
    "# 서울특별시와 인천광역시의 '중구'를 각각 '서울중구', '인천중구'로 변경\n",
    "for d in [delivery_df, delivery_df1]:\n",
    "    d.loc[(d['광역시도명'] == '서울특별시') & (d['시군구명'] == '중구'), '시군구명'] = '서울중구'\n",
    "    d.loc[(d['광역시도명'] == '인천광역시') & (d['시군구명'] == '중구'), '시군구명'] = '인천중구'"
   ]
  },
  {
   "cell_type": "code",
   "execution_count": 50,
   "metadata": {},
   "outputs": [],
   "source": [
    "# 서울, 경기도, 인천광역시 데이터만 추출\n",
    "valid_regions = ['서울특별시', '경기도', '인천광역시']\n",
    "delivery_df = delivery_df[delivery_df['광역시도명'].isin(valid_regions)]\n",
    "delivery_df1 = delivery_df1[delivery_df1['광역시도명'].isin(valid_regions)]"
   ]
  },
  {
   "cell_type": "code",
   "execution_count": 51,
   "metadata": {},
   "outputs": [],
   "source": [
    "# 중복된 시군구명의 '빈도'는 합산하여 집계\n",
    "# 최신 데이터부터 '시군구' + 4, 3, 2, 1순으로 코드 부여\n",
    "delivery_2020 = delivery_df.groupby('시군구명', as_index=False).agg({\n",
    "    '년': 'first',\n",
    "    '광역시도명': 'first',\n",
    "    '빈도': 'sum'\n",
    "})\n",
    "\n",
    "# 2020년 데이터에 시군구코드 추가\n",
    "delivery_2020['시군구코드'] = delivery_2020['시군구명'] + '4'  # 2020년 코드: 접미사 '4'"
   ]
  },
  {
   "cell_type": "code",
   "execution_count": 52,
   "metadata": {},
   "outputs": [],
   "source": [
    "# 2017~2019년 데이터 처리 함수 정의\n",
    "def process_delivery_year(data, year, code_suffix):\n",
    "    \"\"\"\n",
    "    data: 원본 배달 데이터 (df1)\n",
    "    year: 추출할 연도\n",
    "    code_suffix: 시군구코드에 붙일 접미사\n",
    "    \"\"\"\n",
    "    temp = data[data['년'] == year].copy()\n",
    "    # 시군구별로 중복이 있을 경우 '빈도' 합산\n",
    "    temp = temp.groupby('시군구명', as_index=False).agg({\n",
    "        '년': 'first',\n",
    "        '광역시도명': 'first',\n",
    "        '빈도': 'sum'\n",
    "    })\n",
    "    temp['시군구코드'] = temp['시군구명'] + str(code_suffix)\n",
    "    return temp"
   ]
  },
  {
   "cell_type": "code",
   "execution_count": 53,
   "metadata": {},
   "outputs": [],
   "source": [
    "# 2017년, 2018년, 2019년 데이터 추출 \n",
    "delivery_2017 = process_delivery_year(delivery_df1, 2017, 1)\n",
    "delivery_2018 = process_delivery_year(delivery_df1, 2018, 2)\n",
    "delivery_2019 = process_delivery_year(delivery_df1, 2019, 3)"
   ]
  },
  {
   "cell_type": "code",
   "execution_count": 54,
   "metadata": {},
   "outputs": [],
   "source": [
    "# 연도별 배달 데이터를 모두 합치기 \n",
    "delivery = pd.concat([delivery_2017, delivery_2018, delivery_2019, delivery_2020], axis=0)"
   ]
  },
  {
   "cell_type": "code",
   "execution_count": 55,
   "metadata": {},
   "outputs": [],
   "source": [
    "# 전처리 결과 저장\n",
    "delivery.to_csv('data2/배달_전처리.csv', index=False, encoding='cp949')"
   ]
  },
  {
   "cell_type": "markdown",
   "metadata": {},
   "source": [
    "3. 불면증 데이터와 배달 데이터 합치기"
   ]
  },
  {
   "cell_type": "code",
   "execution_count": 3,
   "metadata": {},
   "outputs": [],
   "source": [
    "# 저장한 CSV 파일 다시 읽기 \n",
    "insomnia = pd.read_csv('data2/불면증.csv', encoding='cp949')\n",
    "delivery = pd.read_csv('data2/배달_전처리.csv', encoding='cp949')"
   ]
  },
  {
   "cell_type": "code",
   "execution_count": 4,
   "metadata": {},
   "outputs": [
    {
     "name": "stdout",
     "output_type": "stream",
     "text": [
      "     시도  시군구     환자수 시군구코드\n",
      "40   경기  부천시   9,504  부천시1\n",
      "120  경기  부천시   9,641  부천시2\n",
      "200  경기  부천시  10,132  부천시3\n",
      "280  경기  부천시  10,316  부천시4\n"
     ]
    }
   ],
   "source": [
    "# 부천시 결측치 처리(배달 빈도에 부천시 상세 데이터 없음)\n",
    "# '시군구명' 열에서 '부천시'로 시작하지만 정확히 '부천시'와 같지는 않은 행을 찾아 마스크 생성\n",
    "mask = (insomnia['시군구'].str.startswith('부천시')) & (insomnia['시군구'] != '부천시')\n",
    "\n",
    "# 해당 조건(mask)에 해당하는 행들을 제외한 데이터프레임으로 갱신\n",
    "insomnia = insomnia[~mask]\n",
    "\n",
    "# 결과 확인 (삭제 후 '부천시'로 시작하는 행이 남아있는지 확인)\n",
    "print(insomnia[insomnia['시군구'].str.startswith('부천시')])"
   ]
  },
  {
   "cell_type": "code",
   "execution_count": 5,
   "metadata": {},
   "outputs": [],
   "source": [
    "# 두 데이터프레임을 시군구코드 기준으로 병합 (왼쪽: 불면증 데이터) \n",
    "merged_df = pd.merge(insomnia, delivery, on='시군구코드', how='left')"
   ]
  },
  {
   "cell_type": "code",
   "execution_count": 6,
   "metadata": {},
   "outputs": [],
   "source": [
    "# 불필요한 컬럼 삭제 \n",
    "# 여기서는 '년'과 '시군구명' 컬럼을 제거 (엑셀에서 이름 수정)\n",
    "merged_df.drop(columns=['년', '시군구명','광역시도명'], inplace=True)"
   ]
  },
  {
   "cell_type": "markdown",
   "metadata": {},
   "source": [
    "4. 범죄 빈발지 데이터 전처리"
   ]
  },
  {
   "cell_type": "code",
   "execution_count": 43,
   "metadata": {},
   "outputs": [],
   "source": [
    "# 사용할 컬럼명을 정의\n",
    "cols = ['신고년도', '시도', '시군구', '총신고수',\n",
    "        '가정폭력신고수', '데이트폭력신고수', '성폭력신고수',\n",
    "        '몰래카메라신고수', '살인신고수', '강도신고수', '절도신고수', '폭력신고수']"
   ]
  },
  {
   "cell_type": "code",
   "execution_count": 44,
   "metadata": {},
   "outputs": [],
   "source": [
    "# 각 연도별 범죄 데이터 파일을 읽기 (헤더가 없으므로 header=None)\n",
    "df1 = pd.read_csv('data2/범죄 빈발지 데이터 2019.csv', names=cols, header=None)  # 2019 데이터\n",
    "df2 = pd.read_csv('data2/범죄 빈발지 데이터 2021.csv', names=cols, header=None)  # 2021 데이터\n",
    "df3 = pd.read_csv('data2/범죄 빈발지 데이터 2022.csv', names=cols, header=None)  # 2022 데이터\n",
    "df4 = pd.read_csv('data2/범죄 빈발지 데이터 2023.csv', names=cols, header=None)  # 2023 데이터"
   ]
  },
  {
   "cell_type": "code",
   "execution_count": 45,
   "metadata": {},
   "outputs": [],
   "source": [
    "# 서울특별시, 경기도, 인천광역시 데이터만 추출\n",
    "valid_regions = ['서울특별시', '경기도', '인천광역시']\n",
    "df1 = df1[df1['시도'].isin(valid_regions)]\n",
    "df2 = df2[df2['시도'].isin(valid_regions)]\n",
    "df3 = df3[df3['시도'].isin(valid_regions)]\n",
    "df4 = df4[df4['시도'].isin(valid_regions)]"
   ]
  },
  {
   "cell_type": "code",
   "execution_count": 46,
   "metadata": {},
   "outputs": [],
   "source": [
    "# 중구 중복 처리 함수 정의\n",
    "# 서울특별시와 인천광역시의 '중구'를 각각 '서울중구', '인천중구'로 수정\n",
    "def remove_junggu(df):\n",
    "    df.loc[(df['시도'] == '서울특별시') & (df['시군구'] == '중구'), '시군구'] = '서울중구'\n",
    "    df.loc[(df['시도'] == '인천광역시') & (df['시군구'] == '중구'), '시군구'] = '인천중구'\n",
    "    return df"
   ]
  },
  {
   "cell_type": "code",
   "execution_count": 47,
   "metadata": {},
   "outputs": [],
   "source": [
    "# 각 데이터셋에 중구 수정 적용\n",
    "df1 = remove_junggu(df1)\n",
    "df2 = remove_junggu(df2)\n",
    "df3 = remove_junggu(df3)\n",
    "df4 = remove_junggu(df4)"
   ]
  },
  {
   "cell_type": "code",
   "execution_count": 57,
   "metadata": {},
   "outputs": [],
   "source": [
    "# 불필요한 컬럼 삭제 함수 정의\n",
    "\n",
    "def drop_unused_columns(df):\n",
    "    cols_to_drop = ['신고년도', '가정폭력신고수', '데이트폭력신고수', '성폭력신고수',\n",
    "                    '몰래카메라신고수', '살인신고수', '강도신고수', '절도신고수', '폭력신고수']\n",
    "    df.drop(columns=cols_to_drop, inplace=True)\n",
    "    return df"
   ]
  },
  {
   "cell_type": "code",
   "execution_count": 49,
   "metadata": {},
   "outputs": [],
   "source": [
    "# 각 데이터셋에 불필요한 컬럼 삭제 적용\n",
    "df1 = drop_unused_columns(df1)\n",
    "df2 = drop_unused_columns(df2)\n",
    "df3 = drop_unused_columns(df3)\n",
    "df4 = drop_unused_columns(df4)"
   ]
  },
  {
   "cell_type": "code",
   "execution_count": 50,
   "metadata": {},
   "outputs": [],
   "source": [
    "# '시군구코드' 생성\n",
    "df1['시군구코드'] = df1['시군구'].apply(lambda x: str(x) + '1')\n",
    "df2['시군구코드'] = df2['시군구'].apply(lambda x: str(x) + '2')\n",
    "df3['시군구코드'] = df3['시군구'].apply(lambda x: str(x) + '3')\n",
    "df4['시군구코드'] = df4['시군구'].apply(lambda x: str(x) + '4')"
   ]
  },
  {
   "cell_type": "code",
   "execution_count": 55,
   "metadata": {},
   "outputs": [],
   "source": [
    "# 연도별 범죄 데이터 합치기\n",
    "crime = pd.concat([df1, df2, df3, df4], axis=0)"
   ]
  },
  {
   "cell_type": "code",
   "execution_count": 62,
   "metadata": {},
   "outputs": [],
   "source": [
    "crime.drop(columns=['시도','시군구'], inplace=True)"
   ]
  },
  {
   "cell_type": "code",
   "execution_count": 63,
   "metadata": {},
   "outputs": [],
   "source": [
    "merged_df = pd.read_csv('data2/년도통합데이터.csv', encoding='cp949')"
   ]
  },
  {
   "cell_type": "code",
   "execution_count": 64,
   "metadata": {},
   "outputs": [],
   "source": [
    "merged_df = pd.merge(merged_df, crime, on='시군구코드', how='left')"
   ]
  },
  {
   "cell_type": "code",
   "execution_count": 65,
   "metadata": {},
   "outputs": [],
   "source": [
    "# 최종 결과 저장\n",
    "merged_df.to_csv('data2/최종_병합데이터.csv', index=False, encoding='cp949')"
   ]
  },
  {
   "cell_type": "markdown",
   "metadata": {},
   "source": [
    "## 머신러닝"
   ]
  },
  {
   "cell_type": "code",
   "execution_count": 21,
   "metadata": {},
   "outputs": [],
   "source": [
    "import pandas as pd\n",
    "import numpy as np"
   ]
  },
  {
   "cell_type": "code",
   "execution_count": 2,
   "metadata": {},
   "outputs": [],
   "source": [
    "# 필요한 라이브러리 import\n",
    "from sklearn.model_selection import train_test_split\n",
    "from sklearn.preprocessing import MinMaxScaler\n",
    "from sklearn.linear_model import LinearRegression\n",
    "from sklearn.metrics import mean_squared_error, r2_score"
   ]
  },
  {
   "cell_type": "code",
   "execution_count": 5,
   "metadata": {},
   "outputs": [],
   "source": [
    "# 최종 파일 불러오기\n",
    "data = pd.read_csv('data2/최종_병합데이터.csv', encoding='cp949')"
   ]
  },
  {
   "cell_type": "code",
   "execution_count": 6,
   "metadata": {},
   "outputs": [],
   "source": [
    "# '환자수' 컬럼에 천단위 구분 쉼표가 포함되어 있을 경우, 이를 제거한 후 숫자형으로 변환합니다.\n",
    "data['환자수'] = data['환자수'].astype(str).str.replace(',', '', regex=False)\n",
    "data['환자수'] = pd.to_numeric(data['환자수'])"
   ]
  },
  {
   "cell_type": "code",
   "execution_count": 7,
   "metadata": {},
   "outputs": [
    {
     "name": "stdout",
     "output_type": "stream",
     "text": [
      "<class 'pandas.core.frame.DataFrame'>\n",
      "RangeIndex: 308 entries, 0 to 307\n",
      "Data columns (total 6 columns):\n",
      " #   Column  Non-Null Count  Dtype  \n",
      "---  ------  --------------  -----  \n",
      " 0   시도      308 non-null    object \n",
      " 1   시군구     308 non-null    object \n",
      " 2   환자수     308 non-null    int64  \n",
      " 3   시군구코드   308 non-null    object \n",
      " 4   빈도      308 non-null    float64\n",
      " 5   총신고수    308 non-null    int64  \n",
      "dtypes: float64(1), int64(2), object(3)\n",
      "memory usage: 14.6+ KB\n"
     ]
    }
   ],
   "source": [
    "# 예측에 사용할 다른 변수들을 숫자형으로 변환\n",
    "data['빈도'] = pd.to_numeric(data['빈도'])\n",
    "data['총신고수'] = pd.to_numeric(data['총신고수'])\n",
    "\n",
    "data.info()"
   ]
  },
  {
   "cell_type": "code",
   "execution_count": 8,
   "metadata": {},
   "outputs": [],
   "source": [
    "# 필요한 변수들만 추출하고 결측치 제거\n",
    "df = data[['환자수', '빈도', '총신고수']].dropna()"
   ]
  },
  {
   "cell_type": "code",
   "execution_count": 9,
   "metadata": {},
   "outputs": [],
   "source": [
    "# 독립변수(X)와 종속변수(y) 정의\n",
    "X = df[['빈도', '총신고수']]\n",
    "y = df['환자수']"
   ]
  },
  {
   "cell_type": "code",
   "execution_count": 10,
   "metadata": {},
   "outputs": [],
   "source": [
    "# 2. 학습/테스트 셋 분리\n",
    "X_train, X_test, y_train, y_test = train_test_split(X, y, test_size=0.2, random_state=42)"
   ]
  },
  {
   "cell_type": "code",
   "execution_count": 11,
   "metadata": {},
   "outputs": [],
   "source": [
    "# 3. 스케일링\n",
    "scaler = MinMaxScaler()\n",
    "X_train_scaled = scaler.fit_transform(X_train)\n",
    "X_test_scaled = scaler.transform(X_test)"
   ]
  },
  {
   "cell_type": "code",
   "execution_count": 17,
   "metadata": {},
   "outputs": [],
   "source": [
    "# 4. Linear Regression 모델 학습 및 예측\n",
    "model = LinearRegression()\n",
    "model.fit(X_train_scaled, y_train)\n",
    "y_pred = model.predict(X_test_scaled)"
   ]
  },
  {
   "cell_type": "code",
   "execution_count": null,
   "metadata": {},
   "outputs": [],
   "source": [
    "coef = model.coef_\n",
    "intercept = model.intercept_"
   ]
  },
  {
   "cell_type": "code",
   "execution_count": 22,
   "metadata": {},
   "outputs": [
    {
     "name": "stdout",
     "output_type": "stream",
     "text": [
      "\n",
      "계수(Feature Coefficients):\n",
      "  Feature   Coefficient  Absolute Coefficient\n",
      "0      빈도  10488.377207          10488.377207\n",
      "1    총신고수    362.124623            362.124623\n"
     ]
    }
   ],
   "source": [
    "coef_df = pd.DataFrame({\n",
    "    'Feature': ['빈도', '총신고수'],\n",
    "    'Coefficient': coef,\n",
    "    'Absolute Coefficient': np.abs(coef)\n",
    "})\n",
    "print(\"\\n계수(Feature Coefficients):\")\n",
    "print(coef_df.sort_values(by='Absolute Coefficient', ascending=False))"
   ]
  },
  {
   "cell_type": "code",
   "execution_count": 28,
   "metadata": {},
   "outputs": [],
   "source": [
    "import matplotlib.pyplot as plt\n",
    "import seaborn as sns\n",
    "plt.rc('font', family='Malgun Gothic')"
   ]
  },
  {
   "cell_type": "code",
   "execution_count": 29,
   "metadata": {},
   "outputs": [
    {
     "name": "stderr",
     "output_type": "stream",
     "text": [
      "C:\\Users\\user\\AppData\\Local\\Temp\\ipykernel_6616\\2991007363.py:2: FutureWarning: \n",
      "\n",
      "Passing `palette` without assigning `hue` is deprecated and will be removed in v0.14.0. Assign the `x` variable to `hue` and set `legend=False` for the same effect.\n",
      "\n",
      "  sns.barplot(data=coef_df.sort_values(by='Absolute Coefficient', ascending=False),\n"
     ]
    },
    {
     "data": {
      "image/png": "[encoded data removed]",
      "text/plain": [
       "<Figure size 800x600 with 1 Axes>"
      ]
     },
     "metadata": {},
     "output_type": "display_data"
    }
   ],
   "source": [
    "plt.figure(figsize=(8, 6))\n",
    "sns.barplot(data=coef_df.sort_values(by='Absolute Coefficient', ascending=False),\n",
    "            x='Feature', y='Coefficient', palette='viridis')\n",
    "plt.title('Linear Regression: Feature Coefficients')\n",
    "plt.ylabel('Coefficient Value')\n",
    "plt.xlabel('Feature')\n",
    "plt.show()\n"
   ]
  },
  {
   "cell_type": "code",
   "execution_count": null,
   "metadata": {},
   "outputs": [],
   "source": []
  },
  {
   "cell_type": "code",
   "execution_count": 66,
   "metadata": {},
   "outputs": [
    {
     "data": {
      "image/png": "[encoded data removed]",
      "text/plain": [
       "<Figure size 800x600 with 1 Axes>"
      ]
     },
     "metadata": {},
     "output_type": "display_data"
    }
   ],
   "source": [
    "# Figure와 Axes 객체 생성\n",
    "fig, ax = plt.subplots(figsize=(8, 6))\n",
    "\n",
    "# Figure 배경색 설정\n",
    "fig.patch.set_facecolor('#070F2B')\n",
    "\n",
    "# Axes 배경색 설정\n",
    "ax.set_facecolor('none')\n",
    "\n",
    "ax.scatter(y_test, y_pred, alpha=0.7, edgecolor='yellow', color='yellow')\n",
    "ax.plot([y_test.min(), y_test.max()], [y_test.min(), y_test.max()], 'r--', lw=2)\n",
    "ax.set_xlabel('Actual 환자수', color=\"white\")\n",
    "ax.set_ylabel('Predicted 환자수', color=\"white\")\n",
    "ax.set_title('Actual vs Predicted 환자수', color=\"white\")\n",
    "\n",
    "# # 테두리 선 색상 설정\n",
    "for spine in ax.spines.values():\n",
    "    spine.set_edgecolor('white')\n",
    "\n",
    "# X, Y 축 눈금과 눈금 레이블 색상 설정\n",
    "ax.tick_params(axis='x', colors='white')\n",
    "ax.tick_params(axis='y', colors='white')\n",
    "\n",
    "plt.show()\n"
   ]
  },
  {
   "cell_type": "code",
   "execution_count": 43,
   "metadata": {},
   "outputs": [
    {
     "data": {
      "image/png": "[encoded data removed]",
      "text/plain": [
       "<Figure size 800x600 with 1 Axes>"
      ]
     },
     "metadata": {},
     "output_type": "display_data"
    }
   ],
   "source": [
    "plt.figure(figsize=(8, 6))\n",
    "ax = plt.gca()\n",
    "ax.set_facecolor((0, 0, 0, 0))\n",
    "\n",
    "plt.scatter(y_test, y_pred, alpha=0.7, edgecolor='k')\n",
    "plt.plot([y_test.min(), y_test.max()], [y_test.min(), y_test.max()], 'r--', lw=2)\n",
    "\n",
    "plt.xlabel('실제환자 수', color=\"white\")\n",
    "plt.ylabel('예측환자 수', color=\"white\")\n",
    "plt.title('회귀식 도출결과', color=\"white\")\n",
    "plt.show()"
   ]
  },
  {
   "cell_type": "code",
   "execution_count": 31,
   "metadata": {},
   "outputs": [
    {
     "name": "stderr",
     "output_type": "stream",
     "text": [
      "c:\\data_analysis\\.venv\\Lib\\site-packages\\IPython\\core\\pylabtools.py:170: UserWarning: Glyph 8722 (\\N{MINUS SIGN}) missing from font(s) Malgun Gothic.\n",
      "  fig.canvas.print_figure(bytes_io, **kw)\n"
     ]
    },
    {
     "data": {
      "image/png": "[encoded data removed]",
      "text/plain": [
       "<Figure size 800x600 with 1 Axes>"
      ]
     },
     "metadata": {},
     "output_type": "display_data"
    }
   ],
   "source": [
    "residuals = y_test - y_pred\n",
    "plt.figure(figsize=(8, 6))\n",
    "sns.histplot(residuals, kde=True, color='orange')\n",
    "plt.title('Distribution of Residuals')\n",
    "plt.xlabel('Residuals')\n",
    "plt.show()"
   ]
  },
  {
   "cell_type": "code",
   "execution_count": 14,
   "metadata": {},
   "outputs": [
    {
     "name": "stdout",
     "output_type": "stream",
     "text": [
      "Mean Squared Error: 5152266.270380136\n",
      "R^2 Score: 0.43748811094145046\n"
     ]
    }
   ],
   "source": [
    "mse = mean_squared_error(y_test, y_pred)\n",
    "r2 = r2_score(y_test, y_pred)\n",
    "print(\"Mean Squared Error:\", mse)\n",
    "print(\"R^2 Score:\", r2)"
   ]
  },
  {
   "cell_type": "code",
   "execution_count": 15,
   "metadata": {},
   "outputs": [],
   "source": [
    "# 4-1. RandomForestRegressor 모델 학습 및 예측\n",
    "from sklearn.ensemble import RandomForestRegressor\n",
    "\n",
    "rf_model = RandomForestRegressor(n_estimators=100)\n",
    "rf_model.fit(X_train, y_train)\n",
    "\n",
    "y1_pred = rf_model.predict(X_test)"
   ]
  },
  {
   "cell_type": "code",
   "execution_count": 16,
   "metadata": {},
   "outputs": [
    {
     "name": "stdout",
     "output_type": "stream",
     "text": [
      "Mean Squared Error: 5215630.8070129035\n",
      "R^2 Score: 0.43057012508238734\n"
     ]
    }
   ],
   "source": [
    "mse = mean_squared_error(y_test, y1_pred)\n",
    "r2 = r2_score(y_test, y1_pred)\n",
    "print(\"Mean Squared Error:\", mse)\n",
    "print(\"R^2 Score:\", r2)"
   ]
  },
  {
   "cell_type": "code",
   "execution_count": null,
   "metadata": {},
   "outputs": [],
   "source": []
  }
 ],
 "metadata": {
  "kernelspec": {
   "display_name": ".venv",
   "language": "python",
   "name": "python3"
  },
  "language_info": {
   "codemirror_mode": {
    "name": "ipython",
    "version": 3
   },
   "file_extension": ".py",
   "mimetype": "text/x-python",
   "name": "python",
   "nbconvert_exporter": "python",
   "pygments_lexer": "ipython3",
   "version": "3.11.9"
  }
 },
 "nbformat": 4,
 "nbformat_minor": 2
}
