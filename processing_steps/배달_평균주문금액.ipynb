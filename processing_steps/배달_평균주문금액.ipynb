{
 "cells": [
  {
   "cell_type": "markdown",
   "metadata": {},
   "source": [
    "# 야식(배달) 데이터 전처리\n",
    "## 평균 주문 금액"
   ]
  },
  {
   "cell_type": "code",
   "execution_count": 1,
   "metadata": {},
   "outputs": [],
   "source": [
    "import pandas as pd"
   ]
  },
  {
   "cell_type": "code",
   "execution_count": 3,
   "metadata": {},
   "outputs": [
    {
     "data": {
      "text/html": [
       "<div>\n",
       "<style scoped>\n",
       "    .dataframe tbody tr th:only-of-type {\n",
       "        vertical-align: middle;\n",
       "    }\n",
       "\n",
       "    .dataframe tbody tr th {\n",
       "        vertical-align: top;\n",
       "    }\n",
       "\n",
       "    .dataframe thead th {\n",
       "        text-align: right;\n",
       "    }\n",
       "</style>\n",
       "<table border=\"1\" class=\"dataframe\">\n",
       "  <thead>\n",
       "    <tr style=\"text-align: right;\">\n",
       "      <th></th>\n",
       "      <th>날짜</th>\n",
       "      <th>시간대별 시간</th>\n",
       "      <th>배달상점 업종명</th>\n",
       "      <th>목적지 광역시도명</th>\n",
       "      <th>목적지 시군구명</th>\n",
       "      <th>평균주문금액</th>\n",
       "    </tr>\n",
       "  </thead>\n",
       "  <tbody>\n",
       "    <tr>\n",
       "      <th>0</th>\n",
       "      <td>2021-01-01</td>\n",
       "      <td>0</td>\n",
       "      <td>돈까스/일식</td>\n",
       "      <td>경기도</td>\n",
       "      <td>동두천시</td>\n",
       "      <td>72667</td>\n",
       "    </tr>\n",
       "    <tr>\n",
       "      <th>1</th>\n",
       "      <td>2021-01-01</td>\n",
       "      <td>0</td>\n",
       "      <td>돈까스/일식</td>\n",
       "      <td>경기도</td>\n",
       "      <td>부천시</td>\n",
       "      <td>34877</td>\n",
       "    </tr>\n",
       "    <tr>\n",
       "      <th>2</th>\n",
       "      <td>2021-01-01</td>\n",
       "      <td>0</td>\n",
       "      <td>돈까스/일식</td>\n",
       "      <td>경기도</td>\n",
       "      <td>안산시 상록구</td>\n",
       "      <td>24420</td>\n",
       "    </tr>\n",
       "    <tr>\n",
       "      <th>3</th>\n",
       "      <td>2021-01-01</td>\n",
       "      <td>0</td>\n",
       "      <td>돈까스/일식</td>\n",
       "      <td>경기도</td>\n",
       "      <td>의정부시</td>\n",
       "      <td>31600</td>\n",
       "    </tr>\n",
       "    <tr>\n",
       "      <th>4</th>\n",
       "      <td>2021-01-01</td>\n",
       "      <td>0</td>\n",
       "      <td>돈까스/일식</td>\n",
       "      <td>경상남도</td>\n",
       "      <td>진주시</td>\n",
       "      <td>45333</td>\n",
       "    </tr>\n",
       "  </tbody>\n",
       "</table>\n",
       "</div>"
      ],
      "text/plain": [
       "           날짜  시간대별 시간 배달상점 업종명 목적지 광역시도명 목적지 시군구명  평균주문금액\n",
       "0  2021-01-01        0   돈까스/일식       경기도     동두천시   72667\n",
       "1  2021-01-01        0   돈까스/일식       경기도      부천시   34877\n",
       "2  2021-01-01        0   돈까스/일식       경기도  안산시 상록구   24420\n",
       "3  2021-01-01        0   돈까스/일식       경기도     의정부시   31600\n",
       "4  2021-01-01        0   돈까스/일식      경상남도      진주시   45333"
      ]
     },
     "execution_count": 3,
     "metadata": {},
     "output_type": "execute_result"
    }
   ],
   "source": [
    "# 데이터 불러오기\n",
    "column_names = ['날짜','시간대별 시간','배달상점 업종명','목적지 광역시도명','목적지 시군구명','평균주문금액']\n",
    "df = pd.read_csv('data/raw/KGU_3rd_ORIGIN_KGUDSTNAMOUNT_20210101000000.csv', names=column_names, header=None)\n",
    "df.head()"
   ]
  },
  {
   "cell_type": "code",
   "execution_count": 4,
   "metadata": {},
   "outputs": [],
   "source": [
    "# 서울, 경기, 인천 필터링\n",
    "order_price_df = df[(df['목적지 광역시도명'].isin(['서울특별시', '경기도', '인천광역시']))]"
   ]
  },
  {
   "cell_type": "markdown",
   "metadata": {},
   "source": [
    "2021년도 날짜 맞추기"
   ]
  },
  {
   "cell_type": "code",
   "execution_count": 5,
   "metadata": {},
   "outputs": [
    {
     "data": {
      "text/plain": [
       "dtype('O')"
      ]
     },
     "execution_count": 5,
     "metadata": {},
     "output_type": "execute_result"
    }
   ],
   "source": [
    "order_price_df['날짜'].dtype"
   ]
  },
  {
   "cell_type": "code",
   "execution_count": null,
   "metadata": {},
   "outputs": [],
   "source": [
    "order_price_df['날짜'] = order_price_df['날짜'].str.split('-').str[0]"
   ]
  },
  {
   "cell_type": "markdown",
   "metadata": {},
   "source": [
    "야간 배달 필터링\n",
    "- 기준 시간 (20~06시)"
   ]
  },
  {
   "cell_type": "code",
   "execution_count": 9,
   "metadata": {},
   "outputs": [],
   "source": [
    "order_price_df = order_price_df[order_price_df['시간대별 시간'].isin(list(range(20, 24)) + list(range(0, 5)))]"
   ]
  },
  {
   "cell_type": "code",
   "execution_count": 10,
   "metadata": {},
   "outputs": [],
   "source": [
    "# 필요없는 컬럼 삭제\n",
    "order_price_df.drop(['배달상점 업종명'], axis=1, inplace=True)"
   ]
  },
  {
   "cell_type": "markdown",
   "metadata": {},
   "source": [
    "시군구2 : 경기/인천 '구' 단위 → '시' 단위 통합"
   ]
  },
  {
   "cell_type": "code",
   "execution_count": 12,
   "metadata": {},
   "outputs": [],
   "source": [
    "def replace_values_with_multiple_substrings(order_price_df, column, replacements):\n",
    "  for old_value, new_value in replacements.items():\n",
    "        order_price_df.loc[order_price_df[column].str.contains(old_value, na=False), column] = new_value\n",
    "  return order_price_df\n",
    "\n",
    "replacements = {\n",
    "    '수원시': '수원시',\n",
    "    '성남시': '성남시',\n",
    "    '안양시': '안양시',\n",
    "    '부천시': '부천시',\n",
    "    '안산시': '안산시',\n",
    "    '고양시': '고양시',\n",
    "    '용인시': '용인시',\n",
    "}\n",
    "order_price_df['시군구2'] = order_price_df['목적지 시군구명']\n",
    "order_price_df = replace_values_with_multiple_substrings(order_price_df, '시군구2', replacements)"
   ]
  },
  {
   "cell_type": "code",
   "execution_count": 21,
   "metadata": {},
   "outputs": [],
   "source": [
    "order_price_df.to_csv('data1/order_price.csv')"
   ]
  }
 ],
 "metadata": {
  "kernelspec": {
   "display_name": "Python 3",
   "language": "python",
   "name": "python3"
  },
  "language_info": {
   "codemirror_mode": {
    "name": "ipython",
    "version": 3
   },
   "file_extension": ".py",
   "mimetype": "text/x-python",
   "name": "python",
   "nbconvert_exporter": "python",
   "pygments_lexer": "ipython3",
   "version": "3.11.9"
  }
 },
 "nbformat": 4,
 "nbformat_minor": 2
}
