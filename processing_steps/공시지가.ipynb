{
 "cells": [
  {
   "cell_type": "markdown",
   "metadata": {},
   "source": [
    "## 공시지가 데이터 전처리"
   ]
  },
  {
   "cell_type": "code",
   "execution_count": null,
   "metadata": {
    "id": "GJowmeTCB-u9"
   },
   "outputs": [],
   "source": [
    "import pandas as pd"
   ]
  },
  {
   "cell_type": "code",
   "execution_count": null,
   "metadata": {
    "id": "-v_nNN79B-vF",
    "outputId": "4c8f0659-f009-43f9-c028-5fbc715ce95b"
   },
   "outputs": [],
   "source": [
    "# 데이터 불러오기\n",
    "estate = pd.read_csv('./data/공시지가 관련/국토교통부_표준지공시지가_20240101.csv')\n",
    "\n",
    "estate.head()"
   ]
  },
  {
   "cell_type": "code",
   "execution_count": null,
   "metadata": {
    "id": "MUUsxrwxB-vH",
    "outputId": "8315604b-291d-4cd9-948b-8a1fd5a50ded"
   },
   "outputs": [
    {
     "data": {
      "text/plain": [
       "Index(['일련번호', '토지대장번호(PNU)', '시군구', '읍면동리', '지번구분', '본번지', '부번지', '시도명',\n",
       "       '시군구명', '소재지', '지목', '면적', '용도지역1', '용도지역2', '용도지구1', '계획시설저촉여부',\n",
       "       '계획시설', '기타제한1', '농지구분', '경지정리', '임야구분', '이용상황', '이용상황_기타', '주위환경',\n",
       "       '주위환경_기타', '지세', '형상', '방위', '도로거리', '도로교통', '철도거리', '하수거리', '전년지가',\n",
       "       '공시지가', '실제용도지대', '지리적위치1', '지리적위치2', '특수제한1', '특수제한2', '대규모_사업_방식',\n",
       "       '대규모_사업_단계', '도로구분', '위험시설접근성', '묘지소재불리여건', '중복지정용도지역'],\n",
       "      dtype='object')"
      ]
     },
     "execution_count": 35,
     "metadata": {},
     "output_type": "execute_result"
    }
   ],
   "source": [
    "estate.columns"
   ]
  },
  {
   "cell_type": "code",
   "execution_count": null,
   "metadata": {
    "id": "GxQSp1mVB-vI"
   },
   "outputs": [],
   "source": [
    "# 필요한 컬럼 필터링\n",
    "estate = estate[['시도명','시군구명','공시지가']]"
   ]
  },
  {
   "cell_type": "code",
   "execution_count": null,
   "metadata": {
    "id": "IxeKw3RfB-vJ",
    "outputId": "207f5d93-f7f8-40da-b937-140e2d22ad09"
   },
   "outputs": [
    {
     "data": {
      "text/plain": [
       "array(['서울특별시', '부산광역시', '대구광역시', '인천광역시', '광주광역시', '대전광역시', '울산광역시',\n",
       "       '세종특별자치시', '경기도', '충청북도', '충청남도', '전라남도', '경상북도', '경상남도',\n",
       "       '제주특별자치도', '강원특별자치도', '전북특별자치도'], dtype=object)"
      ]
     },
     "execution_count": 37,
     "metadata": {},
     "output_type": "execute_result"
    }
   ],
   "source": [
    "estate['시도명'].unique()"
   ]
  },
  {
   "cell_type": "markdown",
   "metadata": {},
   "source": [
    "**지역 필터링**"
   ]
  },
  {
   "cell_type": "code",
   "execution_count": null,
   "metadata": {
    "id": "rEQP7DKdB-vK",
    "outputId": "5edd831d-ecab-43f2-ef64-f29c356b7805"
   },
   "outputs": [
    {
     "data": {
      "text/html": [
       "<div>\n",
       "<style scoped>\n",
       "    .dataframe tbody tr th:only-of-type {\n",
       "        vertical-align: middle;\n",
       "    }\n",
       "\n",
       "    .dataframe tbody tr th {\n",
       "        vertical-align: top;\n",
       "    }\n",
       "\n",
       "    .dataframe thead th {\n",
       "        text-align: right;\n",
       "    }\n",
       "</style>\n",
       "<table border=\"1\" class=\"dataframe\">\n",
       "  <thead>\n",
       "    <tr style=\"text-align: right;\">\n",
       "      <th></th>\n",
       "      <th>시도명</th>\n",
       "      <th>시군구명</th>\n",
       "      <th>공시지가</th>\n",
       "    </tr>\n",
       "  </thead>\n",
       "  <tbody>\n",
       "    <tr>\n",
       "      <th>0</th>\n",
       "      <td>서울특별시</td>\n",
       "      <td>종로구</td>\n",
       "      <td>5150000</td>\n",
       "    </tr>\n",
       "    <tr>\n",
       "      <th>1</th>\n",
       "      <td>서울특별시</td>\n",
       "      <td>종로구</td>\n",
       "      <td>460200</td>\n",
       "    </tr>\n",
       "    <tr>\n",
       "      <th>2</th>\n",
       "      <td>서울특별시</td>\n",
       "      <td>종로구</td>\n",
       "      <td>669100</td>\n",
       "    </tr>\n",
       "    <tr>\n",
       "      <th>3</th>\n",
       "      <td>서울특별시</td>\n",
       "      <td>종로구</td>\n",
       "      <td>3987000</td>\n",
       "    </tr>\n",
       "    <tr>\n",
       "      <th>4</th>\n",
       "      <td>서울특별시</td>\n",
       "      <td>종로구</td>\n",
       "      <td>3842000</td>\n",
       "    </tr>\n",
       "    <tr>\n",
       "      <th>...</th>\n",
       "      <td>...</td>\n",
       "      <td>...</td>\n",
       "      <td>...</td>\n",
       "    </tr>\n",
       "    <tr>\n",
       "      <th>181303</th>\n",
       "      <td>경기도</td>\n",
       "      <td>양평군</td>\n",
       "      <td>173800</td>\n",
       "    </tr>\n",
       "    <tr>\n",
       "      <th>181304</th>\n",
       "      <td>경기도</td>\n",
       "      <td>양평군</td>\n",
       "      <td>56200</td>\n",
       "    </tr>\n",
       "    <tr>\n",
       "      <th>181305</th>\n",
       "      <td>경기도</td>\n",
       "      <td>양평군</td>\n",
       "      <td>209300</td>\n",
       "    </tr>\n",
       "    <tr>\n",
       "      <th>181306</th>\n",
       "      <td>경기도</td>\n",
       "      <td>양평군</td>\n",
       "      <td>12200</td>\n",
       "    </tr>\n",
       "    <tr>\n",
       "      <th>181307</th>\n",
       "      <td>경기도</td>\n",
       "      <td>양평군</td>\n",
       "      <td>3630</td>\n",
       "    </tr>\n",
       "  </tbody>\n",
       "</table>\n",
       "<p>115341 rows × 3 columns</p>\n",
       "</div>"
      ],
      "text/plain": [
       "          시도명 시군구명     공시지가\n",
       "0       서울특별시  종로구  5150000\n",
       "1       서울특별시  종로구   460200\n",
       "2       서울특별시  종로구   669100\n",
       "3       서울특별시  종로구  3987000\n",
       "4       서울특별시  종로구  3842000\n",
       "...       ...  ...      ...\n",
       "181303    경기도  양평군   173800\n",
       "181304    경기도  양평군    56200\n",
       "181305    경기도  양평군   209300\n",
       "181306    경기도  양평군    12200\n",
       "181307    경기도  양평군     3630\n",
       "\n",
       "[115341 rows x 3 columns]"
      ]
     },
     "execution_count": 62,
     "metadata": {},
     "output_type": "execute_result"
    }
   ],
   "source": [
    "# 서울/경기/인천 외 지역 제외\n",
    "seoul = estate['시도명'] == '서울특별시'\n",
    "gg = estate['시도명'] =='경기도'\n",
    "incheon = estate['시도명'] == '인천광역시'\n",
    "city = seoul| gg | incheon\n",
    "estate = estate[city]\n",
    "estate"
   ]
  },
  {
   "cell_type": "code",
   "execution_count": null,
   "metadata": {
    "id": "sZGkCWNTB-vK",
    "outputId": "0cd983be-68ba-499b-bbb2-faba4d63c999"
   },
   "outputs": [
    {
     "data": {
      "text/plain": [
       "array(['종로구', '중구', '용산구', '성동구', '광진구', '동대문구', '중랑구', '성북구', '강북구',\n",
       "       '도봉구', '노원구', '은평구', '서대문구', '마포구', '양천구', '강서구', '구로구', '금천구',\n",
       "       '영등포구', '동작구', '관악구', '서초구', '강남구', '송파구', '강동구', '동구', '미추홀구',\n",
       "       '연수구', '남동구', '부평구', '계양구', '서구', '강화군', '옹진군', '수원장안구', '수원권선구',\n",
       "       '수원팔달구', '수원영통구', '성남수정구', '성남중원구', '성남분당구', '의정부시', '안양만안구',\n",
       "       '안양동안구', '부천원미구', '부천소사구', '부천오정구', '광명시', '평택시', '동두천시', '안산상록구',\n",
       "       '안산단원구', '고양덕양구', '고양일산동구', '고양일산서구', '과천시', '구리시', '남양주시', '오산시',\n",
       "       '시흥시', '군포시', '의왕시', '하남시', '용인처인구', '용인기흥구', '용인수지구', '파주시',\n",
       "       '이천시', '안성시', '김포시', '화성시', '광주시', '양주시', '포천시', '여주시', '연천군',\n",
       "       '가평군', '양평군'], dtype=object)"
      ]
     },
     "execution_count": 39,
     "metadata": {},
     "output_type": "execute_result"
    }
   ],
   "source": [
    "estate['시군구명'].unique()"
   ]
  },
  {
   "cell_type": "markdown",
   "metadata": {},
   "source": [
    "**평균 공시지가 계산**"
   ]
  },
  {
   "cell_type": "code",
   "execution_count": null,
   "metadata": {
    "id": "Kg_KNzMyB-vL"
   },
   "outputs": [],
   "source": [
    "g_estate = estate.groupby(by='시군구명', as_index=False)['공시지가'].mean()"
   ]
  },
  {
   "cell_type": "code",
   "execution_count": null,
   "metadata": {
    "id": "2zPrdeurB-vL",
    "outputId": "9322cf49-4cd8-41f0-d7d7-e4156945ff25"
   },
   "outputs": [
    {
     "data": {
      "text/html": [
       "<div>\n",
       "<style scoped>\n",
       "    .dataframe tbody tr th:only-of-type {\n",
       "        vertical-align: middle;\n",
       "    }\n",
       "\n",
       "    .dataframe tbody tr th {\n",
       "        vertical-align: top;\n",
       "    }\n",
       "\n",
       "    .dataframe thead th {\n",
       "        text-align: right;\n",
       "    }\n",
       "</style>\n",
       "<table border=\"1\" class=\"dataframe\">\n",
       "  <thead>\n",
       "    <tr style=\"text-align: right;\">\n",
       "      <th></th>\n",
       "      <th>시군구명</th>\n",
       "      <th>공시지가</th>\n",
       "    </tr>\n",
       "  </thead>\n",
       "  <tbody>\n",
       "    <tr>\n",
       "      <th>0</th>\n",
       "      <td>가평군</td>\n",
       "      <td>1.425912e+05</td>\n",
       "    </tr>\n",
       "    <tr>\n",
       "      <th>1</th>\n",
       "      <td>강남구</td>\n",
       "      <td>1.680318e+07</td>\n",
       "    </tr>\n",
       "    <tr>\n",
       "      <th>2</th>\n",
       "      <td>강동구</td>\n",
       "      <td>5.667941e+06</td>\n",
       "    </tr>\n",
       "    <tr>\n",
       "      <th>3</th>\n",
       "      <td>강북구</td>\n",
       "      <td>3.519811e+06</td>\n",
       "    </tr>\n",
       "    <tr>\n",
       "      <th>4</th>\n",
       "      <td>강서구</td>\n",
       "      <td>4.261157e+06</td>\n",
       "    </tr>\n",
       "    <tr>\n",
       "      <th>...</th>\n",
       "      <td>...</td>\n",
       "      <td>...</td>\n",
       "    </tr>\n",
       "    <tr>\n",
       "      <th>73</th>\n",
       "      <td>파주시</td>\n",
       "      <td>3.356315e+05</td>\n",
       "    </tr>\n",
       "    <tr>\n",
       "      <th>74</th>\n",
       "      <td>평택시</td>\n",
       "      <td>6.349830e+05</td>\n",
       "    </tr>\n",
       "    <tr>\n",
       "      <th>75</th>\n",
       "      <td>포천시</td>\n",
       "      <td>1.834384e+05</td>\n",
       "    </tr>\n",
       "    <tr>\n",
       "      <th>76</th>\n",
       "      <td>하남시</td>\n",
       "      <td>2.540962e+06</td>\n",
       "    </tr>\n",
       "    <tr>\n",
       "      <th>77</th>\n",
       "      <td>화성시</td>\n",
       "      <td>4.114059e+05</td>\n",
       "    </tr>\n",
       "  </tbody>\n",
       "</table>\n",
       "<p>78 rows × 2 columns</p>\n",
       "</div>"
      ],
      "text/plain": [
       "   시군구명          공시지가\n",
       "0   가평군  1.425912e+05\n",
       "1   강남구  1.680318e+07\n",
       "2   강동구  5.667941e+06\n",
       "3   강북구  3.519811e+06\n",
       "4   강서구  4.261157e+06\n",
       "..  ...           ...\n",
       "73  파주시  3.356315e+05\n",
       "74  평택시  6.349830e+05\n",
       "75  포천시  1.834384e+05\n",
       "76  하남시  2.540962e+06\n",
       "77  화성시  4.114059e+05\n",
       "\n",
       "[78 rows x 2 columns]"
      ]
     },
     "execution_count": 64,
     "metadata": {},
     "output_type": "execute_result"
    }
   ],
   "source": [
    "g_estate"
   ]
  },
  {
   "cell_type": "markdown",
   "metadata": {},
   "source": [
    "**시군구 통합**\n",
    "\n",
    "시군구2 : 경기/인천 '구' 단위 → '시' 단위 통합"
   ]
  },
  {
   "cell_type": "code",
   "execution_count": null,
   "metadata": {
    "id": "x3LewpOqB-vM"
   },
   "outputs": [],
   "source": [
    "bc = ['부천원미구', '부천소사구', '부천오정구']\n",
    "sn = ['성남수정구', '성남중원구', '성남분당구']\n",
    "sw = ['수원장안구', '수원권선구','수원팔달구', '수원영통구']\n",
    "an = ['안산상록구','안산단원구']\n",
    "gy = ['고양덕양구', '고양일산동구', '고양일산서구']\n",
    "yi = ['용인처인구', '용인기흥구', '용인수지구']\n",
    "\n",
    "####################################################################################################\n",
    "bc01 = g_estate[g_estate['시군구명'].isin(bc)]\n",
    "\n",
    "new_row = {\n",
    "    '시군구명': '부천시',  # 새로운 이름\n",
    "    '공시지가': g_estate['공시지가'].mean()\n",
    "}\n",
    "\n",
    "g_estate = pd.concat([g_estate, pd.DataFrame([new_row])], ignore_index=True)\n",
    "\n",
    "####################################################################################################\n",
    "sn01 = g_estate[g_estate['시군구명'].isin(sn)]\n",
    "\n",
    "new_row1 = {\n",
    "    '시군구명': '성남시',  # 새로운 이름\n",
    "    '공시지가': g_estate['공시지가'].mean()\n",
    "}\n",
    "\n",
    "g_estate = pd.concat([g_estate, pd.DataFrame([new_row1])], ignore_index=True)\n",
    "\n",
    "####################################################################################################\n",
    "sw01 = g_estate[g_estate['시군구명'].isin(sw)]\n",
    "\n",
    "new_row2 = {\n",
    "    '시군구명': '수원시',  # 새로운 이름\n",
    "    '공시지가': g_estate['공시지가'].mean()\n",
    "}\n",
    "\n",
    "g_estate = pd.concat([g_estate, pd.DataFrame([new_row2])], ignore_index=True)\n",
    "\n",
    "####################################################################################################\n",
    "an01 = g_estate[g_estate['시군구명'].isin(an)]\n",
    "\n",
    "new_row3 = {\n",
    "    '시군구명': '안양시',  # 새로운 이름\n",
    "    '공시지가': g_estate['공시지가'].mean()\n",
    "}\n",
    "\n",
    "g_estate = pd.concat([g_estate, pd.DataFrame([new_row3])], ignore_index=True)\n",
    "\n",
    "####################################################################################################\n",
    "gy01 = g_estate[g_estate['시군구명'].isin(gy)]\n",
    "\n",
    "new_row4 = {\n",
    "    '시군구명': '고양시',  # 새로운 이름\n",
    "    '공시지가': g_estate['공시지가'].mean()\n",
    "}\n",
    "\n",
    "g_estate = pd.concat([g_estate, pd.DataFrame([new_row4])], ignore_index=True)\n",
    "\n",
    "####################################################################################################\n",
    "yi01 = g_estate[g_estate['시군구명'].isin(yi)]\n",
    "\n",
    "new_row5 = {\n",
    "    '시군구명': '용인시',  # 새로운 이름\n",
    "    '공시지가': g_estate['공시지가'].mean(),\n",
    "}\n",
    "\n",
    "g_estate = pd.concat([g_estate, pd.DataFrame([new_row5])], ignore_index=True)"
   ]
  },
  {
   "cell_type": "code",
   "execution_count": null,
   "metadata": {
    "id": "Y1fPxT3eB-vM",
    "outputId": "1d3f1a4c-7870-4e9f-9362-e70c3865b171"
   },
   "outputs": [
    {
     "data": {
      "text/html": [
       "<div>\n",
       "<style scoped>\n",
       "    .dataframe tbody tr th:only-of-type {\n",
       "        vertical-align: middle;\n",
       "    }\n",
       "\n",
       "    .dataframe tbody tr th {\n",
       "        vertical-align: top;\n",
       "    }\n",
       "\n",
       "    .dataframe thead th {\n",
       "        text-align: right;\n",
       "    }\n",
       "</style>\n",
       "<table border=\"1\" class=\"dataframe\">\n",
       "  <thead>\n",
       "    <tr style=\"text-align: right;\">\n",
       "      <th></th>\n",
       "      <th>시군구명</th>\n",
       "      <th>공시지가</th>\n",
       "    </tr>\n",
       "  </thead>\n",
       "  <tbody>\n",
       "    <tr>\n",
       "      <th>0</th>\n",
       "      <td>가평군</td>\n",
       "      <td>1.425912e+05</td>\n",
       "    </tr>\n",
       "    <tr>\n",
       "      <th>1</th>\n",
       "      <td>강남구</td>\n",
       "      <td>1.680318e+07</td>\n",
       "    </tr>\n",
       "    <tr>\n",
       "      <th>2</th>\n",
       "      <td>강동구</td>\n",
       "      <td>5.667941e+06</td>\n",
       "    </tr>\n",
       "    <tr>\n",
       "      <th>3</th>\n",
       "      <td>강북구</td>\n",
       "      <td>3.519811e+06</td>\n",
       "    </tr>\n",
       "    <tr>\n",
       "      <th>4</th>\n",
       "      <td>강서구</td>\n",
       "      <td>4.261157e+06</td>\n",
       "    </tr>\n",
       "    <tr>\n",
       "      <th>...</th>\n",
       "      <td>...</td>\n",
       "      <td>...</td>\n",
       "    </tr>\n",
       "    <tr>\n",
       "      <th>79</th>\n",
       "      <td>성남시</td>\n",
       "      <td>2.956037e+06</td>\n",
       "    </tr>\n",
       "    <tr>\n",
       "      <th>80</th>\n",
       "      <td>수원시</td>\n",
       "      <td>2.956037e+06</td>\n",
       "    </tr>\n",
       "    <tr>\n",
       "      <th>81</th>\n",
       "      <td>안양시</td>\n",
       "      <td>2.956037e+06</td>\n",
       "    </tr>\n",
       "    <tr>\n",
       "      <th>82</th>\n",
       "      <td>고양시</td>\n",
       "      <td>2.956037e+06</td>\n",
       "    </tr>\n",
       "    <tr>\n",
       "      <th>83</th>\n",
       "      <td>용인시</td>\n",
       "      <td>2.956037e+06</td>\n",
       "    </tr>\n",
       "  </tbody>\n",
       "</table>\n",
       "<p>84 rows × 2 columns</p>\n",
       "</div>"
      ],
      "text/plain": [
       "   시군구명          공시지가\n",
       "0   가평군  1.425912e+05\n",
       "1   강남구  1.680318e+07\n",
       "2   강동구  5.667941e+06\n",
       "3   강북구  3.519811e+06\n",
       "4   강서구  4.261157e+06\n",
       "..  ...           ...\n",
       "79  성남시  2.956037e+06\n",
       "80  수원시  2.956037e+06\n",
       "81  안양시  2.956037e+06\n",
       "82  고양시  2.956037e+06\n",
       "83  용인시  2.956037e+06\n",
       "\n",
       "[84 rows x 2 columns]"
      ]
     },
     "execution_count": 66,
     "metadata": {},
     "output_type": "execute_result"
    }
   ],
   "source": [
    "g_estate"
   ]
  },
  {
   "cell_type": "code",
   "execution_count": null,
   "metadata": {
    "id": "mqAV5XmcB-vN",
    "outputId": "1c146d97-5c82-4c9f-d156-901e73520f7e"
   },
   "outputs": [
    {
     "data": {
      "text/html": [
       "<div>\n",
       "<style scoped>\n",
       "    .dataframe tbody tr th:only-of-type {\n",
       "        vertical-align: middle;\n",
       "    }\n",
       "\n",
       "    .dataframe tbody tr th {\n",
       "        vertical-align: top;\n",
       "    }\n",
       "\n",
       "    .dataframe thead th {\n",
       "        text-align: right;\n",
       "    }\n",
       "</style>\n",
       "<table border=\"1\" class=\"dataframe\">\n",
       "  <thead>\n",
       "    <tr style=\"text-align: right;\">\n",
       "      <th></th>\n",
       "      <th>시군구명</th>\n",
       "      <th>공시지가</th>\n",
       "      <th>공시지가2</th>\n",
       "    </tr>\n",
       "  </thead>\n",
       "  <tbody>\n",
       "    <tr>\n",
       "      <th>0</th>\n",
       "      <td>가평군</td>\n",
       "      <td>1.425912e+05</td>\n",
       "      <td>0.008486</td>\n",
       "    </tr>\n",
       "    <tr>\n",
       "      <th>1</th>\n",
       "      <td>강남구</td>\n",
       "      <td>1.680318e+07</td>\n",
       "      <td>1.000000</td>\n",
       "    </tr>\n",
       "    <tr>\n",
       "      <th>2</th>\n",
       "      <td>강동구</td>\n",
       "      <td>5.667941e+06</td>\n",
       "      <td>0.337314</td>\n",
       "    </tr>\n",
       "    <tr>\n",
       "      <th>3</th>\n",
       "      <td>강북구</td>\n",
       "      <td>3.519811e+06</td>\n",
       "      <td>0.209473</td>\n",
       "    </tr>\n",
       "    <tr>\n",
       "      <th>4</th>\n",
       "      <td>강서구</td>\n",
       "      <td>4.261157e+06</td>\n",
       "      <td>0.253592</td>\n",
       "    </tr>\n",
       "    <tr>\n",
       "      <th>...</th>\n",
       "      <td>...</td>\n",
       "      <td>...</td>\n",
       "      <td>...</td>\n",
       "    </tr>\n",
       "    <tr>\n",
       "      <th>79</th>\n",
       "      <td>성남시</td>\n",
       "      <td>2.956037e+06</td>\n",
       "      <td>0.175921</td>\n",
       "    </tr>\n",
       "    <tr>\n",
       "      <th>80</th>\n",
       "      <td>수원시</td>\n",
       "      <td>2.956037e+06</td>\n",
       "      <td>0.175921</td>\n",
       "    </tr>\n",
       "    <tr>\n",
       "      <th>81</th>\n",
       "      <td>안양시</td>\n",
       "      <td>2.956037e+06</td>\n",
       "      <td>0.175921</td>\n",
       "    </tr>\n",
       "    <tr>\n",
       "      <th>82</th>\n",
       "      <td>고양시</td>\n",
       "      <td>2.956037e+06</td>\n",
       "      <td>0.175921</td>\n",
       "    </tr>\n",
       "    <tr>\n",
       "      <th>83</th>\n",
       "      <td>용인시</td>\n",
       "      <td>2.956037e+06</td>\n",
       "      <td>0.175921</td>\n",
       "    </tr>\n",
       "  </tbody>\n",
       "</table>\n",
       "<p>84 rows × 3 columns</p>\n",
       "</div>"
      ],
      "text/plain": [
       "   시군구명          공시지가     공시지가2\n",
       "0   가평군  1.425912e+05  0.008486\n",
       "1   강남구  1.680318e+07  1.000000\n",
       "2   강동구  5.667941e+06  0.337314\n",
       "3   강북구  3.519811e+06  0.209473\n",
       "4   강서구  4.261157e+06  0.253592\n",
       "..  ...           ...       ...\n",
       "79  성남시  2.956037e+06  0.175921\n",
       "80  수원시  2.956037e+06  0.175921\n",
       "81  안양시  2.956037e+06  0.175921\n",
       "82  고양시  2.956037e+06  0.175921\n",
       "83  용인시  2.956037e+06  0.175921\n",
       "\n",
       "[84 rows x 3 columns]"
      ]
     },
     "execution_count": 67,
     "metadata": {},
     "output_type": "execute_result"
    }
   ],
   "source": [
    "g_max = g_estate['공시지가'].max()\n",
    "\n",
    "\n",
    "g_estate['공시지가2'] = g_estate['공시지가']/g_max\n",
    "g_estate"
   ]
  },
  {
   "cell_type": "markdown",
   "metadata": {},
   "source": [
    "**데이터 저장**"
   ]
  },
  {
   "cell_type": "code",
   "execution_count": null,
   "metadata": {
    "id": "q4Yx72KLB-vN"
   },
   "outputs": [],
   "source": [
    "g_estate.to_csv('공시지가_찐.csv', index=False)"
   ]
  }
 ],
 "metadata": {
  "colab": {
   "provenance": []
  },
  "kernelspec": {
   "display_name": "Python 3",
   "language": "python",
   "name": "python3"
  },
  "language_info": {
   "codemirror_mode": {
    "name": "ipython",
    "version": 3
   },
   "file_extension": ".py",
   "mimetype": "text/x-python",
   "name": "python",
   "nbconvert_exporter": "python",
   "pygments_lexer": "ipython3",
   "version": "3.11.9"
  }
 },
 "nbformat": 4,
 "nbformat_minor": 0
}
