{
 "cells": [
  {
   "cell_type": "markdown",
   "metadata": {},
   "source": [
    "# 야식(배달) 데이터 전처리\n",
    "### 주문 지역 주거 특성 & 빈도"
   ]
  },
  {
   "cell_type": "code",
   "execution_count": 1,
   "metadata": {},
   "outputs": [],
   "source": [
    "import pandas as pd"
   ]
  },
  {
   "cell_type": "code",
   "execution_count": 3,
   "metadata": {},
   "outputs": [
    {
     "data": {
      "text/html": [
       "<div>\n",
       "<style scoped>\n",
       "    .dataframe tbody tr th:only-of-type {\n",
       "        vertical-align: middle;\n",
       "    }\n",
       "\n",
       "    .dataframe tbody tr th {\n",
       "        vertical-align: top;\n",
       "    }\n",
       "\n",
       "    .dataframe thead th {\n",
       "        text-align: right;\n",
       "    }\n",
       "</style>\n",
       "<table border=\"1\" class=\"dataframe\">\n",
       "  <thead>\n",
       "    <tr style=\"text-align: right;\">\n",
       "      <th></th>\n",
       "      <th>년</th>\n",
       "      <th>시군구코드</th>\n",
       "      <th>광역시도명</th>\n",
       "      <th>시군구명</th>\n",
       "      <th>세대구성대분류명</th>\n",
       "      <th>세대구성중분류명</th>\n",
       "      <th>세대구성소분류명</th>\n",
       "      <th>단위</th>\n",
       "      <th>빈도</th>\n",
       "    </tr>\n",
       "  </thead>\n",
       "  <tbody>\n",
       "    <tr>\n",
       "      <th>0</th>\n",
       "      <td>2020</td>\n",
       "      <td>11110</td>\n",
       "      <td>서울특별시</td>\n",
       "      <td>종로구</td>\n",
       "      <td>1세대 가구</td>\n",
       "      <td>부부</td>\n",
       "      <td>일반가구</td>\n",
       "      <td>가구</td>\n",
       "      <td>8752</td>\n",
       "    </tr>\n",
       "    <tr>\n",
       "      <th>1</th>\n",
       "      <td>2020</td>\n",
       "      <td>11110</td>\n",
       "      <td>서울특별시</td>\n",
       "      <td>종로구</td>\n",
       "      <td>1세대 가구</td>\n",
       "      <td>부부</td>\n",
       "      <td>주택_단독주택</td>\n",
       "      <td>가구</td>\n",
       "      <td>3162</td>\n",
       "    </tr>\n",
       "    <tr>\n",
       "      <th>2</th>\n",
       "      <td>2020</td>\n",
       "      <td>11110</td>\n",
       "      <td>서울특별시</td>\n",
       "      <td>종로구</td>\n",
       "      <td>1세대 가구</td>\n",
       "      <td>부부</td>\n",
       "      <td>주택_아파트</td>\n",
       "      <td>가구</td>\n",
       "      <td>2628</td>\n",
       "    </tr>\n",
       "    <tr>\n",
       "      <th>3</th>\n",
       "      <td>2020</td>\n",
       "      <td>11110</td>\n",
       "      <td>서울특별시</td>\n",
       "      <td>종로구</td>\n",
       "      <td>1세대 가구</td>\n",
       "      <td>부부</td>\n",
       "      <td>주택_연립주택</td>\n",
       "      <td>가구</td>\n",
       "      <td>836</td>\n",
       "    </tr>\n",
       "    <tr>\n",
       "      <th>4</th>\n",
       "      <td>2020</td>\n",
       "      <td>11110</td>\n",
       "      <td>서울특별시</td>\n",
       "      <td>종로구</td>\n",
       "      <td>1세대 가구</td>\n",
       "      <td>부부</td>\n",
       "      <td>주택_다세대주택</td>\n",
       "      <td>가구</td>\n",
       "      <td>1406</td>\n",
       "    </tr>\n",
       "  </tbody>\n",
       "</table>\n",
       "</div>"
      ],
      "text/plain": [
       "      년  시군구코드  광역시도명 시군구명 세대구성대분류명 세대구성중분류명  세대구성소분류명  단위    빈도\n",
       "0  2020  11110  서울특별시  종로구   1세대 가구       부부      일반가구  가구  8752\n",
       "1  2020  11110  서울특별시  종로구   1세대 가구       부부   주택_단독주택  가구  3162\n",
       "2  2020  11110  서울특별시  종로구   1세대 가구       부부    주택_아파트  가구  2628\n",
       "3  2020  11110  서울특별시  종로구   1세대 가구       부부   주택_연립주택  가구   836\n",
       "4  2020  11110  서울특별시  종로구   1세대 가구       부부  주택_다세대주택  가구  1406"
      ]
     },
     "execution_count": 3,
     "metadata": {},
     "output_type": "execute_result"
    }
   ],
   "source": [
    "# 데이터 불러오기\n",
    "column_names = ['년', '시군구코드','광역시도명','시군구명','세대구성대분류명','세대구성중분류명','세대구성소분류명','단위','빈도']\n",
    "df = pd.read_csv('data/raw/KGU_2nd_ORIGIN_KGURESIDEINFO_20211013000000.csv', names=column_names, header=None)\n",
    "df.head()"
   ]
  },
  {
   "cell_type": "markdown",
   "metadata": {},
   "source": [
    "**지역,년도 필터링**"
   ]
  },
  {
   "cell_type": "code",
   "execution_count": null,
   "metadata": {},
   "outputs": [
    {
     "data": {
      "text/html": [
       "<div>\n",
       "<style scoped>\n",
       "    .dataframe tbody tr th:only-of-type {\n",
       "        vertical-align: middle;\n",
       "    }\n",
       "\n",
       "    .dataframe tbody tr th {\n",
       "        vertical-align: top;\n",
       "    }\n",
       "\n",
       "    .dataframe thead th {\n",
       "        text-align: right;\n",
       "    }\n",
       "</style>\n",
       "<table border=\"1\" class=\"dataframe\">\n",
       "  <thead>\n",
       "    <tr style=\"text-align: right;\">\n",
       "      <th></th>\n",
       "      <th>년</th>\n",
       "      <th>시군구코드</th>\n",
       "      <th>광역시도명</th>\n",
       "      <th>시군구명</th>\n",
       "      <th>세대구성대분류명</th>\n",
       "      <th>세대구성중분류명</th>\n",
       "      <th>세대구성소분류명</th>\n",
       "      <th>단위</th>\n",
       "      <th>빈도</th>\n",
       "    </tr>\n",
       "  </thead>\n",
       "  <tbody>\n",
       "    <tr>\n",
       "      <th>0</th>\n",
       "      <td>2020</td>\n",
       "      <td>11110</td>\n",
       "      <td>서울특별시</td>\n",
       "      <td>종로구</td>\n",
       "      <td>1세대 가구</td>\n",
       "      <td>부부</td>\n",
       "      <td>일반가구</td>\n",
       "      <td>가구</td>\n",
       "      <td>8752</td>\n",
       "    </tr>\n",
       "    <tr>\n",
       "      <th>1</th>\n",
       "      <td>2020</td>\n",
       "      <td>11110</td>\n",
       "      <td>서울특별시</td>\n",
       "      <td>종로구</td>\n",
       "      <td>1세대 가구</td>\n",
       "      <td>부부</td>\n",
       "      <td>주택_단독주택</td>\n",
       "      <td>가구</td>\n",
       "      <td>3162</td>\n",
       "    </tr>\n",
       "    <tr>\n",
       "      <th>2</th>\n",
       "      <td>2020</td>\n",
       "      <td>11110</td>\n",
       "      <td>서울특별시</td>\n",
       "      <td>종로구</td>\n",
       "      <td>1세대 가구</td>\n",
       "      <td>부부</td>\n",
       "      <td>주택_아파트</td>\n",
       "      <td>가구</td>\n",
       "      <td>2628</td>\n",
       "    </tr>\n",
       "    <tr>\n",
       "      <th>3</th>\n",
       "      <td>2020</td>\n",
       "      <td>11110</td>\n",
       "      <td>서울특별시</td>\n",
       "      <td>종로구</td>\n",
       "      <td>1세대 가구</td>\n",
       "      <td>부부</td>\n",
       "      <td>주택_연립주택</td>\n",
       "      <td>가구</td>\n",
       "      <td>836</td>\n",
       "    </tr>\n",
       "    <tr>\n",
       "      <th>4</th>\n",
       "      <td>2020</td>\n",
       "      <td>11110</td>\n",
       "      <td>서울특별시</td>\n",
       "      <td>종로구</td>\n",
       "      <td>1세대 가구</td>\n",
       "      <td>부부</td>\n",
       "      <td>주택_다세대주택</td>\n",
       "      <td>가구</td>\n",
       "      <td>1406</td>\n",
       "    </tr>\n",
       "  </tbody>\n",
       "</table>\n",
       "</div>"
      ],
      "text/plain": [
       "      년  시군구코드  광역시도명 시군구명 세대구성대분류명 세대구성중분류명  세대구성소분류명  단위    빈도\n",
       "0  2020  11110  서울특별시  종로구   1세대 가구       부부      일반가구  가구  8752\n",
       "1  2020  11110  서울특별시  종로구   1세대 가구       부부   주택_단독주택  가구  3162\n",
       "2  2020  11110  서울특별시  종로구   1세대 가구       부부    주택_아파트  가구  2628\n",
       "3  2020  11110  서울특별시  종로구   1세대 가구       부부   주택_연립주택  가구   836\n",
       "4  2020  11110  서울특별시  종로구   1세대 가구       부부  주택_다세대주택  가구  1406"
      ]
     },
     "execution_count": 4,
     "metadata": {},
     "output_type": "execute_result"
    }
   ],
   "source": [
    "# 불필요 지역 제거 (서울/경기/인천 외 제외)\n",
    "# 2020년 데이터만 남기기\n",
    "filtered_df = df[(df['광역시도명'].isin(['서울특별시', '경기도', '인천광역시'])) & (df['년'] == 2020)]\n",
    "filtered_df.head()"
   ]
  },
  {
   "cell_type": "code",
   "execution_count": null,
   "metadata": {},
   "outputs": [],
   "source": [
    "# 필요없는 컬럼 삭제\n",
    "filtered_df.drop(columns=['시군구코드','세대구성중분류명','세대구성소분류명','단위'], inplace=True)"
   ]
  },
  {
   "cell_type": "code",
   "execution_count": null,
   "metadata": {},
   "outputs": [],
   "source": [
    "# '다섯가구 미만' → '5'로 대체하여 수치형으로 변환\n",
    "filtered_df['빈도'].replace({'다섯가구 미만':'5'},inplace=True)"
   ]
  },
  {
   "cell_type": "code",
   "execution_count": null,
   "metadata": {},
   "outputs": [],
   "source": [
    "filtered_df['빈도'] = filtered_df['빈도'].astype(float)\n",
    "delivery_df = filtered_df"
   ]
  },
  {
   "cell_type": "markdown",
   "metadata": {},
   "source": [
    "**시군구 통합**\n",
    "\n",
    "시군구2 : 경기/인천 '구' 단위 → '시' 단위 통합"
   ]
  },
  {
   "cell_type": "code",
   "execution_count": null,
   "metadata": {},
   "outputs": [],
   "source": [
    "def replace_values_with_multiple_substrings(delivery_df, column, replacements):\n",
    "  for old_value, new_value in replacements.items():\n",
    "        delivery_df.loc[delivery_df[column].str.contains(old_value, na=False), column] = new_value\n",
    "  return delivery_df\n",
    "\n",
    "replacements = {\n",
    "    '수원시': '수원시',\n",
    "    '성남시': '성남시',\n",
    "    '안양시': '안양시',\n",
    "    '부천시': '부천시',\n",
    "    '안산시': '안산시',\n",
    "    '고양시': '고양시',\n",
    "    '용인시': '용인시',\n",
    "}\n",
    "delivery_df['시군구2'] = delivery_df['시군구명']\n",
    "delivery_df = replace_values_with_multiple_substrings(delivery_df, '시군구2', replacements)\n",
    "\n",
    "delivery_df"
   ]
  },
  {
   "cell_type": "markdown",
   "metadata": {},
   "source": [
    "**데이터 저장**"
   ]
  },
  {
   "cell_type": "code",
   "execution_count": 60,
   "metadata": {},
   "outputs": [],
   "source": [
    "delivery_df.to_csv('data1/delivery.csv')"
   ]
  }
 ],
 "metadata": {
  "kernelspec": {
   "display_name": "Python 3",
   "language": "python",
   "name": "python3"
  },
  "language_info": {
   "codemirror_mode": {
    "name": "ipython",
    "version": 3
   },
   "file_extension": ".py",
   "mimetype": "text/x-python",
   "name": "python",
   "nbconvert_exporter": "python",
   "pygments_lexer": "ipython3",
   "version": "3.11.9"
  }
 },
 "nbformat": 4,
 "nbformat_minor": 2
}
