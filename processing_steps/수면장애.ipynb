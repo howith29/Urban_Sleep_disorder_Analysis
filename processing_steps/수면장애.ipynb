{
 "cells": [
  {
   "cell_type": "markdown",
   "metadata": {},
   "source": [
    "# 수면장애 데이터 전처리"
   ]
  },
  {
   "cell_type": "markdown",
   "metadata": {},
   "source": [
    "- 2021년도 데이터만 파싱\n",
    "- 시군구2 : 경기/인천 '구' 단위 → '시' 단위 통합"
   ]
  },
  {
   "cell_type": "code",
   "execution_count": 1,
   "metadata": {},
   "outputs": [],
   "source": [
    "import pandas as pd"
   ]
  },
  {
   "cell_type": "code",
   "execution_count": 22,
   "metadata": {},
   "outputs": [
    {
     "data": {
      "text/html": [
       "<div>\n",
       "<style scoped>\n",
       "    .dataframe tbody tr th:only-of-type {\n",
       "        vertical-align: middle;\n",
       "    }\n",
       "\n",
       "    .dataframe tbody tr th {\n",
       "        vertical-align: top;\n",
       "    }\n",
       "\n",
       "    .dataframe thead th {\n",
       "        text-align: right;\n",
       "    }\n",
       "</style>\n",
       "<table border=\"1\" class=\"dataframe\">\n",
       "  <thead>\n",
       "    <tr style=\"text-align: right;\">\n",
       "      <th></th>\n",
       "      <th>주상병코드</th>\n",
       "      <th>주상병명</th>\n",
       "      <th>진료년도</th>\n",
       "      <th>시도</th>\n",
       "      <th>시군구</th>\n",
       "      <th>진료인원(명)</th>\n",
       "      <th>진료비(천원)</th>\n",
       "      <th>급여비(천원)</th>\n",
       "    </tr>\n",
       "  </thead>\n",
       "  <tbody>\n",
       "    <tr>\n",
       "      <th>0</th>\n",
       "      <td>G47</td>\n",
       "      <td>수면장애</td>\n",
       "      <td>2021</td>\n",
       "      <td>서울특별시</td>\n",
       "      <td>종로구</td>\n",
       "      <td>2691</td>\n",
       "      <td>672059</td>\n",
       "      <td>472058</td>\n",
       "    </tr>\n",
       "    <tr>\n",
       "      <th>1</th>\n",
       "      <td>G47</td>\n",
       "      <td>수면장애</td>\n",
       "      <td>2021</td>\n",
       "      <td>서울특별시</td>\n",
       "      <td>중구</td>\n",
       "      <td>2208</td>\n",
       "      <td>561303</td>\n",
       "      <td>407649</td>\n",
       "    </tr>\n",
       "    <tr>\n",
       "      <th>2</th>\n",
       "      <td>G47</td>\n",
       "      <td>수면장애</td>\n",
       "      <td>2021</td>\n",
       "      <td>서울특별시</td>\n",
       "      <td>용산구</td>\n",
       "      <td>4640</td>\n",
       "      <td>1217122</td>\n",
       "      <td>869536</td>\n",
       "    </tr>\n",
       "    <tr>\n",
       "      <th>3</th>\n",
       "      <td>G47</td>\n",
       "      <td>수면장애</td>\n",
       "      <td>2021</td>\n",
       "      <td>서울특별시</td>\n",
       "      <td>성동구</td>\n",
       "      <td>5612</td>\n",
       "      <td>1314752</td>\n",
       "      <td>948009</td>\n",
       "    </tr>\n",
       "    <tr>\n",
       "      <th>4</th>\n",
       "      <td>G47</td>\n",
       "      <td>수면장애</td>\n",
       "      <td>2021</td>\n",
       "      <td>서울특별시</td>\n",
       "      <td>광진구</td>\n",
       "      <td>5594</td>\n",
       "      <td>1407419</td>\n",
       "      <td>1002798</td>\n",
       "    </tr>\n",
       "  </tbody>\n",
       "</table>\n",
       "</div>"
      ],
      "text/plain": [
       "  주상병코드  주상병명  진료년도     시도  시군구 진료인원(명)  진료비(천원)  급여비(천원)\n",
       "0   G47  수면장애  2021  서울특별시  종로구    2691   672059   472058\n",
       "1   G47  수면장애  2021  서울특별시   중구    2208   561303   407649\n",
       "2   G47  수면장애  2021  서울특별시  용산구    4640  1217122   869536\n",
       "3   G47  수면장애  2021  서울특별시  성동구    5612  1314752   948009\n",
       "4   G47  수면장애  2021  서울특별시  광진구    5594  1407419  1002798"
      ]
     },
     "execution_count": 22,
     "metadata": {},
     "output_type": "execute_result"
    }
   ],
   "source": [
    "# 데이터 불러오기\n",
    "sleep_df = pd.read_csv('./data/raw/국민건강보험공단_수면장애 관련 주상병별 진료정보_20231231.csv', encoding='cp949')\n",
    "sleep_df.head()"
   ]
  },
  {
   "cell_type": "code",
   "execution_count": 23,
   "metadata": {},
   "outputs": [
    {
     "name": "stdout",
     "output_type": "stream",
     "text": [
      "<class 'pandas.core.frame.DataFrame'>\n",
      "RangeIndex: 2367 entries, 0 to 2366\n",
      "Data columns (total 8 columns):\n",
      " #   Column   Non-Null Count  Dtype \n",
      "---  ------   --------------  ----- \n",
      " 0   주상병코드    2367 non-null   object\n",
      " 1   주상병명     2367 non-null   object\n",
      " 2   진료년도     2367 non-null   int64 \n",
      " 3   시도       2367 non-null   object\n",
      " 4   시군구      2367 non-null   object\n",
      " 5   진료인원(명)  2366 non-null   object\n",
      " 6   진료비(천원)  2367 non-null   int64 \n",
      " 7   급여비(천원)  2367 non-null   int64 \n",
      "dtypes: int64(3), object(5)\n",
      "memory usage: 148.1+ KB\n"
     ]
    }
   ],
   "source": [
    "sleep_df.info()"
   ]
  },
  {
   "cell_type": "code",
   "execution_count": 24,
   "metadata": {},
   "outputs": [],
   "source": [
    "# 2021년, '비기질성 수면장애'만 필터링\n",
    "filter = (sleep_df['진료년도'] == 2021) & (sleep_df['주상병명'] == '비기질성 수면장애') & (sleep_df['시도'].isin(['서울특별시', '경기도', '인천광역시']))\n",
    "sleep_2021 = sleep_df[filter]"
   ]
  },
  {
   "cell_type": "code",
   "execution_count": null,
   "metadata": {},
   "outputs": [],
   "source": [
    "# 필요없는 column 삭제\n",
    "sleep_2021.drop(columns=['주상병코드','진료비(천원)','급여비(천원)'], inplace =True)"
   ]
  },
  {
   "cell_type": "code",
   "execution_count": 27,
   "metadata": {},
   "outputs": [
    {
     "data": {
      "text/plain": [
       "Index(['주상병명', '진료년도', '시도', '시군구', '진료인원(명)'], dtype='object')"
      ]
     },
     "execution_count": 27,
     "metadata": {},
     "output_type": "execute_result"
    }
   ],
   "source": [
    "sleep_2021.columns"
   ]
  },
  {
   "cell_type": "markdown",
   "metadata": {},
   "source": [
    "경기/인천 '구' 단위 → '시' 단위 통합"
   ]
  },
  {
   "cell_type": "code",
   "execution_count": null,
   "metadata": {},
   "outputs": [],
   "source": [
    "sleep_2021['시군구2'] = sleep_2021['시군구']"
   ]
  },
  {
   "cell_type": "code",
   "execution_count": 29,
   "metadata": {},
   "outputs": [],
   "source": [
    "def replace_values_with_multiple_substrings(sleep_2021, column, replacements):\n",
    "  for old_value, new_value in replacements.items():\n",
    "        sleep_2021.loc[sleep_2021[column].str.contains(old_value, na=False), column] = new_value\n",
    "  return sleep_2021\n",
    "\n",
    "replacements = {\n",
    "    '수원시': '수원시',\n",
    "    '성남시': '성남시',\n",
    "    '안양시': '안양시',\n",
    "    '부천시': '부천시',\n",
    "    '안산시': '안산시',\n",
    "    '고양시': '고양시',\n",
    "    '용인시': '용인시',\n",
    "}\n",
    "\n",
    "updated_sleep_2021 = replace_values_with_multiple_substrings(sleep_2021, '시군구2', replacements)"
   ]
  },
  {
   "cell_type": "markdown",
   "metadata": {},
   "source": [
    "데이터 저장"
   ]
  },
  {
   "cell_type": "code",
   "execution_count": null,
   "metadata": {},
   "outputs": [],
   "source": [
    "import os\n",
    "updated_sleep_2021.to_csv('.data/수면장애 관련 주상병별 진료정보_2020.csv', index=False)"
   ]
  }
 ],
 "metadata": {
  "kernelspec": {
   "display_name": "Python 3",
   "language": "python",
   "name": "python3"
  },
  "language_info": {
   "codemirror_mode": {
    "name": "ipython",
    "version": 3
   },
   "file_extension": ".py",
   "mimetype": "text/x-python",
   "name": "python",
   "nbconvert_exporter": "python",
   "pygments_lexer": "ipython3",
   "version": "3.11.9"
  }
 },
 "nbformat": 4,
 "nbformat_minor": 2
}
