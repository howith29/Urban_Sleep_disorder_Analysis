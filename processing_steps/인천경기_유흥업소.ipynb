{
 "cells": [
  {
   "cell_type": "markdown",
   "metadata": {},
   "source": [
    "# 유흥업소(경기/인천) 데이터 전처리"
   ]
  },
  {
   "cell_type": "code",
   "execution_count": null,
   "metadata": {
    "id": "JgQjxYweKM1n"
   },
   "outputs": [],
   "source": [
    "import pandas as pd"
   ]
  },
  {
   "cell_type": "code",
   "execution_count": null,
   "metadata": {
    "id": "KKYLCWCsKM1t",
    "outputId": "532ac483-ba85-45c1-c92f-a7c0f5b96b7b"
   },
   "outputs": [],
   "source": [
    "alcohol_gg = pd.read_csv('data/유흥업소 관련/유흥주점업소/fulldata_07_23_02_P_유흥주점영업.csv',\n",
    "                         encoding='cp949')\n",
    "\n",
    "alcohol_gg.head()"
   ]
  },
  {
   "cell_type": "code",
   "execution_count": null,
   "metadata": {
    "id": "KQ3z9BGBKM1v",
    "outputId": "7d69e3a1-672a-4bd4-f593-d148b47a2821"
   },
   "outputs": [
    {
     "data": {
      "text/plain": [
       "Index(['번호', '개방서비스명', '개방서비스아이디', '개방자치단체코드', '관리번호', '인허가일자', '인허가취소일자',\n",
       "       '영업상태구분코드', '영업상태명', '상세영업상태코드', '상세영업상태명', '폐업일자', '휴업시작일자', '휴업종료일자',\n",
       "       '재개업일자', '소재지전화', '소재지면적', '소재지우편번호', '소재지전체주소', '도로명전체주소', '도로명우편번호',\n",
       "       '사업장명', '최종수정시점', '데이터갱신구분', '데이터갱신일자', '업태구분명', '좌표정보x(epsg5174)',\n",
       "       '좌표정보y(epsg5174)', '위생업태명', '남성종사자수', '여성종사자수', '영업장주변구분명', '등급구분명',\n",
       "       '급수시설구분명', '총직원수', '본사직원수', '공장사무직직원수', '공장판매직직원수', '공장생산직직원수',\n",
       "       '건물소유구분명', '보증액', '월세액', '다중이용업소여부', '시설총규모', '전통업소지정번호', '전통업소주된음식',\n",
       "       '홈페이지', 'Unnamed: 47'],\n",
       "      dtype='object')"
      ]
     },
     "execution_count": 3,
     "metadata": {},
     "output_type": "execute_result"
    }
   ],
   "source": [
    "alcohol_gg.columns"
   ]
  },
  {
   "cell_type": "code",
   "execution_count": null,
   "metadata": {
    "id": "J1zjQj2BKM1w",
    "outputId": "31f38ddc-f6ea-4094-ff98-1aeeffdd45c6"
   },
   "outputs": [
    {
     "data": {
      "text/html": [
       "<div>\n",
       "<style scoped>\n",
       "    .dataframe tbody tr th:only-of-type {\n",
       "        vertical-align: middle;\n",
       "    }\n",
       "\n",
       "    .dataframe tbody tr th {\n",
       "        vertical-align: top;\n",
       "    }\n",
       "\n",
       "    .dataframe thead th {\n",
       "        text-align: right;\n",
       "    }\n",
       "</style>\n",
       "<table border=\"1\" class=\"dataframe\">\n",
       "  <thead>\n",
       "    <tr style=\"text-align: right;\">\n",
       "      <th></th>\n",
       "      <th>상세영업상태명</th>\n",
       "      <th>도로명전체주소</th>\n",
       "      <th>사업장명</th>\n",
       "    </tr>\n",
       "  </thead>\n",
       "  <tbody>\n",
       "    <tr>\n",
       "      <th>0</th>\n",
       "      <td>영업</td>\n",
       "      <td>광주광역시 광산구 임방울대로801번길 51, 2층 (쌍암동)</td>\n",
       "      <td>놀자룸소주방</td>\n",
       "    </tr>\n",
       "    <tr>\n",
       "      <th>1</th>\n",
       "      <td>영업</td>\n",
       "      <td>광주광역시 광산구 첨단중앙로170번길 36 (쌍암동,(지상 3층))</td>\n",
       "      <td>나비노래홀</td>\n",
       "    </tr>\n",
       "    <tr>\n",
       "      <th>2</th>\n",
       "      <td>영업</td>\n",
       "      <td>광주광역시 광산구 첨단중앙로170번길 36, 2층 (쌍암동)</td>\n",
       "      <td>도드리</td>\n",
       "    </tr>\n",
       "    <tr>\n",
       "      <th>3</th>\n",
       "      <td>영업</td>\n",
       "      <td>광주광역시 광산구 첨단중앙로152번길 81 (쌍암동,(2층))</td>\n",
       "      <td>프러포즈음악홀</td>\n",
       "    </tr>\n",
       "    <tr>\n",
       "      <th>4</th>\n",
       "      <td>영업</td>\n",
       "      <td>광주광역시 광산구 임방울대로825번길 21-11 (쌍암동,(지하1층))</td>\n",
       "      <td>더블유(W)</td>\n",
       "    </tr>\n",
       "    <tr>\n",
       "      <th>...</th>\n",
       "      <td>...</td>\n",
       "      <td>...</td>\n",
       "      <td>...</td>\n",
       "    </tr>\n",
       "    <tr>\n",
       "      <th>53142</th>\n",
       "      <td>폐업</td>\n",
       "      <td>경기도 시흥시 중심상가로 332, 2층 일부호 (정왕동)</td>\n",
       "      <td>프라이빗클럽</td>\n",
       "    </tr>\n",
       "    <tr>\n",
       "      <th>53143</th>\n",
       "      <td>폐업</td>\n",
       "      <td>NaN</td>\n",
       "      <td>휴가호</td>\n",
       "    </tr>\n",
       "    <tr>\n",
       "      <th>53144</th>\n",
       "      <td>폐업</td>\n",
       "      <td>대구광역시 중구 동성로3길 58-15, 3층,중3층 (공평동)</td>\n",
       "      <td>클럽 박스</td>\n",
       "    </tr>\n",
       "    <tr>\n",
       "      <th>53145</th>\n",
       "      <td>폐업</td>\n",
       "      <td>인천광역시 미추홀구 경원대로 853, 삼미쇼핑 3층 302호 (주안동)</td>\n",
       "      <td>금강산 캬바레</td>\n",
       "    </tr>\n",
       "    <tr>\n",
       "      <th>53146</th>\n",
       "      <td>폐업</td>\n",
       "      <td>광주광역시 광산구 임방울대로800번길 42, 2층 (월계동)</td>\n",
       "      <td>슈가맨</td>\n",
       "    </tr>\n",
       "  </tbody>\n",
       "</table>\n",
       "<p>53147 rows × 3 columns</p>\n",
       "</div>"
      ],
      "text/plain": [
       "      상세영업상태명                                  도로명전체주소     사업장명\n",
       "0          영업        광주광역시 광산구 임방울대로801번길 51, 2층 (쌍암동)   놀자룸소주방\n",
       "1          영업    광주광역시 광산구 첨단중앙로170번길 36 (쌍암동,(지상 3층))    나비노래홀\n",
       "2          영업        광주광역시 광산구 첨단중앙로170번길 36, 2층 (쌍암동)      도드리\n",
       "3          영업       광주광역시 광산구 첨단중앙로152번길 81 (쌍암동,(2층))  프러포즈음악홀\n",
       "4          영업  광주광역시 광산구 임방울대로825번길 21-11 (쌍암동,(지하1층))   더블유(W)\n",
       "...       ...                                      ...      ...\n",
       "53142      폐업          경기도 시흥시 중심상가로 332, 2층 일부호 (정왕동)   프라이빗클럽\n",
       "53143      폐업                                      NaN      휴가호\n",
       "53144      폐업       대구광역시 중구 동성로3길 58-15, 3층,중3층 (공평동)    클럽 박스\n",
       "53145      폐업  인천광역시 미추홀구 경원대로 853, 삼미쇼핑 3층 302호 (주안동)  금강산 캬바레\n",
       "53146      폐업        광주광역시 광산구 임방울대로800번길 42, 2층 (월계동)      슈가맨\n",
       "\n",
       "[53147 rows x 3 columns]"
      ]
     },
     "execution_count": 15,
     "metadata": {},
     "output_type": "execute_result"
    }
   ],
   "source": [
    "# 필요한 컬럼만 필터링\n",
    "alcohol_gg01 = alcohol_gg[['상세영업상태명','도로명전체주소','사업장명']]\n",
    "\n",
    "alcohol_gg01"
   ]
  },
  {
   "cell_type": "markdown",
   "metadata": {},
   "source": [
    "시군구 변환"
   ]
  },
  {
   "cell_type": "code",
   "execution_count": null,
   "metadata": {
    "id": "TKqSSVQiKM1x",
    "outputId": "695d85a5-b432-4736-9cf7-0fb15859fcf5"
   },
   "outputs": [],
   "source": [
    "alcohol_gg01['구'] = alcohol_gg01['도로명전체주소'].str.extract(r'(\\w+구)')\n",
    "\n",
    "# apply와 lambda를 사용하여 '시도' 컬럼 채우기\n",
    "def extract_sido(address):\n",
    "    if pd.isna(address):\n",
    "        return None\n",
    "    elif '인천광역시' in address:\n",
    "        return '인천광역시'\n",
    "    elif '경기도' in address:\n",
    "        return '경기도'\n",
    "    else:\n",
    "        return None\n",
    "\n",
    "alcohol_gg01['시도'] = alcohol_gg01['도로명전체주소'].apply(extract_sido)\n",
    "\n",
    "alcohol_gg01"
   ]
  },
  {
   "cell_type": "code",
   "execution_count": null,
   "metadata": {
    "id": "B_WfSsDYKM1y"
   },
   "outputs": [],
   "source": [
    "# 필요없는 컬럼 삭제\n",
    "alcohol_icgg = alcohol_gg01.dropna(subset='시도')"
   ]
  },
  {
   "cell_type": "code",
   "execution_count": null,
   "metadata": {
    "id": "p-NyMQoUKM1z",
    "outputId": "0ba7e04a-d3db-4862-cf6e-71cf04a1f55d"
   },
   "outputs": [
    {
     "data": {
      "text/html": [
       "<div>\n",
       "<style scoped>\n",
       "    .dataframe tbody tr th:only-of-type {\n",
       "        vertical-align: middle;\n",
       "    }\n",
       "\n",
       "    .dataframe tbody tr th {\n",
       "        vertical-align: top;\n",
       "    }\n",
       "\n",
       "    .dataframe thead th {\n",
       "        text-align: right;\n",
       "    }\n",
       "</style>\n",
       "<table border=\"1\" class=\"dataframe\">\n",
       "  <thead>\n",
       "    <tr style=\"text-align: right;\">\n",
       "      <th></th>\n",
       "      <th>상세영업상태명</th>\n",
       "      <th>도로명전체주소</th>\n",
       "      <th>사업장명</th>\n",
       "      <th>구</th>\n",
       "      <th>시도</th>\n",
       "    </tr>\n",
       "  </thead>\n",
       "  <tbody>\n",
       "    <tr>\n",
       "      <th>1313</th>\n",
       "      <td>영업</td>\n",
       "      <td>인천광역시 옹진군 백령면 백령로 298-1</td>\n",
       "      <td>장미노래클럽</td>\n",
       "      <td>NaN</td>\n",
       "      <td>인천광역시</td>\n",
       "    </tr>\n",
       "    <tr>\n",
       "      <th>1314</th>\n",
       "      <td>영업</td>\n",
       "      <td>인천광역시 옹진군 영흥면 영흥남로 307</td>\n",
       "      <td>빠샤 노래주점</td>\n",
       "      <td>NaN</td>\n",
       "      <td>인천광역시</td>\n",
       "    </tr>\n",
       "    <tr>\n",
       "      <th>1315</th>\n",
       "      <td>영업</td>\n",
       "      <td>인천광역시 옹진군 영흥면 영흥북로35번길 21</td>\n",
       "      <td>뉴 차차차 노래클럽</td>\n",
       "      <td>NaN</td>\n",
       "      <td>인천광역시</td>\n",
       "    </tr>\n",
       "    <tr>\n",
       "      <th>1316</th>\n",
       "      <td>영업</td>\n",
       "      <td>인천광역시 옹진군 백령면 백령로 282-1</td>\n",
       "      <td>퍼펙트</td>\n",
       "      <td>NaN</td>\n",
       "      <td>인천광역시</td>\n",
       "    </tr>\n",
       "    <tr>\n",
       "      <th>1317</th>\n",
       "      <td>영업</td>\n",
       "      <td>인천광역시 옹진군 백령면 백령로 287, 1층</td>\n",
       "      <td>텔레파시</td>\n",
       "      <td>NaN</td>\n",
       "      <td>인천광역시</td>\n",
       "    </tr>\n",
       "    <tr>\n",
       "      <th>...</th>\n",
       "      <td>...</td>\n",
       "      <td>...</td>\n",
       "      <td>...</td>\n",
       "      <td>...</td>\n",
       "      <td>...</td>\n",
       "    </tr>\n",
       "    <tr>\n",
       "      <th>53124</th>\n",
       "      <td>폐업</td>\n",
       "      <td>인천광역시 서구 길주로 79, 지하B01,B301호 (석남동)</td>\n",
       "      <td>쿵텝(KungThep)</td>\n",
       "      <td>서구</td>\n",
       "      <td>인천광역시</td>\n",
       "    </tr>\n",
       "    <tr>\n",
       "      <th>53135</th>\n",
       "      <td>폐업</td>\n",
       "      <td>경기도 포천시 소흘읍 솔모루로 55, 5층</td>\n",
       "      <td>7090라이브룸</td>\n",
       "      <td>NaN</td>\n",
       "      <td>경기도</td>\n",
       "    </tr>\n",
       "    <tr>\n",
       "      <th>53136</th>\n",
       "      <td>폐업</td>\n",
       "      <td>경기도 파주시 소리천로 25, 유은타워7차 317호 (야당동)</td>\n",
       "      <td>아리라이브 7080</td>\n",
       "      <td>NaN</td>\n",
       "      <td>경기도</td>\n",
       "    </tr>\n",
       "    <tr>\n",
       "      <th>53142</th>\n",
       "      <td>폐업</td>\n",
       "      <td>경기도 시흥시 중심상가로 332, 2층 일부호 (정왕동)</td>\n",
       "      <td>프라이빗클럽</td>\n",
       "      <td>NaN</td>\n",
       "      <td>경기도</td>\n",
       "    </tr>\n",
       "    <tr>\n",
       "      <th>53145</th>\n",
       "      <td>폐업</td>\n",
       "      <td>인천광역시 미추홀구 경원대로 853, 삼미쇼핑 3층 302호 (주안동)</td>\n",
       "      <td>금강산 캬바레</td>\n",
       "      <td>미추홀구</td>\n",
       "      <td>인천광역시</td>\n",
       "    </tr>\n",
       "  </tbody>\n",
       "</table>\n",
       "<p>8766 rows × 5 columns</p>\n",
       "</div>"
      ],
      "text/plain": [
       "      상세영업상태명                                  도로명전체주소          사업장명     구  \\\n",
       "1313       영업                  인천광역시 옹진군 백령면 백령로 298-1        장미노래클럽   NaN   \n",
       "1314       영업                   인천광역시 옹진군 영흥면 영흥남로 307       빠샤 노래주점   NaN   \n",
       "1315       영업                인천광역시 옹진군 영흥면 영흥북로35번길 21    뉴 차차차 노래클럽   NaN   \n",
       "1316       영업                  인천광역시 옹진군 백령면 백령로 282-1           퍼펙트   NaN   \n",
       "1317       영업                인천광역시 옹진군 백령면 백령로 287, 1층          텔레파시   NaN   \n",
       "...       ...                                      ...           ...   ...   \n",
       "53124      폐업       인천광역시 서구 길주로 79, 지하B01,B301호 (석남동)  쿵텝(KungThep)    서구   \n",
       "53135      폐업                  경기도 포천시 소흘읍 솔모루로 55, 5층      7090라이브룸   NaN   \n",
       "53136      폐업       경기도 파주시 소리천로 25, 유은타워7차 317호 (야당동)    아리라이브 7080   NaN   \n",
       "53142      폐업          경기도 시흥시 중심상가로 332, 2층 일부호 (정왕동)        프라이빗클럽   NaN   \n",
       "53145      폐업  인천광역시 미추홀구 경원대로 853, 삼미쇼핑 3층 302호 (주안동)       금강산 캬바레  미추홀구   \n",
       "\n",
       "          시도  \n",
       "1313   인천광역시  \n",
       "1314   인천광역시  \n",
       "1315   인천광역시  \n",
       "1316   인천광역시  \n",
       "1317   인천광역시  \n",
       "...      ...  \n",
       "53124  인천광역시  \n",
       "53135    경기도  \n",
       "53136    경기도  \n",
       "53142    경기도  \n",
       "53145  인천광역시  \n",
       "\n",
       "[8766 rows x 5 columns]"
      ]
     },
     "execution_count": 20,
     "metadata": {},
     "output_type": "execute_result"
    }
   ],
   "source": [
    "alcohol_icgg"
   ]
  },
  {
   "cell_type": "code",
   "execution_count": null,
   "metadata": {
    "id": "Uqjc1rYWKM10"
   },
   "outputs": [],
   "source": [
    "# 영업중인 데이터만 필터링\n",
    "open = alcohol_icgg['상세영업상태명'] == '영업'\n",
    "\n",
    "alcohol_icgg = alcohol_icgg[open]"
   ]
  },
  {
   "cell_type": "code",
   "execution_count": null,
   "metadata": {
    "id": "1fLcgdRlKM10",
    "outputId": "8cb37170-afdb-4f5e-e960-3fa78938f0bd"
   },
   "outputs": [],
   "source": [
    "si_gun_gu_list = [\n",
    "    '동구', '남구', '미추홀구', '연수구', '남동구', '부평구', '계양구', '서구', '강화군', '옹진군',\n",
    "    '수원시', '성남시', '의정부시', '안양시', '부천시', '광명시', '평택시', '동두천시', '안산시', '고양시',\n",
    "    '과천시', '구리시', '남양주시', '오산시', '시흥시', '군포시', '의왕시', '하남시', '용인시', '파주시',\n",
    "    '이천시', '안성시', '김포시', '화성시', '광주시', '양주시', '포천시', '여주시', '연천군', '가평군', '양평군', '중구'\n",
    "]\n",
    "\n",
    "def extract_si_gun_gu(address):\n",
    "    if pd.isna(address):  # 주소가 NaN일 경우\n",
    "        return None\n",
    "    for si_gun_gu in si_gun_gu_list:\n",
    "        if si_gun_gu in address:\n",
    "            return si_gun_gu\n",
    "    return None  # 시군구 리스트에 해당하는 값이 없는 경우\n",
    "\n",
    "alcohol_icgg['시군구2'] = alcohol_icgg['도로명전체주소'].apply(extract_si_gun_gu)\n",
    "\n",
    "alcohol_icgg\n"
   ]
  },
  {
   "cell_type": "code",
   "execution_count": null,
   "metadata": {
    "id": "14RMH4rxKM11",
    "outputId": "d770945c-fdeb-42b6-dc50-699cacb7bbf0"
   },
   "outputs": [
    {
     "data": {
      "text/plain": [
       "array(['옹진군', '중구', '미추홀구', '서구', '안산시', '구리시', '성남시', '동두천시', '광주시',\n",
       "       '가평군', '광명시', '의정부시', '파주시', '양주시', '여주시', '오산시', '이천시', '용인시',\n",
       "       '평택시', '김포시', '동구', '부평구', '양평군', '남양주시', '계양구', '시흥시', '화성시',\n",
       "       '수원시', '안성시', '안양시', '강화군', '포천시', '하남시', '의왕시', '연천군', '부천시',\n",
       "       '연수구', '군포시', '고양시'], dtype=object)"
      ]
     },
     "execution_count": 31,
     "metadata": {},
     "output_type": "execute_result"
    }
   ],
   "source": [
    "alcohol_icgg['시군구2'].unique()"
   ]
  },
  {
   "cell_type": "markdown",
   "metadata": {},
   "source": [
    "데이터 저장"
   ]
  },
  {
   "cell_type": "code",
   "execution_count": null,
   "metadata": {
    "id": "QyC2rOUpKM13"
   },
   "outputs": [],
   "source": [
    "alcohol_icgg.to_csv('인천경기_유흥업소.csv', index=False, encoding='utf-8-sig')"
   ]
  }
 ],
 "metadata": {
  "colab": {
   "provenance": []
  },
  "kernelspec": {
   "display_name": "Python 3",
   "language": "python",
   "name": "python3"
  },
  "language_info": {
   "codemirror_mode": {
    "name": "ipython",
    "version": 3
   },
   "file_extension": ".py",
   "mimetype": "text/x-python",
   "name": "python",
   "nbconvert_exporter": "python",
   "pygments_lexer": "ipython3",
   "version": "3.11.9"
  }
 },
 "nbformat": 4,
 "nbformat_minor": 0
}
