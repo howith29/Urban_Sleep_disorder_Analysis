{
 "cells": [
  {
   "cell_type": "markdown",
   "metadata": {},
   "source": [
    "# 활동량 데이터 전처리"
   ]
  },
  {
   "cell_type": "code",
   "execution_count": 2,
   "metadata": {},
   "outputs": [],
   "source": [
    "import pandas as pd"
   ]
  },
  {
   "cell_type": "code",
   "execution_count": null,
   "metadata": {},
   "outputs": [
    {
     "data": {
      "text/html": [
       "<div>\n",
       "<style scoped>\n",
       "    .dataframe tbody tr th:only-of-type {\n",
       "        vertical-align: middle;\n",
       "    }\n",
       "\n",
       "    .dataframe tbody tr th {\n",
       "        vertical-align: top;\n",
       "    }\n",
       "\n",
       "    .dataframe thead th {\n",
       "        text-align: right;\n",
       "    }\n",
       "</style>\n",
       "<table border=\"1\" class=\"dataframe\">\n",
       "  <thead>\n",
       "    <tr style=\"text-align: right;\">\n",
       "      <th></th>\n",
       "      <th>BASE_YM</th>\n",
       "      <th>CTPRVN_CD</th>\n",
       "      <th>CTPRVN_NM</th>\n",
       "      <th>SIGNGU_CD</th>\n",
       "      <th>SIGNGU_NM</th>\n",
       "      <th>SIGNGU_ACCTO_FCLTY_CO</th>\n",
       "      <th>SIGNGU_ACCTO_POPLTN_CO</th>\n",
       "      <th>PSNBY_FCLTY_CO</th>\n",
       "      <th>PSNBY_FCL_CO_RANK_CO</th>\n",
       "    </tr>\n",
       "  </thead>\n",
       "  <tbody>\n",
       "    <tr>\n",
       "      <th>0</th>\n",
       "      <td>202008</td>\n",
       "      <td>1100000000</td>\n",
       "      <td>서울특별시</td>\n",
       "      <td>1111000000</td>\n",
       "      <td>종로구</td>\n",
       "      <td>81</td>\n",
       "      <td>149962</td>\n",
       "      <td>0.00054</td>\n",
       "      <td>127</td>\n",
       "    </tr>\n",
       "    <tr>\n",
       "      <th>1</th>\n",
       "      <td>202008</td>\n",
       "      <td>1100000000</td>\n",
       "      <td>서울특별시</td>\n",
       "      <td>1114000000</td>\n",
       "      <td>중구</td>\n",
       "      <td>26</td>\n",
       "      <td>125990</td>\n",
       "      <td>0.00021</td>\n",
       "      <td>182</td>\n",
       "    </tr>\n",
       "    <tr>\n",
       "      <th>2</th>\n",
       "      <td>202008</td>\n",
       "      <td>1100000000</td>\n",
       "      <td>서울특별시</td>\n",
       "      <td>1117000000</td>\n",
       "      <td>용산구</td>\n",
       "      <td>28</td>\n",
       "      <td>229362</td>\n",
       "      <td>0.00012</td>\n",
       "      <td>207</td>\n",
       "    </tr>\n",
       "    <tr>\n",
       "      <th>3</th>\n",
       "      <td>202008</td>\n",
       "      <td>1100000000</td>\n",
       "      <td>서울특별시</td>\n",
       "      <td>1120000000</td>\n",
       "      <td>성동구</td>\n",
       "      <td>28</td>\n",
       "      <td>296183</td>\n",
       "      <td>0.00009</td>\n",
       "      <td>213</td>\n",
       "    </tr>\n",
       "    <tr>\n",
       "      <th>4</th>\n",
       "      <td>202008</td>\n",
       "      <td>1100000000</td>\n",
       "      <td>서울특별시</td>\n",
       "      <td>1121500000</td>\n",
       "      <td>광진구</td>\n",
       "      <td>25</td>\n",
       "      <td>348647</td>\n",
       "      <td>0.00007</td>\n",
       "      <td>220</td>\n",
       "    </tr>\n",
       "  </tbody>\n",
       "</table>\n",
       "</div>"
      ],
      "text/plain": [
       "   BASE_YM   CTPRVN_CD CTPRVN_NM   SIGNGU_CD SIGNGU_NM  SIGNGU_ACCTO_FCLTY_CO  \\\n",
       "0   202008  1100000000     서울특별시  1111000000       종로구                     81   \n",
       "1   202008  1100000000     서울특별시  1114000000        중구                     26   \n",
       "2   202008  1100000000     서울특별시  1117000000       용산구                     28   \n",
       "3   202008  1100000000     서울특별시  1120000000       성동구                     28   \n",
       "4   202008  1100000000     서울특별시  1121500000       광진구                     25   \n",
       "\n",
       "   SIGNGU_ACCTO_POPLTN_CO  PSNBY_FCLTY_CO  PSNBY_FCL_CO_RANK_CO  \n",
       "0                  149962         0.00054                   127  \n",
       "1                  125990         0.00021                   182  \n",
       "2                  229362         0.00012                   207  \n",
       "3                  296183         0.00009                   213  \n",
       "4                  348647         0.00007                   220  "
      ]
     },
     "execution_count": 3,
     "metadata": {},
     "output_type": "execute_result"
    }
   ],
   "source": [
    "# 데이터 불러오기\n",
    "df = pd.read_csv('data/raw/KS_AREA_ACCTO_PUBLIC_ALSFC_SUPPLY_STTUS_INFO_202407.csv')\n",
    "df.head()"
   ]
  },
  {
   "cell_type": "markdown",
   "metadata": {},
   "source": [
    "지역 필터링"
   ]
  },
  {
   "cell_type": "code",
   "execution_count": 5,
   "metadata": {},
   "outputs": [
    {
     "data": {
      "text/plain": [
       "array(['서울특별시', '인천광역시', '경기도'], dtype=object)"
      ]
     },
     "execution_count": 5,
     "metadata": {},
     "output_type": "execute_result"
    }
   ],
   "source": [
    "#서울,경기,인천 필터링\n",
    "activity_df = df[(df['CTPRVN_NM'].isin(['서울특별시', '경기도', '인천광역시']))]\n",
    "activity_df['CTPRVN_NM'].unique()"
   ]
  },
  {
   "cell_type": "code",
   "execution_count": null,
   "metadata": {},
   "outputs": [],
   "source": [
    "# 필요없는 컬럼 삭제\n",
    "activity_df.drop(['CTPRVN_CD','SIGNGU_CD','PSNBY_FCL_CO_RANK_CO'], axis=1, inplace=True)"
   ]
  },
  {
   "cell_type": "markdown",
   "metadata": {},
   "source": [
    "년도 필터링"
   ]
  },
  {
   "cell_type": "code",
   "execution_count": 7,
   "metadata": {},
   "outputs": [
    {
     "data": {
      "text/plain": [
       "dtype('int64')"
      ]
     },
     "execution_count": 7,
     "metadata": {},
     "output_type": "execute_result"
    }
   ],
   "source": [
    "activity_df['BASE_YM'].dtypes"
   ]
  },
  {
   "cell_type": "code",
   "execution_count": 8,
   "metadata": {},
   "outputs": [],
   "source": [
    "# 2020년 필터링\n",
    "activity_df= activity_df[activity_df['BASE_YM'].astype(str).str.startswith('2020')]"
   ]
  },
  {
   "cell_type": "code",
   "execution_count": 9,
   "metadata": {},
   "outputs": [],
   "source": [
    "# 컬럼명 수정\n",
    "activity_df.rename({'BASE_YM':'기준연월','CTPRVN_NM':'시도명','SIGNGU_NM':'시군구명','SIGNGU_ACCTO_FCLTY_CO':'시군구별시설수','SIGNGU_ACCTO_POPLTN_CO':'시군구별인구수','PSNBY_FCLTY_CO':'인당시설수'},\n",
    "                     axis='columns', inplace=True)"
   ]
  },
  {
   "cell_type": "markdown",
   "metadata": {},
   "source": [
    "시군구 통합"
   ]
  },
  {
   "cell_type": "markdown",
   "metadata": {},
   "source": [
    "시군구2 : 경기/인천 '구' 단위 → '시' 단위 통합"
   ]
  },
  {
   "cell_type": "code",
   "execution_count": 10,
   "metadata": {},
   "outputs": [],
   "source": [
    "def replace_values_with_multiple_substrings(activity_df, column, replacements):\n",
    "  for old_value, new_value in replacements.items():\n",
    "        activity_df.loc[activity_df[column].str.contains(old_value, na=False), column] = new_value\n",
    "  return activity_df\n",
    "\n",
    "replacements = {\n",
    "    '수원시': '수원시',\n",
    "    '성남시': '성남시',\n",
    "    '안양시': '안양시',\n",
    "    '부천시': '부천시',\n",
    "    '안산시': '안산시',\n",
    "    '고양시': '고양시',\n",
    "    '용인시': '용인시',\n",
    "}\n",
    "activity_df['시군구2'] = activity_df['시군구명']\n",
    "activity_df = replace_values_with_multiple_substrings(activity_df, '시군구2', replacements)"
   ]
  },
  {
   "cell_type": "markdown",
   "metadata": {},
   "source": [
    "데이터 저장"
   ]
  },
  {
   "cell_type": "code",
   "execution_count": 13,
   "metadata": {},
   "outputs": [],
   "source": [
    "activity_df.to_csv('data1/activity.csv')"
   ]
  }
 ],
 "metadata": {
  "kernelspec": {
   "display_name": "Python 3",
   "language": "python",
   "name": "python3"
  },
  "language_info": {
   "codemirror_mode": {
    "name": "ipython",
    "version": 3
   },
   "file_extension": ".py",
   "mimetype": "text/x-python",
   "name": "python",
   "nbconvert_exporter": "python",
   "pygments_lexer": "ipython3",
   "version": "3.11.9"
  }
 },
 "nbformat": 4,
 "nbformat_minor": 2
}
