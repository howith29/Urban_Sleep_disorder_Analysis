{
 "cells": [
  {
   "cell_type": "markdown",
   "metadata": {},
   "source": [
    "# 📁 01. 데이터 전처리 및 통합"
   ]
  },
  {
   "cell_type": "code",
   "execution_count": 1,
   "metadata": {},
   "outputs": [],
   "source": [
    "import pandas as pd"
   ]
  },
  {
   "cell_type": "markdown",
   "metadata": {},
   "source": [
    "## 데이터 세트 전처리"
   ]
  },
  {
   "cell_type": "markdown",
   "metadata": {},
   "source": [
    "### 🌟 공통 전처리\n",
    "- **기간** : 2021년 데이터 기준\n",
    "- **지역** : 서울특별시, 경기도, 인천광역시\n",
    "- **지역 통합 처리**\n",
    "    - 경기도, 인천광역시 데이터: '구' → '시' 단위로 통합(평균)\n",
    "    - '중구' 중복 구분: 서울중구, 인천중구로 명시\n",
    "- **고유값 설정** : 지역구명을 고유 인덱스로 설정하여 데이터 병합"
   ]
  },
  {
   "cell_type": "markdown",
   "metadata": {},
   "source": [
    "- - -"
   ]
  },
  {
   "cell_type": "markdown",
   "metadata": {},
   "source": [
    "### 💤 수면장애 데이터 전처리\n",
    "- 출처: 국민건강보험공단_수면장애 관련 주상병별 진료정보\n",
    "- 사용 조건:\n",
    "    - **2021**년도\n",
    "    - 주상병명 = **'비기질성 수면장애'**\n",
    "- 사용 변수: `시군구`, `진료인원(명)`"
   ]
  },
  {
   "cell_type": "code",
   "execution_count": null,
   "metadata": {},
   "outputs": [
    {
     "data": {
      "text/html": [
       "<div>\n",
       "<style scoped>\n",
       "    .dataframe tbody tr th:only-of-type {\n",
       "        vertical-align: middle;\n",
       "    }\n",
       "\n",
       "    .dataframe tbody tr th {\n",
       "        vertical-align: top;\n",
       "    }\n",
       "\n",
       "    .dataframe thead th {\n",
       "        text-align: right;\n",
       "    }\n",
       "</style>\n",
       "<table border=\"1\" class=\"dataframe\">\n",
       "  <thead>\n",
       "    <tr style=\"text-align: right;\">\n",
       "      <th></th>\n",
       "      <th>주상병명</th>\n",
       "      <th>진료년도</th>\n",
       "      <th>시도</th>\n",
       "      <th>시군구</th>\n",
       "      <th>진료인원(명)</th>\n",
       "      <th>시군구2</th>\n",
       "    </tr>\n",
       "  </thead>\n",
       "  <tbody>\n",
       "    <tr>\n",
       "      <th>0</th>\n",
       "      <td>비기질성 수면장애</td>\n",
       "      <td>2021</td>\n",
       "      <td>서울특별시</td>\n",
       "      <td>종로구</td>\n",
       "      <td>1202</td>\n",
       "      <td>종로구</td>\n",
       "    </tr>\n",
       "    <tr>\n",
       "      <th>1</th>\n",
       "      <td>비기질성 수면장애</td>\n",
       "      <td>2021</td>\n",
       "      <td>서울특별시</td>\n",
       "      <td>중구</td>\n",
       "      <td>1280</td>\n",
       "      <td>중구</td>\n",
       "    </tr>\n",
       "    <tr>\n",
       "      <th>2</th>\n",
       "      <td>비기질성 수면장애</td>\n",
       "      <td>2021</td>\n",
       "      <td>서울특별시</td>\n",
       "      <td>용산구</td>\n",
       "      <td>1955</td>\n",
       "      <td>용산구</td>\n",
       "    </tr>\n",
       "    <tr>\n",
       "      <th>3</th>\n",
       "      <td>비기질성 수면장애</td>\n",
       "      <td>2021</td>\n",
       "      <td>서울특별시</td>\n",
       "      <td>성동구</td>\n",
       "      <td>2256</td>\n",
       "      <td>성동구</td>\n",
       "    </tr>\n",
       "    <tr>\n",
       "      <th>4</th>\n",
       "      <td>비기질성 수면장애</td>\n",
       "      <td>2021</td>\n",
       "      <td>서울특별시</td>\n",
       "      <td>광진구</td>\n",
       "      <td>2351</td>\n",
       "      <td>광진구</td>\n",
       "    </tr>\n",
       "  </tbody>\n",
       "</table>\n",
       "</div>"
      ],
      "text/plain": [
       "        주상병명  진료년도     시도  시군구  진료인원(명) 시군구2\n",
       "0  비기질성 수면장애  2021  서울특별시  종로구     1202  종로구\n",
       "1  비기질성 수면장애  2021  서울특별시   중구     1280   중구\n",
       "2  비기질성 수면장애  2021  서울특별시  용산구     1955  용산구\n",
       "3  비기질성 수면장애  2021  서울특별시  성동구     2256  성동구\n",
       "4  비기질성 수면장애  2021  서울특별시  광진구     2351  광진구"
      ]
     },
     "execution_count": 15,
     "metadata": {},
     "output_type": "execute_result"
    }
   ],
   "source": [
    "# 데이터 불러오기\n",
    "data = pd.read_csv('data/수면장애 관련 주상병별 진료정보_2020.csv')\n",
    "data.head()"
   ]
  },
  {
   "cell_type": "code",
   "execution_count": 16,
   "metadata": {},
   "outputs": [
    {
     "data": {
      "text/plain": [
       "Index(['주상병명', '시도', '시군구', '진료인원(명)', '시군구2'], dtype='object')"
      ]
     },
     "execution_count": 16,
     "metadata": {},
     "output_type": "execute_result"
    }
   ],
   "source": [
    "# 진료년도 컬럼 삭제(모두 2021년으로 동일)\n",
    "data.drop(columns='진료년도', inplace=True)\n",
    "data.columns"
   ]
  },
  {
   "cell_type": "code",
   "execution_count": 17,
   "metadata": {},
   "outputs": [],
   "source": [
    "# 중구 중복 처리\n",
    "data.loc[(data['시도']=='서울특별시')&(data['시군구']=='중구'), '시군구'] = '서울중구'\n",
    "data.loc[(data['시도']=='인천광역시')&(data['시군구']=='중구'), '시군구'] = '인천중구'\n",
    "\n",
    "# 시군구 대분류(시군구2) 중구 중복 처리\n",
    "data.loc[(data['시도']=='서울특별시')&(data['시군구2']=='중구'), '시군구2'] = '서울중구'\n",
    "data.loc[(data['시도']=='인천광역시')&(data['시군구2']=='중구'), '시군구2'] = '인천중구'"
   ]
  },
  {
   "cell_type": "code",
   "execution_count": 18,
   "metadata": {},
   "outputs": [
    {
     "name": "stdout",
     "output_type": "stream",
     "text": [
      "시군구 고유값입니다.\n"
     ]
    }
   ],
   "source": [
    "# 시군구 고유값인지 확인\n",
    "if (data['시군구'].value_counts() > 1).any():\n",
    "    print('시군구 고유값이 아닙니다.')\n",
    "else:\n",
    "    print('시군구 고유값입니다.')"
   ]
  },
  {
   "cell_type": "code",
   "execution_count": 19,
   "metadata": {},
   "outputs": [],
   "source": [
    "# 중복된 시군구명 행을 첫 행만 남기고 나머지 삭제\n",
    "data = data.drop_duplicates(subset=['시군구2'], keep='first')\n",
    "\n",
    "# 빈도 컬럼을 중복된 시군구명의 평균값으로 대체\n",
    "data['진료인원(명)'] = data.groupby('시군구2')['진료인원(명)'].transform('mean')\n",
    "\n",
    "# 중복된 시군구명 행을 다시 삭제하여 평균값이 반영된 첫 행만 남기기\n",
    "data = data.drop_duplicates(subset=['시군구2'], keep='first')"
   ]
  },
  {
   "cell_type": "code",
   "execution_count": 20,
   "metadata": {},
   "outputs": [
    {
     "name": "stdout",
     "output_type": "stream",
     "text": [
      "중복없음\n"
     ]
    }
   ],
   "source": [
    "if (data['시군구2'].value_counts() > 1).any():\n",
    "    print('중복된 시군구2 값:', data['시군구2'].value_counts()[data['시군구2'].value_counts() > 1].index.tolist())\n",
    "else:\n",
    "    print('중복없음')"
   ]
  },
  {
   "cell_type": "markdown",
   "metadata": {},
   "source": [
    "### 🍔 야식(배달) 데이터 전처리   "
   ]
  },
  {
   "cell_type": "markdown",
   "metadata": {},
   "source": [
    "1) 야식 빈도 데이터 전처리\n",
    "    - `세대구성대분류명`을 시군구별로 평균 집계하여 컬럼화\n",
    "    - '다섯가구 미만' → '5'로 대체하여 수치형으로 변환"
   ]
  },
  {
   "cell_type": "code",
   "execution_count": null,
   "metadata": {},
   "outputs": [
    {
     "data": {
      "text/html": [
       "<div>\n",
       "<style scoped>\n",
       "    .dataframe tbody tr th:only-of-type {\n",
       "        vertical-align: middle;\n",
       "    }\n",
       "\n",
       "    .dataframe tbody tr th {\n",
       "        vertical-align: top;\n",
       "    }\n",
       "\n",
       "    .dataframe thead th {\n",
       "        text-align: right;\n",
       "    }\n",
       "</style>\n",
       "<table border=\"1\" class=\"dataframe\">\n",
       "  <thead>\n",
       "    <tr style=\"text-align: right;\">\n",
       "      <th></th>\n",
       "      <th>년</th>\n",
       "      <th>광역시도명</th>\n",
       "      <th>시군구명</th>\n",
       "      <th>세대구성대분류명</th>\n",
       "      <th>빈도</th>\n",
       "      <th>시군구2</th>\n",
       "    </tr>\n",
       "  </thead>\n",
       "  <tbody>\n",
       "    <tr>\n",
       "      <th>0</th>\n",
       "      <td>2020</td>\n",
       "      <td>서울특별시</td>\n",
       "      <td>종로구</td>\n",
       "      <td>1세대 가구</td>\n",
       "      <td>8752.0</td>\n",
       "      <td>종로구</td>\n",
       "    </tr>\n",
       "    <tr>\n",
       "      <th>1</th>\n",
       "      <td>2020</td>\n",
       "      <td>서울특별시</td>\n",
       "      <td>종로구</td>\n",
       "      <td>1세대 가구</td>\n",
       "      <td>3162.0</td>\n",
       "      <td>종로구</td>\n",
       "    </tr>\n",
       "    <tr>\n",
       "      <th>2</th>\n",
       "      <td>2020</td>\n",
       "      <td>서울특별시</td>\n",
       "      <td>종로구</td>\n",
       "      <td>1세대 가구</td>\n",
       "      <td>2628.0</td>\n",
       "      <td>종로구</td>\n",
       "    </tr>\n",
       "    <tr>\n",
       "      <th>3</th>\n",
       "      <td>2020</td>\n",
       "      <td>서울특별시</td>\n",
       "      <td>종로구</td>\n",
       "      <td>1세대 가구</td>\n",
       "      <td>836.0</td>\n",
       "      <td>종로구</td>\n",
       "    </tr>\n",
       "    <tr>\n",
       "      <th>4</th>\n",
       "      <td>2020</td>\n",
       "      <td>서울특별시</td>\n",
       "      <td>종로구</td>\n",
       "      <td>1세대 가구</td>\n",
       "      <td>1406.0</td>\n",
       "      <td>종로구</td>\n",
       "    </tr>\n",
       "  </tbody>\n",
       "</table>\n",
       "</div>"
      ],
      "text/plain": [
       "      년  광역시도명 시군구명 세대구성대분류명      빈도 시군구2\n",
       "0  2020  서울특별시  종로구   1세대 가구  8752.0  종로구\n",
       "1  2020  서울특별시  종로구   1세대 가구  3162.0  종로구\n",
       "2  2020  서울특별시  종로구   1세대 가구  2628.0  종로구\n",
       "3  2020  서울특별시  종로구   1세대 가구   836.0  종로구\n",
       "4  2020  서울특별시  종로구   1세대 가구  1406.0  종로구"
      ]
     },
     "execution_count": 22,
     "metadata": {},
     "output_type": "execute_result"
    }
   ],
   "source": [
    "# 주거 특성별 배달 데이터 불러오기\n",
    "data2 = pd.read_csv('data/delivery.csv', index_col=0)\n",
    "data2.head()"
   ]
  },
  {
   "cell_type": "code",
   "execution_count": 23,
   "metadata": {},
   "outputs": [],
   "source": [
    "# 년도 컬럼 삭제\n",
    "data2.drop(columns=['년'], inplace=True)\n",
    "\n",
    "# 광역시도명 -> 시도/ 시군구명 -> 시군구로 컬럼명 변경\n",
    "data2.rename(columns={'광역시도명':'시도'}, inplace=True)\n",
    "data2.rename(columns={'시군구명':'시군구'}, inplace=True)"
   ]
  },
  {
   "cell_type": "code",
   "execution_count": 24,
   "metadata": {},
   "outputs": [],
   "source": [
    "# 중구 중복 처리\n",
    "data2.loc[(data2['시도']=='서울특별시')&(data2['시군구']=='중구'), '시군구'] = '서울중구'\n",
    "data2.loc[(data2['시도']=='인천광역시')&(data2['시군구']=='중구'), '시군구'] = '인천중구'\n",
    "\n",
    "# 중구 중복 처리\n",
    "data2.loc[(data2['시도']=='서울특별시')&(data2['시군구2']=='중구'), '시군구2'] = '서울중구'\n",
    "data2.loc[(data2['시도']=='인천광역시')&(data2['시군구2']=='중구'), '시군구2'] = '인천중구'"
   ]
  },
  {
   "cell_type": "code",
   "execution_count": 25,
   "metadata": {},
   "outputs": [
    {
     "data": {
      "text/plain": [
       "array(['1세대 가구', '2세대 가구', '3세대 가구', '4세대 이상 가구', '1인 가구', '비친족 가구'],\n",
       "      dtype=object)"
      ]
     },
     "execution_count": 25,
     "metadata": {},
     "output_type": "execute_result"
    }
   ],
   "source": [
    "# 세대구성대분류명 확인\n",
    "data2['세대구성대분류명'].unique()"
   ]
  },
  {
   "cell_type": "code",
   "execution_count": 26,
   "metadata": {},
   "outputs": [
    {
     "data": {
      "text/html": [
       "<div>\n",
       "<style scoped>\n",
       "    .dataframe tbody tr th:only-of-type {\n",
       "        vertical-align: middle;\n",
       "    }\n",
       "\n",
       "    .dataframe tbody tr th {\n",
       "        vertical-align: top;\n",
       "    }\n",
       "\n",
       "    .dataframe thead th {\n",
       "        text-align: right;\n",
       "    }\n",
       "</style>\n",
       "<table border=\"1\" class=\"dataframe\">\n",
       "  <thead>\n",
       "    <tr style=\"text-align: right;\">\n",
       "      <th></th>\n",
       "      <th>시도</th>\n",
       "      <th>시군구</th>\n",
       "      <th>시군구2</th>\n",
       "      <th>1세대 가구</th>\n",
       "      <th>1인 가구</th>\n",
       "      <th>2세대 가구</th>\n",
       "      <th>3세대 가구</th>\n",
       "      <th>4세대 이상 가구</th>\n",
       "      <th>비친족 가구</th>\n",
       "    </tr>\n",
       "  </thead>\n",
       "  <tbody>\n",
       "    <tr>\n",
       "      <th>0</th>\n",
       "      <td>서울특별시</td>\n",
       "      <td>종로구</td>\n",
       "      <td>종로구</td>\n",
       "      <td>348.633333</td>\n",
       "      <td>5198.666667</td>\n",
       "      <td>507.567407</td>\n",
       "      <td>119.103333</td>\n",
       "      <td>6.186667</td>\n",
       "      <td>380.753333</td>\n",
       "    </tr>\n",
       "    <tr>\n",
       "      <th>1</th>\n",
       "      <td>서울특별시</td>\n",
       "      <td>서울중구</td>\n",
       "      <td>서울중구</td>\n",
       "      <td>314.186667</td>\n",
       "      <td>4565.666667</td>\n",
       "      <td>427.126667</td>\n",
       "      <td>94.586667</td>\n",
       "      <td>5.173333</td>\n",
       "      <td>381.146667</td>\n",
       "    </tr>\n",
       "    <tr>\n",
       "      <th>2</th>\n",
       "      <td>서울특별시</td>\n",
       "      <td>용산구</td>\n",
       "      <td>용산구</td>\n",
       "      <td>553.745556</td>\n",
       "      <td>7378.266667</td>\n",
       "      <td>792.157778</td>\n",
       "      <td>158.685000</td>\n",
       "      <td>6.453333</td>\n",
       "      <td>709.946667</td>\n",
       "    </tr>\n",
       "    <tr>\n",
       "      <th>3</th>\n",
       "      <td>서울특별시</td>\n",
       "      <td>성동구</td>\n",
       "      <td>성동구</td>\n",
       "      <td>712.411111</td>\n",
       "      <td>8519.066667</td>\n",
       "      <td>1135.387407</td>\n",
       "      <td>228.603333</td>\n",
       "      <td>7.206667</td>\n",
       "      <td>541.346667</td>\n",
       "    </tr>\n",
       "    <tr>\n",
       "      <th>4</th>\n",
       "      <td>서울특별시</td>\n",
       "      <td>광진구</td>\n",
       "      <td>광진구</td>\n",
       "      <td>772.342222</td>\n",
       "      <td>12462.266667</td>\n",
       "      <td>1296.900000</td>\n",
       "      <td>247.738333</td>\n",
       "      <td>6.533333</td>\n",
       "      <td>688.546667</td>\n",
       "    </tr>\n",
       "  </tbody>\n",
       "</table>\n",
       "</div>"
      ],
      "text/plain": [
       "      시도   시군구  시군구2      1세대 가구         1인 가구       2세대 가구      3세대 가구  \\\n",
       "0  서울특별시   종로구   종로구  348.633333   5198.666667   507.567407  119.103333   \n",
       "1  서울특별시  서울중구  서울중구  314.186667   4565.666667   427.126667   94.586667   \n",
       "2  서울특별시   용산구   용산구  553.745556   7378.266667   792.157778  158.685000   \n",
       "3  서울특별시   성동구   성동구  712.411111   8519.066667  1135.387407  228.603333   \n",
       "4  서울특별시   광진구   광진구  772.342222  12462.266667  1296.900000  247.738333   \n",
       "\n",
       "   4세대 이상 가구      비친족 가구  \n",
       "0   6.186667  380.753333  \n",
       "1   5.173333  381.146667  \n",
       "2   6.453333  709.946667  \n",
       "3   7.206667  541.346667  \n",
       "4   6.533333  688.546667  "
      ]
     },
     "execution_count": 26,
     "metadata": {},
     "output_type": "execute_result"
    }
   ],
   "source": [
    "# 시군구별 세대구성대분류명의 빈도 평균 계산 (컬럼화)\n",
    "data_pivot = data2.pivot_table(index='시군구', columns='세대구성대분류명', values='빈도', aggfunc='mean')\n",
    "\n",
    "# 인덱스 초기화\n",
    "data_pivot = data_pivot.reset_index()\n",
    "\n",
    "# 세대구성대분류 대체\n",
    "data_final = data2.drop(columns=['세대구성대분류명', '빈도']).drop_duplicates(subset=['시군구'])\n",
    "\n",
    "# 기존 데이터와 병합\n",
    "data2 = pd.merge(data_final, data_pivot, on='시군구', how='left')\n",
    "data2.head()"
   ]
  },
  {
   "cell_type": "code",
   "execution_count": 27,
   "metadata": {},
   "outputs": [],
   "source": [
    "# 중복된 시군구명 행을 첫 행만 남기고 나머지 삭제\n",
    "data2 = data2.drop_duplicates(subset=['시군구2'], keep='first')\n",
    "\n",
    "# 빈도 컬럼을 중복된 시군구명의 평균값으로 대체\n",
    "columns_to_transform = ['1세대 가구', '2세대 가구', '3세대 가구', '4세대 이상 가구', '1인 가구', '비친족 가구']\n",
    "data2[columns_to_transform] = data2.groupby('시군구2')[columns_to_transform].transform('mean')\n",
    "\n",
    "# 중복된 시군구명 행을 다시 삭제하여 평균값이 반영된 첫 행만 남기기\n",
    "data2 = data2.drop_duplicates(subset=['시군구2'], keep='first')"
   ]
  },
  {
   "cell_type": "code",
   "execution_count": 28,
   "metadata": {},
   "outputs": [
    {
     "name": "stdout",
     "output_type": "stream",
     "text": [
      "시군구 고유값입니다.\n"
     ]
    }
   ],
   "source": [
    "# 시군구 고유값인지 확인\n",
    "if (data2['시군구2'].value_counts() > 1).any():\n",
    "    print('시군구 고유값이 아닙니다.')\n",
    "else:\n",
    "    print('시군구 고유값입니다.')"
   ]
  },
  {
   "cell_type": "markdown",
   "metadata": {},
   "source": [
    "2) 야식 평균주문금액 데이터 전처리\n",
    "    - `평균주문금액`을 시군구 기준으로 평균 집계\n",
    "    - 날짜, 시간대 관련 컬럼 제거"
   ]
  },
  {
   "cell_type": "code",
   "execution_count": null,
   "metadata": {},
   "outputs": [
    {
     "data": {
      "text/html": [
       "<div>\n",
       "<style scoped>\n",
       "    .dataframe tbody tr th:only-of-type {\n",
       "        vertical-align: middle;\n",
       "    }\n",
       "\n",
       "    .dataframe tbody tr th {\n",
       "        vertical-align: top;\n",
       "    }\n",
       "\n",
       "    .dataframe thead th {\n",
       "        text-align: right;\n",
       "    }\n",
       "</style>\n",
       "<table border=\"1\" class=\"dataframe\">\n",
       "  <thead>\n",
       "    <tr style=\"text-align: right;\">\n",
       "      <th></th>\n",
       "      <th>날짜</th>\n",
       "      <th>시간대별 시간</th>\n",
       "      <th>목적지 광역시도명</th>\n",
       "      <th>목적지 시군구명</th>\n",
       "      <th>평균주문금액</th>\n",
       "      <th>시군구2</th>\n",
       "    </tr>\n",
       "  </thead>\n",
       "  <tbody>\n",
       "    <tr>\n",
       "      <th>0</th>\n",
       "      <td>2021</td>\n",
       "      <td>0</td>\n",
       "      <td>경기도</td>\n",
       "      <td>동두천시</td>\n",
       "      <td>72667</td>\n",
       "      <td>동두천시</td>\n",
       "    </tr>\n",
       "    <tr>\n",
       "      <th>1</th>\n",
       "      <td>2021</td>\n",
       "      <td>0</td>\n",
       "      <td>경기도</td>\n",
       "      <td>부천시</td>\n",
       "      <td>34877</td>\n",
       "      <td>부천시</td>\n",
       "    </tr>\n",
       "    <tr>\n",
       "      <th>2</th>\n",
       "      <td>2021</td>\n",
       "      <td>0</td>\n",
       "      <td>경기도</td>\n",
       "      <td>안산시 상록구</td>\n",
       "      <td>24420</td>\n",
       "      <td>안산시</td>\n",
       "    </tr>\n",
       "    <tr>\n",
       "      <th>3</th>\n",
       "      <td>2021</td>\n",
       "      <td>0</td>\n",
       "      <td>경기도</td>\n",
       "      <td>의정부시</td>\n",
       "      <td>31600</td>\n",
       "      <td>의정부시</td>\n",
       "    </tr>\n",
       "    <tr>\n",
       "      <th>6</th>\n",
       "      <td>2021</td>\n",
       "      <td>0</td>\n",
       "      <td>서울특별시</td>\n",
       "      <td>구로구</td>\n",
       "      <td>34345</td>\n",
       "      <td>구로구</td>\n",
       "    </tr>\n",
       "  </tbody>\n",
       "</table>\n",
       "</div>"
      ],
      "text/plain": [
       "     날짜  시간대별 시간 목적지 광역시도명 목적지 시군구명  평균주문금액  시군구2\n",
       "0  2021        0       경기도     동두천시   72667  동두천시\n",
       "1  2021        0       경기도      부천시   34877   부천시\n",
       "2  2021        0       경기도  안산시 상록구   24420   안산시\n",
       "3  2021        0       경기도     의정부시   31600  의정부시\n",
       "6  2021        0     서울특별시      구로구   34345   구로구"
      ]
     },
     "execution_count": 35,
     "metadata": {},
     "output_type": "execute_result"
    }
   ],
   "source": [
    "# 주문 가격 데이터 불러오기\n",
    "data3 = pd.read_csv('data/order_price.csv', index_col=0)\n",
    "data3.head()"
   ]
  },
  {
   "cell_type": "code",
   "execution_count": 36,
   "metadata": {},
   "outputs": [],
   "source": [
    "# 날짜, 시군구2 컬럼 삭제\n",
    "data3.drop(columns=['날짜'], inplace=True)\n",
    "\n",
    "# 목적지 광역시도명 -> 시도, 목적지 시군구명 -> 시군구로 컬럼명 변경\n",
    "data3.rename(columns={'목적지 광역시도명':'시도'}, inplace=True)\n",
    "data3.rename(columns={'목적지 시군구명':'시군구'}, inplace=True)"
   ]
  },
  {
   "cell_type": "code",
   "execution_count": 37,
   "metadata": {},
   "outputs": [],
   "source": [
    "# 중구 중복 처리\n",
    "data3.loc[(data3['시도']=='서울특별시')&(data3['시군구']=='중구'), '시군구'] = '서울중구'\n",
    "data3.loc[(data3['시도']=='인천광역시')&(data3['시군구']=='중구'), '시군구'] = '인천중구'\n",
    "\n",
    "# 중구 중복 처리\n",
    "data3.loc[(data3['시도']=='서울특별시')&(data3['시군구2']=='중구'), '시군구2'] = '서울중구'\n",
    "data3.loc[(data3['시도']=='인천광역시')&(data3['시군구2']=='중구'), '시군구2'] = '인천중구'"
   ]
  },
  {
   "cell_type": "code",
   "execution_count": 38,
   "metadata": {},
   "outputs": [
    {
     "data": {
      "text/html": [
       "<div>\n",
       "<style scoped>\n",
       "    .dataframe tbody tr th:only-of-type {\n",
       "        vertical-align: middle;\n",
       "    }\n",
       "\n",
       "    .dataframe tbody tr th {\n",
       "        vertical-align: top;\n",
       "    }\n",
       "\n",
       "    .dataframe thead th {\n",
       "        text-align: right;\n",
       "    }\n",
       "</style>\n",
       "<table border=\"1\" class=\"dataframe\">\n",
       "  <thead>\n",
       "    <tr style=\"text-align: right;\">\n",
       "      <th></th>\n",
       "      <th>시도</th>\n",
       "      <th>시군구</th>\n",
       "      <th>시군구2</th>\n",
       "      <th>평균주문금액</th>\n",
       "    </tr>\n",
       "  </thead>\n",
       "  <tbody>\n",
       "    <tr>\n",
       "      <th>0</th>\n",
       "      <td>경기도</td>\n",
       "      <td>동두천시</td>\n",
       "      <td>동두천시</td>\n",
       "      <td>26882.143657</td>\n",
       "    </tr>\n",
       "    <tr>\n",
       "      <th>1</th>\n",
       "      <td>경기도</td>\n",
       "      <td>부천시</td>\n",
       "      <td>부천시</td>\n",
       "      <td>28329.552441</td>\n",
       "    </tr>\n",
       "    <tr>\n",
       "      <th>2</th>\n",
       "      <td>경기도</td>\n",
       "      <td>안산시 상록구</td>\n",
       "      <td>안산시</td>\n",
       "      <td>27154.460281</td>\n",
       "    </tr>\n",
       "    <tr>\n",
       "      <th>3</th>\n",
       "      <td>경기도</td>\n",
       "      <td>의정부시</td>\n",
       "      <td>의정부시</td>\n",
       "      <td>28458.182341</td>\n",
       "    </tr>\n",
       "    <tr>\n",
       "      <th>4</th>\n",
       "      <td>서울특별시</td>\n",
       "      <td>구로구</td>\n",
       "      <td>구로구</td>\n",
       "      <td>28139.356929</td>\n",
       "    </tr>\n",
       "  </tbody>\n",
       "</table>\n",
       "</div>"
      ],
      "text/plain": [
       "      시도      시군구  시군구2        평균주문금액\n",
       "0    경기도     동두천시  동두천시  26882.143657\n",
       "1    경기도      부천시   부천시  28329.552441\n",
       "2    경기도  안산시 상록구   안산시  27154.460281\n",
       "3    경기도     의정부시  의정부시  28458.182341\n",
       "4  서울특별시      구로구   구로구  28139.356929"
      ]
     },
     "execution_count": 38,
     "metadata": {},
     "output_type": "execute_result"
    }
   ],
   "source": [
    "# 야간평균주문금액\n",
    "\n",
    "# 시간대별 시간 컬럼 삭제\n",
    "data3.drop(columns=['시간대별 시간'], inplace=True)\n",
    "\n",
    "# 시군구별 평균주문금액 계산\n",
    "df_g = data3.groupby('시군구', as_index=False)['평균주문금액'].mean()\n",
    "\n",
    "# 기존 데이터에서 '평균주문금액' 컬럼 대체\n",
    "data3 = pd.merge(\n",
    "    data3.drop(columns=['평균주문금액']).drop_duplicates(subset=['시군구']),\n",
    "    df_g, on='시군구', how='left'\n",
    "    )\n",
    "data3.head()"
   ]
  },
  {
   "cell_type": "code",
   "execution_count": 39,
   "metadata": {},
   "outputs": [],
   "source": [
    "# 중복된 시군구명 행을 첫 행만 남기고 나머지 삭제\n",
    "data3 = data3.drop_duplicates(subset=['시군구2'], keep='first')\n",
    "\n",
    "# 빈도 컬럼을 중복된 시군구명의 평균값으로 대체\n",
    "data3['평균주문금액'] = data3.groupby('시군구2')['평균주문금액'].transform('mean')\n",
    "\n",
    "# 중복된 시군구명 행을 다시 삭제하여 평균값이 반영된 첫 행만 남기기\n",
    "data3 = data3.drop_duplicates(subset=['시군구2'], keep='first')"
   ]
  },
  {
   "cell_type": "code",
   "execution_count": 40,
   "metadata": {},
   "outputs": [
    {
     "name": "stdout",
     "output_type": "stream",
     "text": [
      "시군구 고유값입니다.\n"
     ]
    }
   ],
   "source": [
    "# 시군구 고유값인지 확인\n",
    "if (data3['시군구2'].value_counts() > 1).any():\n",
    "    print('시군구 고유값이 아닙니다.')\n",
    "else:\n",
    "    print('시군구 고유값입니다.')"
   ]
  },
  {
   "cell_type": "markdown",
   "metadata": {},
   "source": [
    "### 🏙️ 유흥업소 데이터 전처리"
   ]
  },
  {
   "cell_type": "markdown",
   "metadata": {},
   "source": [
    "- 유흥업소 개수 카운트 → 시군구별로 밀집도 수치화\n",
    "- 결측치 구는 삭제\n",
    "- 서울 + 인천/경기 : 구 단위 통일 후 병합"
   ]
  },
  {
   "cell_type": "markdown",
   "metadata": {},
   "source": [
    "1) 서울"
   ]
  },
  {
   "cell_type": "code",
   "execution_count": null,
   "metadata": {},
   "outputs": [
    {
     "data": {
      "text/html": [
       "<div>\n",
       "<style scoped>\n",
       "    .dataframe tbody tr th:only-of-type {\n",
       "        vertical-align: middle;\n",
       "    }\n",
       "\n",
       "    .dataframe tbody tr th {\n",
       "        vertical-align: top;\n",
       "    }\n",
       "\n",
       "    .dataframe thead th {\n",
       "        text-align: right;\n",
       "    }\n",
       "</style>\n",
       "<table border=\"1\" class=\"dataframe\">\n",
       "  <thead>\n",
       "    <tr style=\"text-align: right;\">\n",
       "      <th></th>\n",
       "      <th>상세영업상태코드</th>\n",
       "      <th>지번주소</th>\n",
       "      <th>사업장명</th>\n",
       "      <th>데이터갱신일자</th>\n",
       "      <th>구</th>\n",
       "    </tr>\n",
       "  </thead>\n",
       "  <tbody>\n",
       "    <tr>\n",
       "      <th>0</th>\n",
       "      <td>1</td>\n",
       "      <td>서울특별시 강남구 역삼동 678-24 늘봄빌딩</td>\n",
       "      <td>골드코스트</td>\n",
       "      <td>2023-12-07 00:07:00.0</td>\n",
       "      <td>강남구</td>\n",
       "    </tr>\n",
       "    <tr>\n",
       "      <th>1</th>\n",
       "      <td>1</td>\n",
       "      <td>서울특별시 송파구 가락동 98-7</td>\n",
       "      <td>골드1</td>\n",
       "      <td>2023-12-03 22:06:00.0</td>\n",
       "      <td>송파구</td>\n",
       "    </tr>\n",
       "    <tr>\n",
       "      <th>2</th>\n",
       "      <td>2</td>\n",
       "      <td>서울특별시 마포구 합정동 382-22번지 지하1층</td>\n",
       "      <td>??</td>\n",
       "      <td>2018-08-31 23:59:59.0</td>\n",
       "      <td>마포구</td>\n",
       "    </tr>\n",
       "    <tr>\n",
       "      <th>3</th>\n",
       "      <td>1</td>\n",
       "      <td>서울특별시 영등포구 신길동 449-22 신성빌딩</td>\n",
       "      <td>린스</td>\n",
       "      <td>2022-10-31 22:02:00.0</td>\n",
       "      <td>영등포구</td>\n",
       "    </tr>\n",
       "    <tr>\n",
       "      <th>4</th>\n",
       "      <td>1</td>\n",
       "      <td>서울특별시 서초구 잠원동 12-21</td>\n",
       "      <td>만남</td>\n",
       "      <td>2022-12-05 22:09:00.0</td>\n",
       "      <td>서초구</td>\n",
       "    </tr>\n",
       "  </tbody>\n",
       "</table>\n",
       "</div>"
      ],
      "text/plain": [
       "   상세영업상태코드                          지번주소   사업장명                데이터갱신일자     구\n",
       "0         1     서울특별시 강남구 역삼동 678-24 늘봄빌딩  골드코스트  2023-12-07 00:07:00.0   강남구\n",
       "1         1            서울특별시 송파구 가락동 98-7    골드1  2023-12-03 22:06:00.0   송파구\n",
       "2         2  서울특별시 마포구 합정동 382-22번지 지하1층      ??  2018-08-31 23:59:59.0   마포구\n",
       "3         1    서울특별시 영등포구 신길동 449-22 신성빌딩     린스  2022-10-31 22:02:00.0  영등포구\n",
       "4         1           서울특별시 서초구 잠원동 12-21     만남  2022-12-05 22:09:00.0   서초구"
      ]
     },
     "execution_count": 41,
     "metadata": {},
     "output_type": "execute_result"
    }
   ],
   "source": [
    "# 데이터 불러오기\n",
    "alcohol_seoul = pd.read_csv('data/서울_유흥업소_구별분류.csv')\n",
    "alcohol_seoul.head()"
   ]
  },
  {
   "cell_type": "code",
   "execution_count": 42,
   "metadata": {},
   "outputs": [],
   "source": [
    "# 중구 -> 서울중구 변경\n",
    "def change(name):\n",
    "    if name == '중구':\n",
    "        return '서울중구'\n",
    "    return name\n",
    "\n",
    "alcohol_seoul['구'] = alcohol_seoul['구'].apply(change)"
   ]
  },
  {
   "cell_type": "code",
   "execution_count": 43,
   "metadata": {},
   "outputs": [],
   "source": [
    "# 결측치 제거\n",
    "alcohol_seoul = alcohol_seoul.dropna(subset='구')"
   ]
  },
  {
   "cell_type": "code",
   "execution_count": 44,
   "metadata": {},
   "outputs": [],
   "source": [
    "# 사업장 수 카운트\n",
    "alcohol_seoul2 = alcohol_seoul.groupby(by='구', as_index=False).count()"
   ]
  },
  {
   "cell_type": "code",
   "execution_count": 45,
   "metadata": {},
   "outputs": [
    {
     "data": {
      "text/html": [
       "<div>\n",
       "<style scoped>\n",
       "    .dataframe tbody tr th:only-of-type {\n",
       "        vertical-align: middle;\n",
       "    }\n",
       "\n",
       "    .dataframe tbody tr th {\n",
       "        vertical-align: top;\n",
       "    }\n",
       "\n",
       "    .dataframe thead th {\n",
       "        text-align: right;\n",
       "    }\n",
       "</style>\n",
       "<table border=\"1\" class=\"dataframe\">\n",
       "  <thead>\n",
       "    <tr style=\"text-align: right;\">\n",
       "      <th></th>\n",
       "      <th>구</th>\n",
       "      <th>유흥업소 개수</th>\n",
       "    </tr>\n",
       "  </thead>\n",
       "  <tbody>\n",
       "    <tr>\n",
       "      <th>0</th>\n",
       "      <td>강남구</td>\n",
       "      <td>658</td>\n",
       "    </tr>\n",
       "    <tr>\n",
       "      <th>1</th>\n",
       "      <td>강동구</td>\n",
       "      <td>288</td>\n",
       "    </tr>\n",
       "    <tr>\n",
       "      <th>2</th>\n",
       "      <td>강북구</td>\n",
       "      <td>154</td>\n",
       "    </tr>\n",
       "    <tr>\n",
       "      <th>3</th>\n",
       "      <td>강서구</td>\n",
       "      <td>232</td>\n",
       "    </tr>\n",
       "    <tr>\n",
       "      <th>4</th>\n",
       "      <td>관악구</td>\n",
       "      <td>423</td>\n",
       "    </tr>\n",
       "  </tbody>\n",
       "</table>\n",
       "</div>"
      ],
      "text/plain": [
       "     구  유흥업소 개수\n",
       "0  강남구      658\n",
       "1  강동구      288\n",
       "2  강북구      154\n",
       "3  강서구      232\n",
       "4  관악구      423"
      ]
     },
     "execution_count": 45,
     "metadata": {},
     "output_type": "execute_result"
    }
   ],
   "source": [
    "# 사업장 수 컬럼만 남기기\n",
    "alcohol_seoul2 = alcohol_seoul2.drop(['상세영업상태코드','지번주소','데이터갱신일자'], axis=1)\n",
    "alcohol_seoul2.rename(columns={'사업장명':'유흥업소 개수'}, inplace=True)\n",
    "alcohol_seoul2.head()"
   ]
  },
  {
   "cell_type": "markdown",
   "metadata": {},
   "source": [
    "2) 인천&경기"
   ]
  },
  {
   "cell_type": "code",
   "execution_count": null,
   "metadata": {},
   "outputs": [
    {
     "data": {
      "text/html": [
       "<div>\n",
       "<style scoped>\n",
       "    .dataframe tbody tr th:only-of-type {\n",
       "        vertical-align: middle;\n",
       "    }\n",
       "\n",
       "    .dataframe tbody tr th {\n",
       "        vertical-align: top;\n",
       "    }\n",
       "\n",
       "    .dataframe thead th {\n",
       "        text-align: right;\n",
       "    }\n",
       "</style>\n",
       "<table border=\"1\" class=\"dataframe\">\n",
       "  <thead>\n",
       "    <tr style=\"text-align: right;\">\n",
       "      <th></th>\n",
       "      <th>상세영업상태명</th>\n",
       "      <th>도로명전체주소</th>\n",
       "      <th>사업장명</th>\n",
       "      <th>구</th>\n",
       "      <th>시도</th>\n",
       "      <th>시군구2</th>\n",
       "    </tr>\n",
       "  </thead>\n",
       "  <tbody>\n",
       "    <tr>\n",
       "      <th>0</th>\n",
       "      <td>영업</td>\n",
       "      <td>인천광역시 옹진군 백령면 백령로 298-1</td>\n",
       "      <td>장미노래클럽</td>\n",
       "      <td>NaN</td>\n",
       "      <td>인천광역시</td>\n",
       "      <td>옹진군</td>\n",
       "    </tr>\n",
       "    <tr>\n",
       "      <th>1</th>\n",
       "      <td>영업</td>\n",
       "      <td>인천광역시 옹진군 영흥면 영흥남로 307</td>\n",
       "      <td>빠샤 노래주점</td>\n",
       "      <td>NaN</td>\n",
       "      <td>인천광역시</td>\n",
       "      <td>옹진군</td>\n",
       "    </tr>\n",
       "    <tr>\n",
       "      <th>2</th>\n",
       "      <td>영업</td>\n",
       "      <td>인천광역시 옹진군 영흥면 영흥북로35번길 21</td>\n",
       "      <td>뉴 차차차 노래클럽</td>\n",
       "      <td>NaN</td>\n",
       "      <td>인천광역시</td>\n",
       "      <td>옹진군</td>\n",
       "    </tr>\n",
       "    <tr>\n",
       "      <th>3</th>\n",
       "      <td>영업</td>\n",
       "      <td>인천광역시 옹진군 백령면 백령로 282-1</td>\n",
       "      <td>퍼펙트</td>\n",
       "      <td>NaN</td>\n",
       "      <td>인천광역시</td>\n",
       "      <td>옹진군</td>\n",
       "    </tr>\n",
       "    <tr>\n",
       "      <th>4</th>\n",
       "      <td>영업</td>\n",
       "      <td>인천광역시 옹진군 백령면 백령로 287, 1층</td>\n",
       "      <td>텔레파시</td>\n",
       "      <td>NaN</td>\n",
       "      <td>인천광역시</td>\n",
       "      <td>옹진군</td>\n",
       "    </tr>\n",
       "  </tbody>\n",
       "</table>\n",
       "</div>"
      ],
      "text/plain": [
       "  상세영업상태명                    도로명전체주소        사업장명    구     시도 시군구2\n",
       "0      영업    인천광역시 옹진군 백령면 백령로 298-1      장미노래클럽  NaN  인천광역시  옹진군\n",
       "1      영업     인천광역시 옹진군 영흥면 영흥남로 307     빠샤 노래주점  NaN  인천광역시  옹진군\n",
       "2      영업  인천광역시 옹진군 영흥면 영흥북로35번길 21  뉴 차차차 노래클럽  NaN  인천광역시  옹진군\n",
       "3      영업    인천광역시 옹진군 백령면 백령로 282-1         퍼펙트  NaN  인천광역시  옹진군\n",
       "4      영업  인천광역시 옹진군 백령면 백령로 287, 1층        텔레파시  NaN  인천광역시  옹진군"
      ]
     },
     "execution_count": 46,
     "metadata": {},
     "output_type": "execute_result"
    }
   ],
   "source": [
    "# 데이터 불러오기\n",
    "alcohol_gg = pd.read_csv('data/인천경기_유흥업소.csv')\n",
    "\n",
    "alcohol_gg.head()"
   ]
  },
  {
   "cell_type": "code",
   "execution_count": 47,
   "metadata": {},
   "outputs": [],
   "source": [
    "# 중구 -> 인천중구 변경\n",
    "def change2(name):\n",
    "    if name == '중구':\n",
    "        return '인천중구'\n",
    "    return name\n",
    "\n",
    "alcohol_gg['구'] = alcohol_gg['시군구2'].apply(change2)"
   ]
  },
  {
   "cell_type": "code",
   "execution_count": 48,
   "metadata": {},
   "outputs": [],
   "source": [
    "# 사업장 수 카운트\n",
    "alcohol_gg2 = alcohol_gg.groupby(by='구', as_index=False).count()"
   ]
  },
  {
   "cell_type": "code",
   "execution_count": 49,
   "metadata": {},
   "outputs": [
    {
     "data": {
      "text/plain": [
       "Index(['구', '유흥업소 개수'], dtype='object')"
      ]
     },
     "execution_count": 49,
     "metadata": {},
     "output_type": "execute_result"
    }
   ],
   "source": [
    "# 사업장 수 컬럼만 남기기\n",
    "alcohol_gg2 = alcohol_gg2.drop(['상세영업상태명','도로명전체주소','시도','시군구2'], axis=1)\n",
    "alcohol_gg2.rename(columns={'사업장명':'유흥업소 개수'}, inplace=True)\n",
    "alcohol_gg2.columns"
   ]
  },
  {
   "cell_type": "code",
   "execution_count": 50,
   "metadata": {},
   "outputs": [
    {
     "data": {
      "text/html": [
       "<div>\n",
       "<style scoped>\n",
       "    .dataframe tbody tr th:only-of-type {\n",
       "        vertical-align: middle;\n",
       "    }\n",
       "\n",
       "    .dataframe tbody tr th {\n",
       "        vertical-align: top;\n",
       "    }\n",
       "\n",
       "    .dataframe thead th {\n",
       "        text-align: right;\n",
       "    }\n",
       "</style>\n",
       "<table border=\"1\" class=\"dataframe\">\n",
       "  <thead>\n",
       "    <tr style=\"text-align: right;\">\n",
       "      <th></th>\n",
       "      <th>구</th>\n",
       "      <th>유흥업소 개수</th>\n",
       "    </tr>\n",
       "  </thead>\n",
       "  <tbody>\n",
       "    <tr>\n",
       "      <th>21</th>\n",
       "      <td>안양시</td>\n",
       "      <td>338</td>\n",
       "    </tr>\n",
       "  </tbody>\n",
       "</table>\n",
       "</div>"
      ],
      "text/plain": [
       "      구  유흥업소 개수\n",
       "21  안양시      338"
      ]
     },
     "execution_count": 50,
     "metadata": {},
     "output_type": "execute_result"
    }
   ],
   "source": [
    "alcohol_gg2[alcohol_gg2['구'] =='안양시']"
   ]
  },
  {
   "cell_type": "code",
   "execution_count": 51,
   "metadata": {},
   "outputs": [
    {
     "data": {
      "text/html": [
       "<div>\n",
       "<style scoped>\n",
       "    .dataframe tbody tr th:only-of-type {\n",
       "        vertical-align: middle;\n",
       "    }\n",
       "\n",
       "    .dataframe tbody tr th {\n",
       "        vertical-align: top;\n",
       "    }\n",
       "\n",
       "    .dataframe thead th {\n",
       "        text-align: right;\n",
       "    }\n",
       "</style>\n",
       "<table border=\"1\" class=\"dataframe\">\n",
       "  <thead>\n",
       "    <tr style=\"text-align: right;\">\n",
       "      <th></th>\n",
       "      <th>시군구2</th>\n",
       "      <th>유흥업소 개수</th>\n",
       "    </tr>\n",
       "  </thead>\n",
       "  <tbody>\n",
       "    <tr>\n",
       "      <th>0</th>\n",
       "      <td>강남구</td>\n",
       "      <td>658</td>\n",
       "    </tr>\n",
       "    <tr>\n",
       "      <th>1</th>\n",
       "      <td>강동구</td>\n",
       "      <td>288</td>\n",
       "    </tr>\n",
       "    <tr>\n",
       "      <th>2</th>\n",
       "      <td>강북구</td>\n",
       "      <td>154</td>\n",
       "    </tr>\n",
       "    <tr>\n",
       "      <th>3</th>\n",
       "      <td>강서구</td>\n",
       "      <td>232</td>\n",
       "    </tr>\n",
       "    <tr>\n",
       "      <th>4</th>\n",
       "      <td>관악구</td>\n",
       "      <td>423</td>\n",
       "    </tr>\n",
       "  </tbody>\n",
       "</table>\n",
       "</div>"
      ],
      "text/plain": [
       "  시군구2  유흥업소 개수\n",
       "0  강남구      658\n",
       "1  강동구      288\n",
       "2  강북구      154\n",
       "3  강서구      232\n",
       "4  관악구      423"
      ]
     },
     "execution_count": 51,
     "metadata": {},
     "output_type": "execute_result"
    }
   ],
   "source": [
    "# 유흥업소 데이터 통합\n",
    "alcohol = pd.concat([alcohol_seoul2,alcohol_gg2], ignore_index=True)\n",
    "alcohol.rename(columns={'구':'시군구2'}, inplace=True)\n",
    "alcohol.head()"
   ]
  },
  {
   "cell_type": "markdown",
   "metadata": {},
   "source": [
    "### 🏃 활동량 데이터 전처리"
   ]
  },
  {
   "cell_type": "markdown",
   "metadata": {},
   "source": [
    "- 기준연월: 2020년 9월 (2021 데이터 없음)\n",
    "- 사용 변수: `시군구별 시설 수`,`인구 수` → 인당 시설 수 계산"
   ]
  },
  {
   "cell_type": "code",
   "execution_count": null,
   "metadata": {},
   "outputs": [
    {
     "data": {
      "text/html": [
       "<div>\n",
       "<style scoped>\n",
       "    .dataframe tbody tr th:only-of-type {\n",
       "        vertical-align: middle;\n",
       "    }\n",
       "\n",
       "    .dataframe tbody tr th {\n",
       "        vertical-align: top;\n",
       "    }\n",
       "\n",
       "    .dataframe thead th {\n",
       "        text-align: right;\n",
       "    }\n",
       "</style>\n",
       "<table border=\"1\" class=\"dataframe\">\n",
       "  <thead>\n",
       "    <tr style=\"text-align: right;\">\n",
       "      <th></th>\n",
       "      <th>기준연월</th>\n",
       "      <th>시도명</th>\n",
       "      <th>시군구명</th>\n",
       "      <th>시군구별시설수</th>\n",
       "      <th>시군구별인구수</th>\n",
       "      <th>인당시설수</th>\n",
       "      <th>시군구2</th>\n",
       "    </tr>\n",
       "  </thead>\n",
       "  <tbody>\n",
       "    <tr>\n",
       "      <th>0</th>\n",
       "      <td>202008</td>\n",
       "      <td>서울특별시</td>\n",
       "      <td>종로구</td>\n",
       "      <td>81</td>\n",
       "      <td>149962</td>\n",
       "      <td>0.00054</td>\n",
       "      <td>종로구</td>\n",
       "    </tr>\n",
       "    <tr>\n",
       "      <th>1</th>\n",
       "      <td>202008</td>\n",
       "      <td>서울특별시</td>\n",
       "      <td>중구</td>\n",
       "      <td>26</td>\n",
       "      <td>125990</td>\n",
       "      <td>0.00021</td>\n",
       "      <td>중구</td>\n",
       "    </tr>\n",
       "    <tr>\n",
       "      <th>2</th>\n",
       "      <td>202008</td>\n",
       "      <td>서울특별시</td>\n",
       "      <td>용산구</td>\n",
       "      <td>28</td>\n",
       "      <td>229362</td>\n",
       "      <td>0.00012</td>\n",
       "      <td>용산구</td>\n",
       "    </tr>\n",
       "    <tr>\n",
       "      <th>3</th>\n",
       "      <td>202008</td>\n",
       "      <td>서울특별시</td>\n",
       "      <td>성동구</td>\n",
       "      <td>28</td>\n",
       "      <td>296183</td>\n",
       "      <td>0.00009</td>\n",
       "      <td>성동구</td>\n",
       "    </tr>\n",
       "    <tr>\n",
       "      <th>4</th>\n",
       "      <td>202008</td>\n",
       "      <td>서울특별시</td>\n",
       "      <td>광진구</td>\n",
       "      <td>25</td>\n",
       "      <td>348647</td>\n",
       "      <td>0.00007</td>\n",
       "      <td>광진구</td>\n",
       "    </tr>\n",
       "  </tbody>\n",
       "</table>\n",
       "</div>"
      ],
      "text/plain": [
       "     기준연월    시도명 시군구명  시군구별시설수  시군구별인구수    인당시설수 시군구2\n",
       "0  202008  서울특별시  종로구       81   149962  0.00054  종로구\n",
       "1  202008  서울특별시   중구       26   125990  0.00021   중구\n",
       "2  202008  서울특별시  용산구       28   229362  0.00012  용산구\n",
       "3  202008  서울특별시  성동구       28   296183  0.00009  성동구\n",
       "4  202008  서울특별시  광진구       25   348647  0.00007  광진구"
      ]
     },
     "execution_count": 52,
     "metadata": {},
     "output_type": "execute_result"
    }
   ],
   "source": [
    "# 데이터 불러오기\n",
    "data4 = pd.read_csv('data/activity.csv', index_col=0)\n",
    "data4.head()"
   ]
  },
  {
   "cell_type": "code",
   "execution_count": 53,
   "metadata": {},
   "outputs": [
    {
     "data": {
      "text/html": [
       "<div>\n",
       "<style scoped>\n",
       "    .dataframe tbody tr th:only-of-type {\n",
       "        vertical-align: middle;\n",
       "    }\n",
       "\n",
       "    .dataframe tbody tr th {\n",
       "        vertical-align: top;\n",
       "    }\n",
       "\n",
       "    .dataframe thead th {\n",
       "        text-align: right;\n",
       "    }\n",
       "</style>\n",
       "<table border=\"1\" class=\"dataframe\">\n",
       "  <thead>\n",
       "    <tr style=\"text-align: right;\">\n",
       "      <th></th>\n",
       "      <th>기준연월</th>\n",
       "      <th>시도명</th>\n",
       "      <th>시군구명</th>\n",
       "      <th>시군구별시설수</th>\n",
       "      <th>시군구별인구수</th>\n",
       "      <th>인당시설수</th>\n",
       "      <th>시군구2</th>\n",
       "    </tr>\n",
       "  </thead>\n",
       "  <tbody>\n",
       "    <tr>\n",
       "      <th>229</th>\n",
       "      <td>202009</td>\n",
       "      <td>서울특별시</td>\n",
       "      <td>종로구</td>\n",
       "      <td>81</td>\n",
       "      <td>149952</td>\n",
       "      <td>0.00054</td>\n",
       "      <td>종로구</td>\n",
       "    </tr>\n",
       "    <tr>\n",
       "      <th>230</th>\n",
       "      <td>202009</td>\n",
       "      <td>서울특별시</td>\n",
       "      <td>중구</td>\n",
       "      <td>26</td>\n",
       "      <td>125800</td>\n",
       "      <td>0.00021</td>\n",
       "      <td>중구</td>\n",
       "    </tr>\n",
       "    <tr>\n",
       "      <th>231</th>\n",
       "      <td>202009</td>\n",
       "      <td>서울특별시</td>\n",
       "      <td>용산구</td>\n",
       "      <td>28</td>\n",
       "      <td>229786</td>\n",
       "      <td>0.00012</td>\n",
       "      <td>용산구</td>\n",
       "    </tr>\n",
       "    <tr>\n",
       "      <th>232</th>\n",
       "      <td>202009</td>\n",
       "      <td>서울특별시</td>\n",
       "      <td>성동구</td>\n",
       "      <td>28</td>\n",
       "      <td>295591</td>\n",
       "      <td>0.00009</td>\n",
       "      <td>성동구</td>\n",
       "    </tr>\n",
       "    <tr>\n",
       "      <th>233</th>\n",
       "      <td>202009</td>\n",
       "      <td>서울특별시</td>\n",
       "      <td>광진구</td>\n",
       "      <td>25</td>\n",
       "      <td>348064</td>\n",
       "      <td>0.00007</td>\n",
       "      <td>광진구</td>\n",
       "    </tr>\n",
       "    <tr>\n",
       "      <th>...</th>\n",
       "      <td>...</td>\n",
       "      <td>...</td>\n",
       "      <td>...</td>\n",
       "      <td>...</td>\n",
       "      <td>...</td>\n",
       "      <td>...</td>\n",
       "      <td>...</td>\n",
       "    </tr>\n",
       "    <tr>\n",
       "      <th>330</th>\n",
       "      <td>202009</td>\n",
       "      <td>경기도</td>\n",
       "      <td>포천시</td>\n",
       "      <td>102</td>\n",
       "      <td>147803</td>\n",
       "      <td>0.00069</td>\n",
       "      <td>포천시</td>\n",
       "    </tr>\n",
       "    <tr>\n",
       "      <th>331</th>\n",
       "      <td>202009</td>\n",
       "      <td>경기도</td>\n",
       "      <td>여주시</td>\n",
       "      <td>69</td>\n",
       "      <td>111512</td>\n",
       "      <td>0.00062</td>\n",
       "      <td>여주시</td>\n",
       "    </tr>\n",
       "    <tr>\n",
       "      <th>332</th>\n",
       "      <td>202009</td>\n",
       "      <td>경기도</td>\n",
       "      <td>연천군</td>\n",
       "      <td>78</td>\n",
       "      <td>43590</td>\n",
       "      <td>0.00179</td>\n",
       "      <td>연천군</td>\n",
       "    </tr>\n",
       "    <tr>\n",
       "      <th>333</th>\n",
       "      <td>202009</td>\n",
       "      <td>경기도</td>\n",
       "      <td>가평군</td>\n",
       "      <td>76</td>\n",
       "      <td>62551</td>\n",
       "      <td>0.00122</td>\n",
       "      <td>가평군</td>\n",
       "    </tr>\n",
       "    <tr>\n",
       "      <th>334</th>\n",
       "      <td>202009</td>\n",
       "      <td>경기도</td>\n",
       "      <td>양평군</td>\n",
       "      <td>92</td>\n",
       "      <td>118433</td>\n",
       "      <td>0.00078</td>\n",
       "      <td>양평군</td>\n",
       "    </tr>\n",
       "  </tbody>\n",
       "</table>\n",
       "<p>66 rows × 7 columns</p>\n",
       "</div>"
      ],
      "text/plain": [
       "       기준연월    시도명 시군구명  시군구별시설수  시군구별인구수    인당시설수 시군구2\n",
       "229  202009  서울특별시  종로구       81   149952  0.00054  종로구\n",
       "230  202009  서울특별시   중구       26   125800  0.00021   중구\n",
       "231  202009  서울특별시  용산구       28   229786  0.00012  용산구\n",
       "232  202009  서울특별시  성동구       28   295591  0.00009  성동구\n",
       "233  202009  서울특별시  광진구       25   348064  0.00007  광진구\n",
       "..      ...    ...  ...      ...      ...      ...  ...\n",
       "330  202009    경기도  포천시      102   147803  0.00069  포천시\n",
       "331  202009    경기도  여주시       69   111512  0.00062  여주시\n",
       "332  202009    경기도  연천군       78    43590  0.00179  연천군\n",
       "333  202009    경기도  가평군       76    62551  0.00122  가평군\n",
       "334  202009    경기도  양평군       92   118433  0.00078  양평군\n",
       "\n",
       "[66 rows x 7 columns]"
      ]
     },
     "execution_count": 53,
     "metadata": {},
     "output_type": "execute_result"
    }
   ],
   "source": [
    "# 9월 데이터만 추출\n",
    "act09 = data4[data4['기준연월'] == 202009]\n",
    "act09"
   ]
  },
  {
   "cell_type": "code",
   "execution_count": null,
   "metadata": {},
   "outputs": [],
   "source": [
    "# 시군구, 시도 컬럼명 변경\n",
    "act09.rename(columns={'시군구명':'시군구'}, inplace=True)\n",
    "act09.rename(columns={'시도명':'시도'}, inplace=True)"
   ]
  },
  {
   "cell_type": "code",
   "execution_count": null,
   "metadata": {},
   "outputs": [],
   "source": [
    "# 중복된 시군구명 행을 첫 행만 남기고 나머지 삭제\n",
    "act09 = act09.drop_duplicates(subset=['시군구'], keep='first')\n",
    "\n",
    "# 빈도 컬럼을 중복된 시군구명의 총합 대체\n",
    "list = ['시군구별시설수','시군구별인구수','인당시설수']\n",
    "act09[list] = act09.groupby('시군구')[list].transform('sum')\n",
    "\n",
    "# 중복된 시군구명 행을 다시 삭제하여 총합이 반영된 첫 행만 남기기\n",
    "act09 = act09.drop_duplicates(subset=['시군구'], keep='first')"
   ]
  },
  {
   "cell_type": "code",
   "execution_count": 56,
   "metadata": {},
   "outputs": [],
   "source": [
    "# 중구 중복 처리\n",
    "act09.loc[(act09['시도']=='서울특별시')&(act09['시군구']=='중구'), '시군구'] = '서울중구'\n",
    "act09.loc[(act09['시도']=='인천광역시')&(act09['시군구']=='중구'), '시군구'] = '인천중구'"
   ]
  },
  {
   "cell_type": "code",
   "execution_count": 57,
   "metadata": {},
   "outputs": [
    {
     "name": "stdout",
     "output_type": "stream",
     "text": [
      "시군구 고유값입니다.\n"
     ]
    }
   ],
   "source": [
    "# 시군구 고유값인지 확인\n",
    "if (act09['시군구2'].value_counts() > 1).any():\n",
    "    print('시군구 고유값이 아닙니다.')\n",
    "else:\n",
    "    print('시군구 고유값입니다.')"
   ]
  },
  {
   "cell_type": "code",
   "execution_count": 58,
   "metadata": {},
   "outputs": [],
   "source": [
    "act09.drop(columns=['시군구'], inplace=True)"
   ]
  },
  {
   "cell_type": "markdown",
   "metadata": {},
   "source": [
    "### 🚨 범죄율 데이터 전처리"
   ]
  },
  {
   "cell_type": "markdown",
   "metadata": {},
   "source": [
    "- 사용 변수: `총신고수`\n",
    "- 불필요한 신고 항목 컬럼 제거\n",
    "- 기준 년도: 2020 "
   ]
  },
  {
   "cell_type": "code",
   "execution_count": null,
   "metadata": {},
   "outputs": [
    {
     "data": {
      "text/html": [
       "<div>\n",
       "<style scoped>\n",
       "    .dataframe tbody tr th:only-of-type {\n",
       "        vertical-align: middle;\n",
       "    }\n",
       "\n",
       "    .dataframe tbody tr th {\n",
       "        vertical-align: top;\n",
       "    }\n",
       "\n",
       "    .dataframe thead th {\n",
       "        text-align: right;\n",
       "    }\n",
       "</style>\n",
       "<table border=\"1\" class=\"dataframe\">\n",
       "  <thead>\n",
       "    <tr style=\"text-align: right;\">\n",
       "      <th></th>\n",
       "      <th>신고년도</th>\n",
       "      <th>시도</th>\n",
       "      <th>시군구</th>\n",
       "      <th>총신고수</th>\n",
       "      <th>가정폭력신고수</th>\n",
       "      <th>데이트폭력신고수</th>\n",
       "      <th>성폭력신고수</th>\n",
       "      <th>몰래카메라신고수</th>\n",
       "      <th>살인신고수</th>\n",
       "      <th>강도신고수</th>\n",
       "      <th>절도신고수</th>\n",
       "      <th>폭력신고수</th>\n",
       "    </tr>\n",
       "  </thead>\n",
       "  <tbody>\n",
       "    <tr>\n",
       "      <th>0</th>\n",
       "      <td>2020</td>\n",
       "      <td>경기도</td>\n",
       "      <td>가평군</td>\n",
       "      <td>1141</td>\n",
       "      <td>184</td>\n",
       "      <td>59</td>\n",
       "      <td>28</td>\n",
       "      <td>0</td>\n",
       "      <td>0</td>\n",
       "      <td>2</td>\n",
       "      <td>273</td>\n",
       "      <td>595</td>\n",
       "    </tr>\n",
       "    <tr>\n",
       "      <th>1</th>\n",
       "      <td>2020</td>\n",
       "      <td>경기도</td>\n",
       "      <td>고양시</td>\n",
       "      <td>26557</td>\n",
       "      <td>6148</td>\n",
       "      <td>845</td>\n",
       "      <td>648</td>\n",
       "      <td>9</td>\n",
       "      <td>12</td>\n",
       "      <td>10</td>\n",
       "      <td>5746</td>\n",
       "      <td>13175</td>\n",
       "    </tr>\n",
       "    <tr>\n",
       "      <th>2</th>\n",
       "      <td>2020</td>\n",
       "      <td>경기도</td>\n",
       "      <td>과천시</td>\n",
       "      <td>603</td>\n",
       "      <td>165</td>\n",
       "      <td>7</td>\n",
       "      <td>24</td>\n",
       "      <td>0</td>\n",
       "      <td>0</td>\n",
       "      <td>0</td>\n",
       "      <td>183</td>\n",
       "      <td>224</td>\n",
       "    </tr>\n",
       "    <tr>\n",
       "      <th>3</th>\n",
       "      <td>2020</td>\n",
       "      <td>경기도</td>\n",
       "      <td>광명시</td>\n",
       "      <td>26100</td>\n",
       "      <td>6314</td>\n",
       "      <td>1080</td>\n",
       "      <td>666</td>\n",
       "      <td>0</td>\n",
       "      <td>2</td>\n",
       "      <td>20</td>\n",
       "      <td>6100</td>\n",
       "      <td>11918</td>\n",
       "    </tr>\n",
       "    <tr>\n",
       "      <th>4</th>\n",
       "      <td>2020</td>\n",
       "      <td>경기도</td>\n",
       "      <td>광주시</td>\n",
       "      <td>6238</td>\n",
       "      <td>2260</td>\n",
       "      <td>253</td>\n",
       "      <td>111</td>\n",
       "      <td>1</td>\n",
       "      <td>0</td>\n",
       "      <td>0</td>\n",
       "      <td>1283</td>\n",
       "      <td>2331</td>\n",
       "    </tr>\n",
       "  </tbody>\n",
       "</table>\n",
       "</div>"
      ],
      "text/plain": [
       "   신고년도   시도  시군구   총신고수  가정폭력신고수  데이트폭력신고수  성폭력신고수  몰래카메라신고수  살인신고수  강도신고수  \\\n",
       "0  2020  경기도  가평군   1141      184        59      28         0      0      2   \n",
       "1  2020  경기도  고양시  26557     6148       845     648         9     12     10   \n",
       "2  2020  경기도  과천시    603      165         7      24         0      0      0   \n",
       "3  2020  경기도  광명시  26100     6314      1080     666         0      2     20   \n",
       "4  2020  경기도  광주시   6238     2260       253     111         1      0      0   \n",
       "\n",
       "   절도신고수  폭력신고수  \n",
       "0    273    595  \n",
       "1   5746  13175  \n",
       "2    183    224  \n",
       "3   6100  11918  \n",
       "4   1283   2331  "
      ]
     },
     "execution_count": 60,
     "metadata": {},
     "output_type": "execute_result"
    }
   ],
   "source": [
    "data5 = pd.read_csv('data/범죄 빈발지 데이터 2020.csv',encoding='cp949')\n",
    "data5.head()"
   ]
  },
  {
   "cell_type": "code",
   "execution_count": 61,
   "metadata": {},
   "outputs": [],
   "source": [
    "# 중구 중복 처리\n",
    "data5.loc[(data5['시도']=='서울특별시')&(data5['시군구']=='중구'), '시군구'] = '서울중구'\n",
    "data5.loc[(data5['시도']=='인천광역시')&(data5['시군구']=='중구'), '시군구'] = '인천중구'"
   ]
  },
  {
   "cell_type": "code",
   "execution_count": 62,
   "metadata": {},
   "outputs": [],
   "source": [
    "# 총신고수 제외 컬럼 삭제\n",
    "data5 = data5[['시군구', '총신고수']]\n",
    "data5.rename(columns={'시군구': '시군구2'}, inplace=True)"
   ]
  },
  {
   "cell_type": "markdown",
   "metadata": {},
   "source": [
    "### 🚗 교통량 데이터 전처리"
   ]
  },
  {
   "cell_type": "markdown",
   "metadata": {},
   "source": [
    "- 22시 ~ 06시 시간대 필터링(야간 통행량만 계산)\n",
    "- 유입 교통량 평균 → `유입야간교통량` 컬럼 생성"
   ]
  },
  {
   "cell_type": "code",
   "execution_count": null,
   "metadata": {},
   "outputs": [
    {
     "data": {
      "text/html": [
       "<div>\n",
       "<style scoped>\n",
       "    .dataframe tbody tr th:only-of-type {\n",
       "        vertical-align: middle;\n",
       "    }\n",
       "\n",
       "    .dataframe tbody tr th {\n",
       "        vertical-align: top;\n",
       "    }\n",
       "\n",
       "    .dataframe thead th {\n",
       "        text-align: right;\n",
       "    }\n",
       "</style>\n",
       "<table border=\"1\" class=\"dataframe\">\n",
       "  <thead>\n",
       "    <tr style=\"text-align: right;\">\n",
       "      <th></th>\n",
       "      <th>도로명</th>\n",
       "      <th>구 이름</th>\n",
       "      <th>유입야간교통량평균</th>\n",
       "    </tr>\n",
       "  </thead>\n",
       "  <tbody>\n",
       "    <tr>\n",
       "      <th>0</th>\n",
       "      <td>A-01  성산로(금화터널</td>\n",
       "      <td>서대문구</td>\n",
       "      <td>746.545455</td>\n",
       "    </tr>\n",
       "    <tr>\n",
       "      <th>1</th>\n",
       "      <td>A-02  사직로(사직터널</td>\n",
       "      <td>종로구</td>\n",
       "      <td>867.636364</td>\n",
       "    </tr>\n",
       "    <tr>\n",
       "      <th>2</th>\n",
       "      <td>A-03  자하문로(자하문터널</td>\n",
       "      <td>종로구</td>\n",
       "      <td>347.454545</td>\n",
       "    </tr>\n",
       "    <tr>\n",
       "      <th>3</th>\n",
       "      <td>A-04  대사관로(삼청터널</td>\n",
       "      <td>성북구</td>\n",
       "      <td>80.545455</td>\n",
       "    </tr>\n",
       "    <tr>\n",
       "      <th>4</th>\n",
       "      <td>A-05  율곡로(안국역</td>\n",
       "      <td>종로구</td>\n",
       "      <td>695.909091</td>\n",
       "    </tr>\n",
       "  </tbody>\n",
       "</table>\n",
       "</div>"
      ],
      "text/plain": [
       "                도로명  구 이름   유입야간교통량평균\n",
       "0    A-01  성산로(금화터널  서대문구  746.545455\n",
       "1    A-02  사직로(사직터널   종로구  867.636364\n",
       "2  A-03  자하문로(자하문터널   종로구  347.454545\n",
       "3   A-04  대사관로(삼청터널   성북구   80.545455\n",
       "4     A-05  율곡로(안국역   종로구  695.909091"
      ]
     },
     "execution_count": 67,
     "metadata": {},
     "output_type": "execute_result"
    }
   ],
   "source": [
    "# 데이터 불러오기\n",
    "data6 = pd.read_csv('data/야간교통량 평균.csv')\n",
    "data6.head()"
   ]
  },
  {
   "cell_type": "code",
   "execution_count": 68,
   "metadata": {},
   "outputs": [],
   "source": [
    "data6.loc[data6['구 이름']=='중구','구 이름'] = '서울중구'"
   ]
  },
  {
   "cell_type": "code",
   "execution_count": 69,
   "metadata": {},
   "outputs": [],
   "source": [
    "data6 = data6.groupby(by='구 이름',as_index=False)['유입야간교통량평균'].mean()"
   ]
  },
  {
   "cell_type": "code",
   "execution_count": 70,
   "metadata": {},
   "outputs": [],
   "source": [
    "# 구이름 -> 시군구 컬럼명 변경\n",
    "data6.rename(columns={'구 이름':'시군구2'}, inplace=True)"
   ]
  },
  {
   "cell_type": "markdown",
   "metadata": {},
   "source": [
    "### 💰 공시지가 데이터 전처리"
   ]
  },
  {
   "cell_type": "markdown",
   "metadata": {},
   "source": [
    "- 시군구 기준으로 평균 공시지가 계산\n",
    "- 주거지역 필터링"
   ]
  },
  {
   "cell_type": "code",
   "execution_count": null,
   "metadata": {},
   "outputs": [
    {
     "data": {
      "text/html": [
       "<div>\n",
       "<style scoped>\n",
       "    .dataframe tbody tr th:only-of-type {\n",
       "        vertical-align: middle;\n",
       "    }\n",
       "\n",
       "    .dataframe tbody tr th {\n",
       "        vertical-align: top;\n",
       "    }\n",
       "\n",
       "    .dataframe thead th {\n",
       "        text-align: right;\n",
       "    }\n",
       "</style>\n",
       "<table border=\"1\" class=\"dataframe\">\n",
       "  <thead>\n",
       "    <tr style=\"text-align: right;\">\n",
       "      <th></th>\n",
       "      <th>시군구명</th>\n",
       "      <th>공시지가</th>\n",
       "      <th>공시지가2</th>\n",
       "    </tr>\n",
       "  </thead>\n",
       "  <tbody>\n",
       "    <tr>\n",
       "      <th>0</th>\n",
       "      <td>가평군</td>\n",
       "      <td>1.425912e+05</td>\n",
       "      <td>0.008486</td>\n",
       "    </tr>\n",
       "    <tr>\n",
       "      <th>1</th>\n",
       "      <td>강남구</td>\n",
       "      <td>1.680318e+07</td>\n",
       "      <td>1.000000</td>\n",
       "    </tr>\n",
       "    <tr>\n",
       "      <th>2</th>\n",
       "      <td>강동구</td>\n",
       "      <td>5.667941e+06</td>\n",
       "      <td>0.337314</td>\n",
       "    </tr>\n",
       "    <tr>\n",
       "      <th>3</th>\n",
       "      <td>강북구</td>\n",
       "      <td>3.519811e+06</td>\n",
       "      <td>0.209473</td>\n",
       "    </tr>\n",
       "    <tr>\n",
       "      <th>4</th>\n",
       "      <td>강서구</td>\n",
       "      <td>4.261157e+06</td>\n",
       "      <td>0.253592</td>\n",
       "    </tr>\n",
       "  </tbody>\n",
       "</table>\n",
       "</div>"
      ],
      "text/plain": [
       "  시군구명          공시지가     공시지가2\n",
       "0  가평군  1.425912e+05  0.008486\n",
       "1  강남구  1.680318e+07  1.000000\n",
       "2  강동구  5.667941e+06  0.337314\n",
       "3  강북구  3.519811e+06  0.209473\n",
       "4  강서구  4.261157e+06  0.253592"
      ]
     },
     "execution_count": 72,
     "metadata": {},
     "output_type": "execute_result"
    }
   ],
   "source": [
    "data7 = pd.read_csv('data/공시지가_수정.csv', encoding='cp949')\n",
    "data7.head()"
   ]
  },
  {
   "cell_type": "code",
   "execution_count": 73,
   "metadata": {},
   "outputs": [],
   "source": [
    "# 시군구명 -> 시군구로 컬럼명 변경\n",
    "data7.rename(columns={'시군구명':'시군구2'}, inplace=True)"
   ]
  },
  {
   "cell_type": "markdown",
   "metadata": {},
   "source": [
    "## 데이터 병합"
   ]
  },
  {
   "cell_type": "markdown",
   "metadata": {},
   "source": [
    "- 기준: 수면장애 데이터의 시군구\n",
    "- 방식: left merge\n",
    "- 병합 후 결측치 확인 및 간단한 처리"
   ]
  },
  {
   "cell_type": "code",
   "execution_count": 74,
   "metadata": {},
   "outputs": [],
   "source": [
    "data3.drop(columns=['시도'], inplace=True)\n",
    "data2.drop(columns=['시도'], inplace=True)\n",
    "act09.drop(columns=['시도'], inplace=True)"
   ]
  },
  {
   "cell_type": "code",
   "execution_count": 75,
   "metadata": {},
   "outputs": [
    {
     "data": {
      "text/html": [
       "<div>\n",
       "<style scoped>\n",
       "    .dataframe tbody tr th:only-of-type {\n",
       "        vertical-align: middle;\n",
       "    }\n",
       "\n",
       "    .dataframe tbody tr th {\n",
       "        vertical-align: top;\n",
       "    }\n",
       "\n",
       "    .dataframe thead th {\n",
       "        text-align: right;\n",
       "    }\n",
       "</style>\n",
       "<table border=\"1\" class=\"dataframe\">\n",
       "  <thead>\n",
       "    <tr style=\"text-align: right;\">\n",
       "      <th></th>\n",
       "      <th>주상병명</th>\n",
       "      <th>시도</th>\n",
       "      <th>시군구_x</th>\n",
       "      <th>진료인원(명)</th>\n",
       "      <th>시군구2</th>\n",
       "      <th>시군구_y</th>\n",
       "      <th>1세대 가구</th>\n",
       "      <th>1인 가구</th>\n",
       "      <th>2세대 가구</th>\n",
       "      <th>3세대 가구</th>\n",
       "      <th>...</th>\n",
       "      <th>평균주문금액</th>\n",
       "      <th>유흥업소 개수</th>\n",
       "      <th>기준연월</th>\n",
       "      <th>시군구별시설수</th>\n",
       "      <th>시군구별인구수</th>\n",
       "      <th>인당시설수</th>\n",
       "      <th>총신고수</th>\n",
       "      <th>유입야간교통량평균</th>\n",
       "      <th>공시지가</th>\n",
       "      <th>공시지가2</th>\n",
       "    </tr>\n",
       "  </thead>\n",
       "  <tbody>\n",
       "    <tr>\n",
       "      <th>0</th>\n",
       "      <td>비기질성 수면장애</td>\n",
       "      <td>서울특별시</td>\n",
       "      <td>종로구</td>\n",
       "      <td>1202.0</td>\n",
       "      <td>종로구</td>\n",
       "      <td>종로구</td>\n",
       "      <td>348.633333</td>\n",
       "      <td>5198.666667</td>\n",
       "      <td>507.567407</td>\n",
       "      <td>119.103333</td>\n",
       "      <td>...</td>\n",
       "      <td>24024.285714</td>\n",
       "      <td>439.0</td>\n",
       "      <td>202009.0</td>\n",
       "      <td>81.0</td>\n",
       "      <td>149952.0</td>\n",
       "      <td>0.00054</td>\n",
       "      <td>6834.0</td>\n",
       "      <td>524.102273</td>\n",
       "      <td>9.045009e+06</td>\n",
       "      <td>0.538291</td>\n",
       "    </tr>\n",
       "    <tr>\n",
       "      <th>1</th>\n",
       "      <td>비기질성 수면장애</td>\n",
       "      <td>서울특별시</td>\n",
       "      <td>서울중구</td>\n",
       "      <td>1280.0</td>\n",
       "      <td>서울중구</td>\n",
       "      <td>서울중구</td>\n",
       "      <td>314.186667</td>\n",
       "      <td>4565.666667</td>\n",
       "      <td>427.126667</td>\n",
       "      <td>94.586667</td>\n",
       "      <td>...</td>\n",
       "      <td>27154.801724</td>\n",
       "      <td>656.0</td>\n",
       "      <td>NaN</td>\n",
       "      <td>NaN</td>\n",
       "      <td>NaN</td>\n",
       "      <td>NaN</td>\n",
       "      <td>10584.0</td>\n",
       "      <td>441.578512</td>\n",
       "      <td>1.399032e+07</td>\n",
       "      <td>0.832600</td>\n",
       "    </tr>\n",
       "    <tr>\n",
       "      <th>2</th>\n",
       "      <td>비기질성 수면장애</td>\n",
       "      <td>서울특별시</td>\n",
       "      <td>용산구</td>\n",
       "      <td>1955.0</td>\n",
       "      <td>용산구</td>\n",
       "      <td>용산구</td>\n",
       "      <td>553.745556</td>\n",
       "      <td>7378.266667</td>\n",
       "      <td>792.157778</td>\n",
       "      <td>158.685000</td>\n",
       "      <td>...</td>\n",
       "      <td>26419.737778</td>\n",
       "      <td>88.0</td>\n",
       "      <td>202009.0</td>\n",
       "      <td>28.0</td>\n",
       "      <td>229786.0</td>\n",
       "      <td>0.00012</td>\n",
       "      <td>6923.0</td>\n",
       "      <td>901.952273</td>\n",
       "      <td>9.666904e+06</td>\n",
       "      <td>0.575302</td>\n",
       "    </tr>\n",
       "    <tr>\n",
       "      <th>3</th>\n",
       "      <td>비기질성 수면장애</td>\n",
       "      <td>서울특별시</td>\n",
       "      <td>성동구</td>\n",
       "      <td>2256.0</td>\n",
       "      <td>성동구</td>\n",
       "      <td>성동구</td>\n",
       "      <td>712.411111</td>\n",
       "      <td>8519.066667</td>\n",
       "      <td>1135.387407</td>\n",
       "      <td>228.603333</td>\n",
       "      <td>...</td>\n",
       "      <td>19055.000000</td>\n",
       "      <td>33.0</td>\n",
       "      <td>202009.0</td>\n",
       "      <td>28.0</td>\n",
       "      <td>295591.0</td>\n",
       "      <td>0.00009</td>\n",
       "      <td>6164.0</td>\n",
       "      <td>838.563636</td>\n",
       "      <td>6.484237e+06</td>\n",
       "      <td>0.385893</td>\n",
       "    </tr>\n",
       "    <tr>\n",
       "      <th>4</th>\n",
       "      <td>비기질성 수면장애</td>\n",
       "      <td>서울특별시</td>\n",
       "      <td>광진구</td>\n",
       "      <td>2351.0</td>\n",
       "      <td>광진구</td>\n",
       "      <td>광진구</td>\n",
       "      <td>772.342222</td>\n",
       "      <td>12462.266667</td>\n",
       "      <td>1296.900000</td>\n",
       "      <td>247.738333</td>\n",
       "      <td>...</td>\n",
       "      <td>NaN</td>\n",
       "      <td>26.0</td>\n",
       "      <td>202009.0</td>\n",
       "      <td>25.0</td>\n",
       "      <td>348064.0</td>\n",
       "      <td>0.00007</td>\n",
       "      <td>18288.0</td>\n",
       "      <td>868.400000</td>\n",
       "      <td>5.778178e+06</td>\n",
       "      <td>0.343874</td>\n",
       "    </tr>\n",
       "  </tbody>\n",
       "</table>\n",
       "<p>5 rows × 23 columns</p>\n",
       "</div>"
      ],
      "text/plain": [
       "        주상병명     시도 시군구_x  진료인원(명)  시군구2 시군구_y      1세대 가구         1인 가구  \\\n",
       "0  비기질성 수면장애  서울특별시   종로구   1202.0   종로구   종로구  348.633333   5198.666667   \n",
       "1  비기질성 수면장애  서울특별시  서울중구   1280.0  서울중구  서울중구  314.186667   4565.666667   \n",
       "2  비기질성 수면장애  서울특별시   용산구   1955.0   용산구   용산구  553.745556   7378.266667   \n",
       "3  비기질성 수면장애  서울특별시   성동구   2256.0   성동구   성동구  712.411111   8519.066667   \n",
       "4  비기질성 수면장애  서울특별시   광진구   2351.0   광진구   광진구  772.342222  12462.266667   \n",
       "\n",
       "        2세대 가구      3세대 가구  ...        평균주문금액  유흥업소 개수      기준연월  시군구별시설수  \\\n",
       "0   507.567407  119.103333  ...  24024.285714    439.0  202009.0     81.0   \n",
       "1   427.126667   94.586667  ...  27154.801724    656.0       NaN      NaN   \n",
       "2   792.157778  158.685000  ...  26419.737778     88.0  202009.0     28.0   \n",
       "3  1135.387407  228.603333  ...  19055.000000     33.0  202009.0     28.0   \n",
       "4  1296.900000  247.738333  ...           NaN     26.0  202009.0     25.0   \n",
       "\n",
       "    시군구별인구수    인당시설수     총신고수   유입야간교통량평균          공시지가     공시지가2  \n",
       "0  149952.0  0.00054   6834.0  524.102273  9.045009e+06  0.538291  \n",
       "1       NaN      NaN  10584.0  441.578512  1.399032e+07  0.832600  \n",
       "2  229786.0  0.00012   6923.0  901.952273  9.666904e+06  0.575302  \n",
       "3  295591.0  0.00009   6164.0  838.563636  6.484237e+06  0.385893  \n",
       "4  348064.0  0.00007  18288.0  868.400000  5.778178e+06  0.343874  \n",
       "\n",
       "[5 rows x 23 columns]"
      ]
     },
     "execution_count": 75,
     "metadata": {},
     "output_type": "execute_result"
    }
   ],
   "source": [
    "# 데이터 병합\n",
    "data_merge = pd.merge(data, data2, on='시군구2', how='left').merge(data3, on='시군구2', how='left')\n",
    "data_merge = pd.merge(data_merge, alcohol, on='시군구2', how='left')\n",
    "data_merge = pd.merge(data_merge, act09, on='시군구2', how='left')\n",
    "data_merge = pd.merge(data_merge, data5, on='시군구2', how='left')\n",
    "data_merge = pd.merge(data_merge, data6, on='시군구2', how='left')\n",
    "data_merge = pd.merge(data_merge, data7, on='시군구2', how='left')\n",
    "\n",
    "# 병합된 데이터 확인\n",
    "data_merge.head()"
   ]
  },
  {
   "cell_type": "code",
   "execution_count": 76,
   "metadata": {},
   "outputs": [],
   "source": [
    "# 중복 시군구 행 삭제\n",
    "data_merge.drop(columns=['시군구_x','시군구_y','시군구','기준연월'], inplace=True)"
   ]
  },
  {
   "cell_type": "code",
   "execution_count": null,
   "metadata": {},
   "outputs": [],
   "source": [
    "# 데이터 저장\n",
    "data_merge.to_csv('data/통합데이터.csv', index=False)"
   ]
  }
 ],
 "metadata": {
  "kernelspec": {
   "display_name": "Python 3",
   "language": "python",
   "name": "python3"
  },
  "language_info": {
   "codemirror_mode": {
    "name": "ipython",
    "version": 3
   },
   "file_extension": ".py",
   "mimetype": "text/x-python",
   "name": "python",
   "nbconvert_exporter": "python",
   "pygments_lexer": "ipython3",
   "version": "3.11.9"
  }
 },
 "nbformat": 4,
 "nbformat_minor": 2
}
